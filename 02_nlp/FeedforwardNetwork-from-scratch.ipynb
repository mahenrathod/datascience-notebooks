{
 "cells": [
  {
   "cell_type": "markdown",
   "id": "2a75b7aa",
   "metadata": {},
   "source": [
    "# Feedforward Neural Network from scratch for Text Classification"
   ]
  },
  {
   "cell_type": "markdown",
   "id": "7eb3d653",
   "metadata": {},
   "source": [
    "### Contents\n",
    "\n",
    "1. Goal\n",
    "2. Approach\n",
    "3. Dataset"
   ]
  },
  {
   "cell_type": "markdown",
   "id": "7d3b673e",
   "metadata": {},
   "source": [
    "### 1. Goal\n",
    "\n",
    "- The goal of this notebook is to develop a Feedforward Neural Netowork from scratch for text classification.\n",
    "\n"
   ]
  },
  {
   "cell_type": "markdown",
   "id": "9ac2f7db",
   "metadata": {},
   "source": [
    "### 2. Approach\n",
    "\n",
    "- Transform raw text data into input vectors\n",
    "\n",
    "\n",
    "- Feedforward network with\n",
    "    - Input: Embedding weight matrix\n",
    "    - Interim: Hidden layer(S)\n",
    "    - Output: softmax\n",
    "    \n",
    "    \n",
    "- Stochastic Gradient Descent (SGD) algorithm with\n",
    "    - Forward pass to compute intermediate outputs\n",
    "    - Backward pass (Backpropagation) to compute gradients and update weights of the network\n",
    "    - Dropout for regularisation\n",
    "    - Perform hyperparater tuning\n",
    "        - dropout rate\n",
    "        - embedding size\n",
    "        - Learning rate\n",
    "    - Plot the learning process\n",
    "        - training loss\n",
    "        - validation loss\n",
    "        \n",
    "        \n",
    "- Pre-trained word embeddings (GloVe)\n",
    "    - Reinitialise network weights with pre-trained word embeddings from GloVe\n",
    "    - Don't update weight during training (weight freezing, NO backpropagation)\n",
    "    - Perform hyperparameter tuning\n",
    "    - Plot the learning process\n",
    "    \n",
    "    \n",
    "- More hidden layers\n"
   ]
  },
  {
   "cell_type": "markdown",
   "id": "3660df89",
   "metadata": {},
   "source": [
    "### 3. Dataset\n",
    "\n",
    "#### AG News Corpus\n",
    "- The data taken from [AG News Corpus](http://groups.di.unipi.it/~gulli/AG_corpus_of_news_articles.html).\n",
    "    \n",
    "    - Create folder structure as `./data_topic` with below files:\n",
    "        - `data_topic/train.csv`: contains 2,400 news articles, 800 for each class to be used for training.\n",
    "        - `data_topic/dev.csv`: contains 150 news articles, 50 for each class to be used for hyperparameter selection and monitoring the training process.\n",
    "        - `data_topic/test.csv`: contains 900 news articles, 300 for each class to be used for testing.\n",
    "\n",
    "#### GloVe Embeddings\n",
    "\n",
    "- The pre-trained GloVe embeddings trained on Common Crawl (840B tokens, 2.2M vocab, cased, 300d vectors, 2.03 GB download) is downloaded from [here](http://nlp.stanford.edu/data/glove.840B.300d.zip).\n"
   ]
  },
  {
   "cell_type": "code",
   "execution_count": null,
   "id": "68f3e770",
   "metadata": {},
   "outputs": [],
   "source": []
  }
 ],
 "metadata": {
  "kernelspec": {
   "display_name": "Python 3",
   "language": "python",
   "name": "python3"
  },
  "language_info": {
   "codemirror_mode": {
    "name": "ipython",
    "version": 3
   },
   "file_extension": ".py",
   "mimetype": "text/x-python",
   "name": "python",
   "nbconvert_exporter": "python",
   "pygments_lexer": "ipython3",
   "version": "3.8.8"
  }
 },
 "nbformat": 4,
 "nbformat_minor": 5
}
