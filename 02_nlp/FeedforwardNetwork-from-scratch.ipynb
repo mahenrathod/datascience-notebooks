{
 "cells": [
  {
   "cell_type": "markdown",
   "id": "15adaacf",
   "metadata": {},
   "source": [
    "# Feedforward Neural Network from scratch for Text Classification"
   ]
  },
  {
   "cell_type": "markdown",
   "id": "2bfb4be5",
   "metadata": {},
   "source": [
    "### Contents\n",
    "\n",
    "1. Goal\n",
    "2. Approach\n",
    "3. Dataset"
   ]
  },
  {
   "cell_type": "markdown",
   "id": "31dfc91e",
   "metadata": {},
   "source": [
    "### 1. Goal\n",
    "\n",
    "- The goal of this notebook is to develop a Feedforward Neural Netowork from scratch for text classification.\n",
    "\n"
   ]
  },
  {
   "cell_type": "markdown",
   "id": "d41bb332",
   "metadata": {},
   "source": [
    "### 2. Approach\n",
    "\n",
    "- Transform raw text data into input vectors\n",
    "\n",
    "\n",
    "- Implement Feedforward network with\n",
    "    - Input: Embedding weight matrix\n",
    "    - Interim: Hidden layer(S)\n",
    "    - Output: softmax\n",
    "    \n",
    "    \n",
    "- Implement Stochastic Gradient Descent (SGD) algorithm with\n",
    "    - Forward pass to compute intermediate outputs\n",
    "    - Backward pass (Backpropagation) to compute gradients and update weights of the network\n",
    "    - Dropout for regularisation\n",
    "    - Perform hyperparater tuning\n",
    "        - dropout rate\n",
    "        - embedding size\n",
    "        - Learning rate\n",
    "    - Plot the learning process\n",
    "        - training loss\n",
    "        - validation loss\n",
    "        \n",
    "        \n",
    "- Implement pre-trained word embeddings (GloVe)\n",
    "    - Reinitialise network weights with pre-trained word embeddings from GloVe\n",
    "    - Don't update weight during training (weight freezing, NO backpropagation)\n",
    "    - Perform hyperparameter tuning\n",
    "    - Plot the learning process\n",
    "    \n",
    "    \n",
    "- Implement More hidden layers\n"
   ]
  },
  {
   "cell_type": "markdown",
   "id": "e3ade1b4",
   "metadata": {},
   "source": [
    "### 3. Dataset\n",
    "\n",
    "#### AG News Corpus\n",
    "- The data is taken from [AG News Corpus](http://groups.di.unipi.it/~gulli/AG_corpus_of_news_articles.html).\n",
    "    - Created folder structure:\n",
    "        - `data/train.csv`: contains 2,400 news articles, 800 for each class to be used for training.\n",
    "        - `data/dev.csv`: contains 150 news articles, 50 for each class to be used for hyperparameter selection and monitoring the training process.\n",
    "        - `data/test.csv`: contains 900 news articles, 300 for each class to be used for testing.\n",
    "\n",
    "#### GloVe Embeddings\n",
    "\n",
    "- The pre-trained GloVe embeddings trained on Common Crawl (840B tokens, 2.2M vocab, cased, 300d vectors, 2.03 GB download) is available from [here](http://nlp.stanford.edu/data/glove.840B.300d.zip).\n"
   ]
  },
  {
   "cell_type": "code",
   "execution_count": 1,
   "id": "c9982015",
   "metadata": {},
   "outputs": [
    {
     "name": "stdout",
     "output_type": "stream",
     "text": [
      "Requirement already satisfied: matplotlib==3.3.2 in /opt/anaconda3/lib/python3.8/site-packages (3.3.2)\n",
      "Requirement already satisfied: numpy>=1.15 in /opt/anaconda3/lib/python3.8/site-packages (from matplotlib==3.3.2) (1.19.5)\n",
      "Requirement already satisfied: pillow>=6.2.0 in /opt/anaconda3/lib/python3.8/site-packages (from matplotlib==3.3.2) (8.2.0)\n",
      "Requirement already satisfied: pyparsing!=2.0.4,!=2.1.2,!=2.1.6,>=2.0.3 in /opt/anaconda3/lib/python3.8/site-packages (from matplotlib==3.3.2) (2.4.7)\n",
      "Requirement already satisfied: python-dateutil>=2.1 in /opt/anaconda3/lib/python3.8/site-packages (from matplotlib==3.3.2) (2.8.1)\n",
      "Requirement already satisfied: kiwisolver>=1.0.1 in /opt/anaconda3/lib/python3.8/site-packages (from matplotlib==3.3.2) (1.3.1)\n",
      "Requirement already satisfied: certifi>=2020.06.20 in /opt/anaconda3/lib/python3.8/site-packages (from matplotlib==3.3.2) (2021.10.8)\n",
      "Requirement already satisfied: cycler>=0.10 in /opt/anaconda3/lib/python3.8/site-packages (from matplotlib==3.3.2) (0.10.0)\n",
      "Requirement already satisfied: six in /opt/anaconda3/lib/python3.8/site-packages (from cycler>=0.10->matplotlib==3.3.2) (1.15.0)\n"
     ]
    }
   ],
   "source": [
    "!pip install matplotlib==3.3.2"
   ]
  },
  {
   "cell_type": "code",
   "execution_count": 2,
   "id": "32f378f3",
   "metadata": {},
   "outputs": [],
   "source": [
    "# Important python libraries\n",
    "\n",
    "import pandas as pd\n",
    "import numpy as np\n",
    "import random\n",
    "import re\n",
    "from collections import Counter\n",
    "from tqdm import tqdm\n",
    "from tqdm.notebook import tnrange\n",
    "import matplotlib.pyplot as plt\n",
    "import json\n",
    "from sklearn.metrics import accuracy_score, precision_score, recall_score, f1_score"
   ]
  },
  {
   "cell_type": "code",
   "execution_count": 3,
   "id": "680754e2",
   "metadata": {},
   "outputs": [],
   "source": [
    "# Set random seed for reproducibility\n",
    "def set_seed():\n",
    "    random.seed(123)\n",
    "    np.random.seed(123)\n",
    "    \n",
    "set_seed()"
   ]
  },
  {
   "cell_type": "markdown",
   "id": "10b776e3",
   "metadata": {},
   "source": [
    "### Transform raw text data into input vectors\n",
    "\n",
    "- Transform the raw text into train, dev, and test sets\n",
    "- Since the dataset done't have headers, we will first create custome headers and then load the data"
   ]
  },
  {
   "cell_type": "code",
   "execution_count": 4,
   "id": "2867f242",
   "metadata": {},
   "outputs": [],
   "source": [
    "# Create a customer Header\n",
    "news_header = [\"label\", \"text\"]\n",
    "\n",
    "# Load news data\n",
    "news_train = pd.read_csv('./data/train.csv', names=news_header)\n",
    "news_dev = pd.read_csv('./data/dev.csv', names=news_header)\n",
    "news_test = pd.read_csv('./data/test.csv', names=news_header)\n"
   ]
  },
  {
   "cell_type": "code",
   "execution_count": 5,
   "id": "2c155f9a",
   "metadata": {},
   "outputs": [
    {
     "data": {
      "text/html": [
       "<div>\n",
       "<style scoped>\n",
       "    .dataframe tbody tr th:only-of-type {\n",
       "        vertical-align: middle;\n",
       "    }\n",
       "\n",
       "    .dataframe tbody tr th {\n",
       "        vertical-align: top;\n",
       "    }\n",
       "\n",
       "    .dataframe thead th {\n",
       "        text-align: right;\n",
       "    }\n",
       "</style>\n",
       "<table border=\"1\" class=\"dataframe\">\n",
       "  <thead>\n",
       "    <tr style=\"text-align: right;\">\n",
       "      <th></th>\n",
       "      <th>label</th>\n",
       "      <th>text</th>\n",
       "    </tr>\n",
       "  </thead>\n",
       "  <tbody>\n",
       "    <tr>\n",
       "      <th>0</th>\n",
       "      <td>1</td>\n",
       "      <td>Reuters - Venezuelans turned out early\\and in ...</td>\n",
       "    </tr>\n",
       "    <tr>\n",
       "      <th>1</th>\n",
       "      <td>1</td>\n",
       "      <td>Reuters - South Korean police used water canno...</td>\n",
       "    </tr>\n",
       "    <tr>\n",
       "      <th>2</th>\n",
       "      <td>1</td>\n",
       "      <td>Reuters - Thousands of Palestinian\\prisoners i...</td>\n",
       "    </tr>\n",
       "    <tr>\n",
       "      <th>3</th>\n",
       "      <td>1</td>\n",
       "      <td>AFP - Sporadic gunfire and shelling took place...</td>\n",
       "    </tr>\n",
       "    <tr>\n",
       "      <th>4</th>\n",
       "      <td>1</td>\n",
       "      <td>AP - Dozens of Rwandan soldiers flew into Suda...</td>\n",
       "    </tr>\n",
       "  </tbody>\n",
       "</table>\n",
       "</div>"
      ],
      "text/plain": [
       "   label                                               text\n",
       "0      1  Reuters - Venezuelans turned out early\\and in ...\n",
       "1      1  Reuters - South Korean police used water canno...\n",
       "2      1  Reuters - Thousands of Palestinian\\prisoners i...\n",
       "3      1  AFP - Sporadic gunfire and shelling took place...\n",
       "4      1  AP - Dozens of Rwandan soldiers flew into Suda..."
      ]
     },
     "execution_count": 5,
     "metadata": {},
     "output_type": "execute_result"
    }
   ],
   "source": [
    "# Check the data\n",
    "news_train.head(5)"
   ]
  },
  {
   "cell_type": "code",
   "execution_count": 6,
   "id": "0e0af3a3",
   "metadata": {},
   "outputs": [
    {
     "data": {
      "text/html": [
       "<div>\n",
       "<style scoped>\n",
       "    .dataframe tbody tr th:only-of-type {\n",
       "        vertical-align: middle;\n",
       "    }\n",
       "\n",
       "    .dataframe tbody tr th {\n",
       "        vertical-align: top;\n",
       "    }\n",
       "\n",
       "    .dataframe thead th {\n",
       "        text-align: right;\n",
       "    }\n",
       "</style>\n",
       "<table border=\"1\" class=\"dataframe\">\n",
       "  <thead>\n",
       "    <tr style=\"text-align: right;\">\n",
       "      <th></th>\n",
       "      <th>label</th>\n",
       "      <th>text</th>\n",
       "    </tr>\n",
       "  </thead>\n",
       "  <tbody>\n",
       "    <tr>\n",
       "      <th>0</th>\n",
       "      <td>1</td>\n",
       "      <td>BAGHDAD, Iraq - An Islamic militant group that...</td>\n",
       "    </tr>\n",
       "    <tr>\n",
       "      <th>1</th>\n",
       "      <td>1</td>\n",
       "      <td>Parts of Los Angeles international airport are...</td>\n",
       "    </tr>\n",
       "    <tr>\n",
       "      <th>2</th>\n",
       "      <td>1</td>\n",
       "      <td>AFP - Facing a issue that once tripped up his ...</td>\n",
       "    </tr>\n",
       "    <tr>\n",
       "      <th>3</th>\n",
       "      <td>1</td>\n",
       "      <td>The leader of militant Lebanese group Hezbolla...</td>\n",
       "    </tr>\n",
       "    <tr>\n",
       "      <th>4</th>\n",
       "      <td>1</td>\n",
       "      <td>JAKARTA : ASEAN finance ministers ended a meet...</td>\n",
       "    </tr>\n",
       "  </tbody>\n",
       "</table>\n",
       "</div>"
      ],
      "text/plain": [
       "   label                                               text\n",
       "0      1  BAGHDAD, Iraq - An Islamic militant group that...\n",
       "1      1  Parts of Los Angeles international airport are...\n",
       "2      1  AFP - Facing a issue that once tripped up his ...\n",
       "3      1  The leader of militant Lebanese group Hezbolla...\n",
       "4      1  JAKARTA : ASEAN finance ministers ended a meet..."
      ]
     },
     "execution_count": 6,
     "metadata": {},
     "output_type": "execute_result"
    }
   ],
   "source": [
    "news_dev.head(5)"
   ]
  },
  {
   "cell_type": "code",
   "execution_count": 7,
   "id": "14c9b755",
   "metadata": {},
   "outputs": [
    {
     "data": {
      "text/html": [
       "<div>\n",
       "<style scoped>\n",
       "    .dataframe tbody tr th:only-of-type {\n",
       "        vertical-align: middle;\n",
       "    }\n",
       "\n",
       "    .dataframe tbody tr th {\n",
       "        vertical-align: top;\n",
       "    }\n",
       "\n",
       "    .dataframe thead th {\n",
       "        text-align: right;\n",
       "    }\n",
       "</style>\n",
       "<table border=\"1\" class=\"dataframe\">\n",
       "  <thead>\n",
       "    <tr style=\"text-align: right;\">\n",
       "      <th></th>\n",
       "      <th>label</th>\n",
       "      <th>text</th>\n",
       "    </tr>\n",
       "  </thead>\n",
       "  <tbody>\n",
       "    <tr>\n",
       "      <th>0</th>\n",
       "      <td>1</td>\n",
       "      <td>Canadian Press - VANCOUVER (CP) - The sister o...</td>\n",
       "    </tr>\n",
       "    <tr>\n",
       "      <th>1</th>\n",
       "      <td>1</td>\n",
       "      <td>AP - The man who claims Gov. James E. McGreeve...</td>\n",
       "    </tr>\n",
       "    <tr>\n",
       "      <th>2</th>\n",
       "      <td>1</td>\n",
       "      <td>NAJAF, Iraq - Explosions and gunfire rattled t...</td>\n",
       "    </tr>\n",
       "    <tr>\n",
       "      <th>3</th>\n",
       "      <td>1</td>\n",
       "      <td>LOURDES, France - A frail Pope John Paul II, b...</td>\n",
       "    </tr>\n",
       "    <tr>\n",
       "      <th>4</th>\n",
       "      <td>1</td>\n",
       "      <td>Supporters and rivals warn of possible fraud; ...</td>\n",
       "    </tr>\n",
       "  </tbody>\n",
       "</table>\n",
       "</div>"
      ],
      "text/plain": [
       "   label                                               text\n",
       "0      1  Canadian Press - VANCOUVER (CP) - The sister o...\n",
       "1      1  AP - The man who claims Gov. James E. McGreeve...\n",
       "2      1  NAJAF, Iraq - Explosions and gunfire rattled t...\n",
       "3      1  LOURDES, France - A frail Pope John Paul II, b...\n",
       "4      1  Supporters and rivals warn of possible fraud; ..."
      ]
     },
     "execution_count": 7,
     "metadata": {},
     "output_type": "execute_result"
    }
   ],
   "source": [
    "news_test.head(5)"
   ]
  },
  {
   "cell_type": "markdown",
   "id": "630aabb0",
   "metadata": {},
   "source": [
    "Separate the features and lables lists for train, dev, and test sets"
   ]
  },
  {
   "cell_type": "code",
   "execution_count": 8,
   "id": "20e35c84",
   "metadata": {},
   "outputs": [],
   "source": [
    "news_Xtrain = news_train['text'].tolist()\n",
    "news_Xdev = news_dev['text'].tolist()\n",
    "news_Xtest = news_test['text'].tolist()\n",
    "\n",
    "news_ytrain = news_train['label'].to_numpy()\n",
    "news_ydev = news_dev['label'].to_numpy()\n",
    "news_ytest = news_test['label'].to_numpy()\n"
   ]
  },
  {
   "cell_type": "code",
   "execution_count": 9,
   "id": "783fb0b5",
   "metadata": {},
   "outputs": [
    {
     "name": "stdout",
     "output_type": "stream",
     "text": [
      "2400\n",
      "2400\n",
      "150\n",
      "150\n",
      "900\n",
      "900\n"
     ]
    }
   ],
   "source": [
    "# Check the size of the new datasets\n",
    "print(len(news_Xtrain))\n",
    "print(len(news_ytrain))\n",
    "print(len(news_Xdev))\n",
    "print(len(news_ydev))\n",
    "print(len(news_Xtest))\n",
    "print(len(news_ytest))"
   ]
  },
  {
   "cell_type": "markdown",
   "id": "4535fdb8",
   "metadata": {},
   "source": [
    "### Implement Feedforward network\n",
    "\n",
    "**Create input representations**\n",
    "- To build a Feedforward neural network, the input data representation needs to be obtained in two ways; from vocabulary or from one-hot encoding. Since, one-hot encoding reqires large memory capacity, we ill repreent the input documents as a list of vocabulary indices where each wrod corresponds to a vocabulary index.\n",
    "\n",
    "**Text pre-processing pipeline**\n",
    "- To obtrain the vocabulary of words, we will create text pre-processing pipeline as below:\n",
    "    - Tokenise all texts into a list of unigrams\n",
    "    - Remove stop words\n",
    "    - Remove unigrams appearing in less than K documents\n",
    "    - Use the remaining unigrams to create the vocabulary of top-N most frequent unigrams in the entire corpus"
   ]
  },
  {
   "cell_type": "code",
   "execution_count": 10,
   "id": "a0378a4c",
   "metadata": {},
   "outputs": [],
   "source": [
    "# Create the stop words list\n",
    "stop_words = ['a', 'i', \"i'm\", 'me', 'my', 'myself', 'we', 'our', 'ours', 'ourselves', \n",
    "              'you', \"you're\", \"you've\", \"you'll\", \"you'd\", 'your', 'yours', \n",
    "              'yourself', 'yourselves', 'he', 'him', 'his', 'himself', 'she', \"she's\", \n",
    "              'her', 'hers', 'herself', 'it', \"it's\", 'its', 'itself', 'they', 'them', \n",
    "              'their', 'theirs', 'themselves', 'what', 'which', 'who', 'whom', 'this', \n",
    "              'that', \"that'll\", 'these', 'those', 'am', 'is', 'are', 'was', 'were', 'be', \n",
    "              'been', 'being', 'have', 'has', 'had', 'having', 'do', 'does', 'did', 'doing', \n",
    "              'an', 'the', 'and', 'but', 'if', 'or', 'because', 'as', 'until', 'while', \n",
    "              'of', 'at', 'by', 'for', 'with', 'about', 'against', 'between', 'into', \n",
    "              'through', 'during', 'before', 'after', 'above', 'below', 'to', 'from', 'up', \n",
    "              'down', 'in', 'out', 'on', 'off', 'over', 'under', 'again', 'further', 'then', \n",
    "              'once', 'here', 'there', 'when', 'where', 'why', 'how', 'all', 'any', 'both', \n",
    "              'each', 'few', 'more', 'most', 'other', 'some', 'such', \n",
    "              'only', 'own', 'same', 'so', 'than', 'too', 'very', 'can', 'will', \n",
    "              'just', 'should', \"should've\", 'now', 'll', 're', \n",
    "              've', 'ma', \".\", \",\", \"would\", \"could\", \"must\", \"shall\", \"may\"]"
   ]
  },
  {
   "cell_type": "markdown",
   "id": "75790a2c",
   "metadata": {},
   "source": [
    "### Unigram extraction from a document\n",
    "\n",
    "\n",
    "Implement ngram extraction function `extract_ngrams` where \n",
    "- `x_raw`: a string corresponding to the raw text of a document\n",
    "- `ngram_range`: a tuple of two integers denoting the type of ngrams being extracted (e.g. (1,2) denotes extracting unigrams and bigrams)\n",
    "- `token_pattern`: a string to be used within a regular expression to extract all tokens. Note that the data is already tokenised so we will use white space tokenisation\n",
    "- `stop_words`: a list of stop words\n",
    "- `vocab`: a given vocabulary. It should be used to extract specific features\n",
    "    \n",
    "and return \n",
    "- list of all extracted features    "
   ]
  },
  {
   "cell_type": "code",
   "execution_count": 11,
   "id": "8ad2eb80",
   "metadata": {},
   "outputs": [],
   "source": [
    "# Implement ngram extraction\n",
    "def extract_ngrams(x_raw, ngram_range=(1,3), \n",
    "                  token_pattern=f'\\b[A-Za-z][A-Za-z]+\\b',\n",
    "                 stop_words=[], vocab=set()):\n",
    "    token_regex = re.compile(token_pattern)\n",
    "    \n",
    "    # Extract all unigrams by tokenising\n",
    "    x_unigram = [w for w in token_regex.findall(str(x_raw).lower(),) if w not in stop_words]\n",
    "    \n",
    "    # Store the unigrams to be returned\n",
    "    x = []\n",
    "    if ngram_range[0] == 1:\n",
    "        x = x_unigram\n",
    "    \n",
    "    # Generate n-grams from avaialbe unigrams\n",
    "    ngrams = []\n",
    "    for n in range(ngram_range[0], ngram_range[1]+1):\n",
    "        if n==1: \n",
    "            continue\n",
    "        \n",
    "        # Pass a list of lists as an argument for zip\n",
    "        arg_list = [x_unigram]+[x_unigram[i:] for i in range(1, n)]\n",
    "        \n",
    "        # extract tuples of n-grams using zip\n",
    "        # for bigram this should look: list(zip(x_uni, x_uni[1:]))\n",
    "        # align each item x[i] in x_uni with the next one x[i+1]. \n",
    "        # Note that x_uni and x_uni[1:] have different lenghts\n",
    "        # but zip ignores redundant elements at the end of the second list\n",
    "        # Alternatively, this could be done with for loops\n",
    "        x_ngram = list(zip(*arg_list))\n",
    "        ngrams.append(x_ngram)\n",
    "    \n",
    "    for n in ngrams:\n",
    "        for t in n:\n",
    "            x.append(t)\n",
    "            \n",
    "    if len(vocab)>0:\n",
    "        x=[w for w in x if w in vocab]\n",
    "    \n",
    "    return x\n",
    "\n"
   ]
  },
  {
   "cell_type": "markdown",
   "id": "88a65971",
   "metadata": {},
   "source": [
    "### Create a vocabular of n-grams\n",
    "\n",
    "Implement `get_vocab` function, where\n",
    "- `X_raw`: a list of strings each corresponding to the raw text of a document\n",
    "- `ngram_range`: a tuple of two integers denoting the type of ngrams being extracted (e.g. (1,2) denotes extracting unigrams and bigrams)\n",
    "- `token_pattern`: a string to be used within a regular expression to extract all tokens. Note that data is already tokenised\n",
    "- `stop_words`: a list of stop words\n",
    "- `min_df`: keep ngrams with a minimum document frequency\n",
    "- `keep_topN`: keep top-N more frequent ngrams\n",
    "\n",
    "and return\n",
    "- `vocab`: a set of n-grams that will be used as features\n",
    "- `df`: a document frequency dictionay that contains ngrams as key and their corresponding document frequenciy as values\n",
    "- `ngram_counts`: counts of each ngram in vocab"
   ]
  },
  {
   "cell_type": "code",
   "execution_count": 12,
   "id": "2a543352",
   "metadata": {},
   "outputs": [],
   "source": [
    "def get_vocab(X_raw, ngram_range=(1,3),\n",
    "             token_pattern=r'\\b[A-Za-z][A-Za-z]+\\b',\n",
    "             min_df=0, keep_topN=0, stop_words=[]):\n",
    "\n",
    "    token_regex = re.compile(token_pattern)\n",
    "    df = Counter()\n",
    "    ngram_counts = Counter()\n",
    "    vocab = set()\n",
    "    \n",
    "    # Iterate through each raw text\n",
    "    for x in X_raw:\n",
    "        x_ngram = extract_ngrams(x, ngram_range=ngram_range, \n",
    "                                 token_pattern=token_pattern, \n",
    "                                 stop_words=stop_words)\n",
    "        # Update document frequency and ngram count\n",
    "        df.update(list(set(x_ngram)))\n",
    "        ngram_counts.update(x_ngram)\n",
    "        \n",
    "    # Obtain vocabulary as a set with document frequency > min document frequency\n",
    "    vocab = set([w for w in df if df[w]>=min_df])\n",
    "    \n",
    "    # Keep the top N most frequent vocab\n",
    "    if keep_topN:\n",
    "        vocab =set([w[0] for w in ngram_counts.most_common(keep_topN)\n",
    "                   if w[0] in vocab])\n",
    "        \n",
    "    return vocab, df, ngram_counts\n",
    "        "
   ]
  },
  {
   "cell_type": "markdown",
   "id": "08e55ba4",
   "metadata": {},
   "source": [
    "### Get the vocab"
   ]
  },
  {
   "cell_type": "code",
   "execution_count": 13,
   "id": "5d4ad02e",
   "metadata": {},
   "outputs": [
    {
     "name": "stdout",
     "output_type": "stream",
     "text": [
      "news vocab size: 2000\n",
      "['nestle', 'take', 'walked', 'gone', 'end', 'tickets', 'wall', 'hand', 'billion', 'selection', 'snow', 'mariel', 'proposal', 'figures', 'sources', 'expected', 'day', 'delay', 'center', 'better', 'region', 'captain', 'jersey', 'cost', 'hamid', 'july', 'heard', 'get', 'defeat', 'india', 'tomas', 'president', 'thanou', 'microsoft', 'tenders', 'opponent', 'residents', 'tony', 'cross', 'auction', 'pieter', 'justin', 'job', 'costs', 'rival', 'czech', 'moderate', 'soldier', 'halliburton', 'main', 'decade', 'programs', 'struggled', 'states', 'boxing', 'survived', 'amp', 'part', 'silver', 'philippines', 'earnings', 'kuala', 'coming', 'battled', 'test', 'costco', 'australia', 'following', 'canadian', 'florida', 'phelps', 'ways', 'super', 'affair', 'kept', 'sixth', 'israeli', 'quarter', 'friends', 'hong', 'andy', 'improved', 'large', 'linked', 'advanced', 'market', 'rest', 'pass', 'criticism', 'died', 'minister', 'punta', 'response', 'francisco', 'kobe', 'defense', 'east', 'bloomberg', 'eased', 'image', 'press', 'millions', 'appeared', 'federal', 'denied', 'shares', 'beat', 'assault', 'lead', 'help', 'throw', 'dispute', 'strained', 'lows', 'miles', 'prepared', 'darfur', 'red', 'interim', 'kid', 'backed', 'insurer', 'capacity', 'violation', 'eagerly', 'beating', 'olympic', 'time', 'positions', 'agent', 'cincinnati', 'got', 'table', 'within', 'prices', 'years', 'front', 'required', 'slower', 'lines', 'citizens', 'big', 'fractured', 'administration', 'consider', 'pitch', 'surgery', 'easy', 'battle', 'taking', 'athletics', 'barclays', 'revolution', 'southern', 'branch', 'operative', 'streak', 'legal', 'awaited', 'probably', 'cp', 'yasser', 'manage', 'story', 'fueled', 'care', 'important', 'planned', 'united', 'jason', 'sec', 'declined', 'running', 'edwards', 'conference', 'protests', 'round', 'surge', 'inevitable', 'ticker', 'ite', 'militiamen', 'trap', 'unit', 'wal', 'improve', 'disappeared', 'tax', 'rejected', 'flew', 'money', 'seen', 'showing', 'innings', 'back', 'howard', 'wide', 'potential', 'comes', 'fight', 'public', 'materials', 'accept', 'attack', 'starts', 'want', 'jump', 'police', 'quot', 'served', 'sweep', 'congolese', 'release', 'killed', 'voted', 'giants', 'coast', 'member', 'faster', 'militant', 'appeal', 'airways', 'hopes', 'terrorists', 'problems', 'negotiate', 'injured', 'facilities', 'cbs', 'showed', 'key', 'disaster', 'bell', 'afghanistan', 'fund', 'wing', 'greeks', 'stewart', 'reversed', 'field', 'mason', 'world', 'lawsuit', 'reserve', 'campaign', 'toronto', 'extra', 'military', 'moved', 'dismissed', 'personal', 'four', 'kitajima', 'summer', 'bid', 'still', 'growth', 'championship', 'chairman', 'funds', 'airline', 'tumbled', 'small', 'sprinter', 'either', 'athletes', 'refused', 'england', 'injuries', 'went', 'data', 'promised', 'sweeping', 'australian', 'prison', 'june', 'wake', 'general', 'usa', 'outside', 'forces', 'children', 'watch', 'claims', 'satellite', 'dow', 'defensive', 'northeast', 'kostas', 'fischer', 'results', 'performance', 'meter', 'typhoon', 'captured', 'sentiment', 'found', 'afp', 'improvement', 'wis', 'quit', 'fired', 'opener', 'complete', 'jackson', 'michael', 'settler', 'breakaway', 'holiday', 'witnesses', 'offering', 'wednesday', 'williams', 'eight', 'japan', 'pakistan', 'led', 'serving', 'russia', 'knee', 'swimmer', 'credit', 'helicopter', 'available', 'situation', 'per', 'sense', 'decline', 'computer', 'prosecutor', 'overnight', 'uae', 'burundi', 'watson', 'latham', 'series', 'berlin', 'expansion', 'oakland', 'weapons', 'finished', 'rico', 'thousands', 'party', 'period', 'ryder', 'isn', 'farm', 'swimming', 'operating', 'href', 'moqtada', 'silvio', 'charges', 'survey', 'conspiring', 'ny', 'games', 'delayed', 'roddick', 'violations', 'suffered', 'minute', 'explosion', 'cars', 'system', 'arafat', 'aimed', 'cut', 'robert', 'outlooks', 'enter', 'sanctions', 'revenue', 'fre', 'summit', 'southwest', 'teenager', 'case', 'hungarian', 'believes', 'toward', 'foot', 'independence', 'shrine', 'enough', 'proved', 'selling', 'falconio', 'support', 'hitting', 'draft', 'free', 'development', 'operation', 'detroit', 'english', 'charley', 'corporate', 'three', 'rookie', 'like', 'floods', 'see', 'posted', 'surging', 'airport', 'showdown', 'young', 'try', 'accounting', 'heavy', 'stop', 'oust', 'coach', 'europe', 'changed', 'upset', 'afghan', 'german', 'patriots', 'scheduled', 'champion', 'quarterback', 'overboard', 'losing', 'outfielder', 'practice', 'initial', 'place', 'commission', 'prime', 'recall', 'activity', 'hold', 'islamic', 'group', 'berlusconi', 'earlier', 'protect', 'sign', 'next', 'prisoners', 'efforts', 'cause', 'sending', 'half', 'portugal', 'positive', 'nations', 'woods', 'straight', 'maker', 'mike', 'olympia', 'ohio', 'registration', 'returning', 'growing', 'vegas', 'evening', 'suspended', 'ravaged', 'reuters', 'xinhuanet', 'nikkei', 'white', 'asia', 'arlington', 'rates', 'euro', 'grant', 'giving', 'governor', 'ranked', 'regular', 'cleric', 'investors', 'crowded', 'reds', 'gain', 'aspx', 'ninth', 'holiest', 'bank', 'stand', 'terrorist', 'little', 'full', 'people', 'lawyers', 'companies', 'join', 'says', 'occupied', 'netherlands', 'sports', 'congress', 'detained', 'won', 'expects', 'catch', 'doping', 'trees', 'greek', 'us', 'concern', 'given', 'pre', 'late', 'payment', 'yet', 'minnesota', 'hitter', 'moves', 'build', 'fourth', 'product', 'executive', 'iverson', 'trading', 'torture', 'though', 'jumped', 'puerto', 'ukraine', 'bought', 'motorola', 'grew', 'cold', 'largest', 'pitcher', 'preliminary', 'might', 'boost', 'medallist', 'rangers', 'show', 'andrew', 'leave', 'supplies', 'path', 'billing', 'ticket', 'internet', 'wreckage', 'early', 'reach', 'retailer', 'countries', 'scotland', 'self', 'counting', 'pm', 'troops', 'attacks', 'wind', 'venezuelans', 'movement', 'kong', 'goal', 'carrier', 'slow', 'meet', 'truce', 'string', 'find', 'idea', 'dream', 'national', 'known', 'bids', 'light', 'short', 'high', 'registered', 'oil', 'check', 'left', 'return', 'negotiations', 'needs', 'fighters', 'night', 'threat', 'borders', 'well', 'didn', 'assistant', 'course', 'finals', 'reform', 'cents', 'official', 'qaida', 'toyota', 'regional', 'workers', 'rebels', 'defused', 'foreign', 'office', 'even', 'thanks', 'freestyle', 'talks', 'peace', 'alexander', 'oldest', 'bj', 'dawn', 'strip', 'war', 'commerce', 'rolled', 'tearing', 'promotion', 'indian', 'markets', 'numbers', 'area', 'suspected', 'retail', 'tourist', 'giant', 'least', 'clemens', 'raids', 'conflict', 'katerina', 'tied', 'hits', 'earned', 'tens', 'soccer', 'goog', 'israel', 'laws', 'nigeria', 'post', 'right', 'separatist', 'economic', 'struggling', 'rules', 'battles', 'dozens', 'practices', 'miracle', 'prominent', 'pick', 'highs', 'dozen', 'park', 'keller', 'others', 'labor', 'great', 'refinancings', 'presence', 'although', 'climbed', 'intelligence', 'online', 'seed', 'chief', 'preliminaries', 'jerusalem', 'mdt', 'suspicious', 'taken', 'amateur', 'nelson', 'topping', 'mark', 'john', 'luxury', 'drive', 'winds', 'improvements', 'judo', 'americans', 'stunning', 'recovering', 'schroeder', 'reached', 'ever', 'embassy', 'chavez', 'confidence', 'worst', 'urban', 'carter', 'global', 'ditch', 'bill', 'arbitration', 'whether', 'settlement', 'quote', 'slashed', 'site', 'radioactive', 'singles', 'past', 'every', 'across', 'created', 'dollar', 'pulled', 'tech', 'team', 'landmark', 'boston', 'upbeat', 'black', 'vijay', 'finish', 'league', 'opened', 'recovery', 'lumpur', 'moscow', 'georgian', 'profile', 'chance', 'kevin', 'slam', 'las', 'mortgage', 'finally', 'joining', 'exports', 'rather', 'delivered', 'wisconsin', 'greece', 'industry', 'used', 'major', 'game', 'tie', 'around', 'huge', 'tanks', 'points', 'profit', 'air', 'saying', 'average', 'mcdonald', 'diego', 'block', 'increasing', 'decided', 'rose', 'mandate', 'including', 'officials', 'saw', 'collect', 'houston', 'challenges', 'kuwait', 'germany', 'low', 'chip', 'not', 'edge', 'caused', 'lives', 'spending', 'successful', 'matter', 'size', 'killing', 'scott', 'paperwork', 'ahead', 'third', 'sent', 'offers', 'girl', 'shoulder', 'ten', 'madrid', 'bills', 'opposition', 'keep', 'output', 'finance', 'took', 'faces', 'reduction', 'reforms', 'pull', 'judges', 'net', 'senior', 'ministry', 'claiming', 'wild', 'quincy', 'failed', 'bomb', 'pinch', 'knows', 'hellip', 'class', 'renewed', 'question', 'semifinals', 'private', 'cease', 'italy', 'men', 'association', 'convicted', 'qualifying', 'call', 'auditors', 'un', 'chess', 'parmalat', 'increased', 'gas', 'malaysia', 'equity', 'lay', 'sex', 'heart', 'www', 'bringing', 'street', 'whose', 'effective', 'medal', 'spitz', 'relating', 'history', 'loans', 'income', 'leftist', 'forecast', 'sun', 'quest', 'african', 'college', 'financial', 'guillen', 'violent', 'janus', 'best', 'revealed', 'mutual', 'programme', 'atlanta', 'cos', 'season', 'disruptions', 'bronze', 'union', 'caracas', 'came', 'along', 'putter', 'championships', 'commit', 'ratings', 'jury', 'homes', 'ap', 'hurt', 'teammate', 'champions', 'teixeira', 'plc', 'looking', 'venezuelan', 'suspects', 'among', 'taxes', 'cycling', 'illinois', 'alleged', 'plans', 'move', 'ipo', 'country', 'mass', 'georgia', 'yankees', 'claim', 'ancient', 'level', 'british', 'opening', 'hal', 'stores', 'buy', 'familiar', 'replaced', 'sri', 'use', 'hope', 'custody', 'powerful', 'david', 'closely', 'wave', 'hamilton', 'deficit', 'things', 'bowl', 'another', 'minutes', 'exchange', 'turkish', 'massacre', 'poor', 'butterfly', 'democracy', 'middle', 'stay', 'fall', 'consumer', 'fighting', 'last', 'sudan', 'capital', 'web', 'cowboys', 'week', 'hotel', 'powder', 'start', 'jay', 'starting', 'kansas', 'view', 'jcp', 'korea', 'easing', 'thing', 'stake', 'term', 'futures', 'ibm', 'strong', 'needed', 'bujumbura', 'tutsi', 'days', 'expectations', 'style', 'delivery', 'tournament', 'agency', 'let', 'debt', 'sardinia', 'seattle', 'produced', 'good', 'torn', 'becoming', 'future', 'name', 'opec', 'fla', 'afternoon', 'maktoum', 'estimated', 'cash', 'leonard', 'hot', 'helped', 'bryant', 'rally', 'sad', 'yard', 'protest', 'tests', 'reportedly', 'gains', 'medical', 'extending', 'later', 'said', 'decision', 'convention', 'twins', 'breaking', 'trade', 'crown', 'law', 'brought', 'straits', 'ian', 'basketball', 'interview', 'massachusetts', 'hundreds', 'missed', 'muqtada', 'grim', 'google', 'concerns', 'iraq', 'knew', 'surged', 'flood', 'broke', 'chinese', 'child', 'tim', 'maria', 'power', 'tour', 'rwandan', 'row', 'continue', 'ex', 'order', 'device', 'trying', 'lourdes', 'dug', 'almost', 'morning', 'become', 'conspiracy', 'insurance', 'kosuke', 'weaker', 'play', 'texas', 'ossetia', 'football', 'force', 'version', 'go', 'already', 'tools', 'iraqi', 'offset', 'record', 'co', 'ariel', 'crash', 'tore', 'seeking', 'pushed', 'buildings', 'outlook', 'rights', 'bring', 'st', 'look', 'resolve', 'testing', 'slumping', 'regulatory', 'island', 'twenty', 'seven', 'individual', 'suspend', 'families', 'lt', 'changes', 'los', 'visit', 'food', 'beaten', 'ease', 'criminal', 'fellow', 'rushed', 'yesterday', 'civil', 'instead', 'envoy', 'remain', 'nine', 'johnson', 'highly', 'korean', 'quarterly', 'managers', 'vault', 'step', 'arch', 'touted', 'hockey', 'soaring', 'rise', 'verge', 'accused', 'officer', 'ramallah', 'haiti', 'school', 'treasury', 'mat', 'university', 'securities', 'focus', 'sudanese', 'electoral', 'monthly', 'ending', 'mobile', 'two', 'guard', 'indians', 'vice', 'safety', 'injury', 'nation', 'africa', 'fear', 'china', 'fleet', 'road', 'bay', 'bonds', 'agreement', 'tomorrow', 'organization', 'approval', 'hostile', 'cuts', 'effort', 'set', 'kmrt', 'premier', 'calm', 'becomes', 'committee', 'ireland', 'fifth', 'blair', 'march', 'hall', 'search', 'hilton', 'months', 'gaza', 'final', 'hours', 'boys', 'health', 'pontiff', 'raise', 'ended', 'housing', 'closing', 'single', 'pentagon', 'family', 'withdrew', 'demand', 'congestion', 'devices', 'missing', 'tuesday', 'hour', 'embarrassing', 'leaders', 'facing', 'say', 'makers', 'collective', 'aside', 'ii', 'paid', 'grand', 'factories', 'scandal', 'gap', 'received', 'playing', 'quickinfo', 'energy', 'winged', 'antonio', 'point', 'judge', 'plus', 'liverpool', 'arizona', 'called', 'without', 'teammates', 'nearly', 'dimarco', 'communist', 'long', 'much', 'security', 'hugo', 'behind', 'tom', 'department', 'deal', 'investigation', 'leg', 'baseman', 'stadium', 'equipment', 'supply', 'total', 'jose', 'released', 'par', 'victims', 'watched', 'japanese', 'vs', 'former', 'tested', 'launched', 'london', 'homer', 'pittsburgh', 'venezuela', 'became', 'bhp', 'six', 'gymnasts', 'joined', 'increase', 'thursday', 'started', 'payments', 'america', 'stopped', 'blue', 'appealed', 'industrial', 'dell', 'creating', 'sell', 'signing', 'groups', 'accepted', 'losses', 'washington', 'stayed', 'serious', 'dead', 'threatened', 'annual', 'prove', 'louis', 'nuclear', 'near', 'paul', 'alert', 'com', 'mining', 'insurers', 'thumb', 'mac', 'crowd', 'way', 'villa', 'talk', 'romania', 'track', 'tennis', 'breaststroke', 'electricity', 'switzerland', 'town', 'controversial', 'largely', 'jean', 'inc', 'shot', 'militia', 'elections', 'clashes', 'amat', 'determine', 'boosted', 'brian', 'authority', 'professional', 'rebel', 'philadelphia', 'bankruptcy', 'flu', 'oq', 'corruption', 'russian', 'shi', 'result', 'media', 'midday', 'american', 'also', 'board', 'expos', 'published', 'beginning', 'opponents', 'brokerage', 'aware', 'due', 'gold', 'toll', 'women', 'rebounded', 'hard', 'arrived', 'airlines', 'historic', 'added', 'ltd', 'fire', 'named', 'meetings', 'employees', 'fresh', 'kerry', 'playoff', 'activists', 'presidential', 'executives', 'session', 'range', 'aides', 'match', 'business', 'thought', 'inflation', 'singh', 'home', 'several', 'members', 'green', 'motors', 'index', 'waiting', 'invoices', 'exporters', 'statement', 'terrorism', 'loyal', 'kmart', 'bases', 'multi', 'raised', 'many', 'montreal', 'separate', 'storm', 'crude', 'claimed', 'city', 'international', 'falling', 'sea', 'daily', 'leading', 'areas', 'relay', 'made', 'blow', 'preseason', 'van', 'water', 'anti', 'ago', 'secretary', 'shooting', 'chain', 'commodities', 'winning', 'dollars', 'presidency', 'ambassador', 'paris', 'mistakes', 'elbow', 'news', 'shiite', 'year', 'son', 'singapore', 'citing', 'nasdaq', 'getting', 'sport', 'advertising', 'trial', 'withdraw', 'share', 'highest', 'gathering', 'hottest', 'gave', 'county', 'jays', 'likely', 'thorpe', 'drug', 'depot', 'times', 'policy', 'benefits', 'el', 'baghdad', 'torri', 'signs', 'star', 'bit', 'canada', 'higher', 'hands', 'struck', 'store', 'athens', 'brazil', 'believe', 'auto', 'winner', 'rain', 'always', 'kenteris', 'freddie', 'inflationary', 'assembly', 'regulators', 'involving', 'make', 'need', 'based', 'bad', 'doubts', 'emergency', 'worries', 'western', 'expressed', 'phone', 'steve', 'close', 'britain', 'withhold', 'picked', 'event', 'panel', 'backpacker', 'golf', 'biggest', 'come', 'prompted', 'jewish', 'heat', 'fell', 'palestinian', 'tokyo', 'trouble', 'rod', 'defence', 'northern', 'newly', 'announcement', 'victory', 'slump', 'hurricane', 'landing', 'mariners', 'fraud', 'wants', 'concerned', 'bargain', 'sprinters', 'give', 'doubled', 'happen', 'begins', 'lost', 'sold', 'urged', 'advance', 'month', 'baseball', 'sunday', 'jr', 'zealand', 'congo', 'larry', 'cent', 'investor', 'living', 'analysts', 'challenge', 'gerhard', 'latest', 'saudi', 'businesses', 'head', 'information', 'man', 'control', 'source', 'building', 'cleveland', 'allowed', 'north', 'classic', 'uk', 'signed', 'austria', 'real', 'barrel', 'stage', 'billions', 'send', 'prosecutors', 'apparently', 'avoid', 'suspension', 'prescription', 'chris', 'reports', 'local', 'fought', 'gasoline', 'ground', 'billiton', 'teams', 'peter', 'charged', 'november', 'hd', 'wife', 'iran', 'authorities', 'political', 'cities', 'continued', 'woman', 'ask', 'disciplinary', 'ing', 'kingdom', 'met', 'hoping', 'recent', 'ethnic', 'meeting', 'refugee', 'company', 'eastern', 'title', 'calls', 'nepal', 'million', 'fears', 'face', 'software', 'estimates', 'stocks', 'turned', 'province', 'sydney', 'quickly', 'special', 'hoogenband', 'mart', 'ordered', 'democratic', 'pool', 'perhaps', 'prince', 'done', 'sprint', 'october', 'holy', 'defending', 'invest', 'asian', 'drop', 'uprising', 'venus', 'arms', 'lowest', 'metres', 'parade', 'clear', 'gymnastics', 'second', 'banned', 'friendly', 'den', 'inning', 'tight', 'unrest', 'rule', 'al', 'host', 'human', 'ag', 'senate', 'win', 'cardinals', 'attempts', 'maoist', 'weekly', 'announced', 'issued', 'sharon', 'leader', 'closer', 'banks', 'bush', 'border', 'ottawa', 'details', 'hamas', 'hearing', 'crashed', 'stock', 'chicago', 'television', 'told', 'sale', 'costas', 'jail', 'draw', 'immediately', 'filed', 'heading', 'meters', 'saturday', 'hansen', 'threatening', 'top', 'candidate', 'firm', 'jamaica', 'angeles', 'investment', 'flash', 'south', 'strike', 'divisions', 'twice', 'away', 'refugees', 'impact', 'crisis', 'driven', 'telephone', 'manager', 'begin', 'debut', 'cautious', 'popular', 'george', 'fuel', 'profits', 'attempt', 'gary', 'zagunis', 'voters', 'spot', 'roger', 'brown', 'working', 'corp', 'berdych', 'chancellor', 'tutsis', 'herat', 'jobs', 'supporters', 'price', 'terror', 'drove', 'forward', 'dallas', 'sharply', 'militants', 'armed', 'sharp', 'nfl', 'offered', 'religious', 'rate', 'consecutive', 'miss', 'eliminated', 'restaurants', 'setting', 'phillies', 'open', 'faced', 'rathore', 'adopted', 'globe', 'far', 'republican', 'buried', 'rivals', 'disarm', 'abroad', 'wounding', 'conditions', 'held', 'european', 'players', 'york', 'something', 'weekend', 'royal', 'yukos', 'bgp', 'beijing', 'runs', 'motor', 'rising', 'spokesman', 'khartoum', 'closed', 'events', 'euros', 'haas', 'plan', 'knocked', 'colorado', 'august', 'legg', 'soon', 'interest', 'person', 'sadr', 'strength', 'raising', 'french', 'break', 'islamabad', 'applied', 'sales', 'http', 'homered', 'amid', 'roman', 'kathmandu', 'california', 'warned', 'lower', 'diplomatic', 'division', 'calif', 'hare', 'competition', 'brendan', 'production', 'today', 'weeks', 'first', 'network', 'bargaining', 'calling', 'earn', 'votes', 'government', 'hospitals', 'population', 'loss', 'blockade', 'no', 'since', 'ailing', 'contract', 'haven', 'began', 'products', 'dodgers', 'arab', 'approve', 'hospital', 'fed', 'nortel', 'player', 'qaeda', 'continues', 'adam', 'monday', 'together', 'training', 'career', 'italian', 'firms', 'damage', 'report', 'rare', 'caught', 'target', 'according', 'newspaper', 'gov', 'pay', 'gorda', 'settlements', 'referendum', 'lack', 'double', 'issues', 'radical', 'bobby', 'acquisition', 'appears', 'looks', 'house', 'anticipated', 'current', 'orioles', 'card', 'james', 'gained', 'associated', 'walk', 'race', 'violence', 'olympics', 'death', 'fullquote', 'questions', 'friday', 'program', 'vote', 'drew', 'kabul', 'election', 'fans', 'helping', 'reported', 'palestinians', 'ban', 'applications', 'hit', 'construction', 'networks', 'previous', 'lift', 'possible', 'massive', 'offer', 'percent', 'fast', 'put', 'declare', 'de', 'radio', 'eighth', 'customers', 'west', 'less', 'pro', 'club', 'delegates', 'arrested', 'merger', 'pitched', 'upi', 'rescue', 'camp', 'remote', 'action', 'operator', 'making', 'work', 'inquiry', 'september', 'dropped', 'troubled', 'evidence', 'central', 'really', 'allen', 'magazine', 'wholesale', 'declared', 'run', 'swept', 'boy', 'change', 'akron', 'technology', 'old', 'sox', 'father', 'soldiers', 'hunger', 'village', 'warning', 'whistling', 'owners', 'launch', 'pressure', 'despite', 'process', 'slip', 'new', 'played', 'management', 'service', 'najaf', 'approved', 'asked', 'side', 'tiger', 'fencing', 'research', 'picture', 'army', 'operations', 'lowe', 'gt', 'compete', 'buyers', 'republic', 'crowds', 'holding', 'charge', 'nyse', 'going', 'relief', 'pile', 'staff', 'klete', 'muslim', 'life', 'headed', 'sept', 'psychological', 'pope', 'agreed', 'shia', 'services', 'pga', 'lose', 'san', 'arena', 'exhibition', 'aug', 'one', 'hamm', 'desperate', 'wanted', 'protesters', 'mary', 'sick', 'number', 'levels', 'rallied', 'targets', 'reduced', 'port', 'engine', 'state', 'jones', 'diving', 'federer', 'plotting', 'france', 'base', 'warnings', 'volleyball', 'five', 'scored', 'recently', 'medals', 'wounded', 'band', 'line', 'leaving', 'court', 'rebound', 'economy', 'cup', 'observers', 'tell', 'karzai', 'inventory', 'body', 'baltimore', 'shrugged', 'car', 'drugs', 'speed', 'murder', 'delegation', 'sites']\n"
     ]
    }
   ],
   "source": [
    "keep_topN = 2000\n",
    "ngram_range = (1,1)\n",
    "min_df = 0\n",
    "(vocab_set,\n",
    "df,\n",
    "ngram_counts) = get_vocab(news_Xtrain, ngram_range=ngram_range,\n",
    "                          min_df=min_df, keep_topN=keep_topN,\n",
    "                          stop_words=stop_words)\n",
    "news_vocab = list(vocab_set)\n",
    "print(f'news vocab size: {len(news_vocab)}')\n",
    "print(news_vocab)\n"
   ]
  },
  {
   "cell_type": "markdown",
   "id": "b6e62669",
   "metadata": {},
   "source": [
    "As far as vocabulary size is concerned, the larger vocabulary gives larger breadth of words to be picked up during training. However, for this experiment, I have restricted to size 2000. In the upcoming section, we will do hyperparameter tuning during training to get the reasonable accuracy while using this vocabulary."
   ]
  },
  {
   "cell_type": "code",
   "execution_count": 14,
   "id": "a4a6f62d",
   "metadata": {},
   "outputs": [],
   "source": [
    "# Create word to id dictionary for future use\n",
    "word2id = dict(zip(news_vocab, range(len(news_vocab))))"
   ]
  },
  {
   "cell_type": "markdown",
   "id": "48db1980",
   "metadata": {},
   "source": [
    "### Convert the list of unigrams  into a list of vocabulary indices\n",
    "- Storing actual one-hot vectors into memory for all words in the entire data set is prohibitive. Instead, we will store word indices in the vocabulary and look-up the weight matrix. This is equivalent of doing a dot product between an one-hot vector and the weight matrix. \n",
    "\n",
    "- Implement a function `extract_ngrams_for_train_dev_test_sets` to represent documents in train, dev and test sets as lists of words in the vocabulary, where\n",
    "    - `ngram_range`: a tuple of two integers denoting the type of ngrams being extracted (e.g. (1,2) denotes extracting unigrams and bigrams)\n",
    "    - `vocab`: a vocabulary set\n",
    "- and returns\n",
    "    - `Xtrain_ngrams`: ngrams for train set\n",
    "    - `Xdev_ngrams`: ngrams for dev set\n",
    "    - `Xtest_ngrams`: ngrams for test set\n",
    "    "
   ]
  },
  {
   "cell_type": "code",
   "execution_count": 15,
   "id": "409dca25",
   "metadata": {},
   "outputs": [],
   "source": [
    "def extract_ngrams_for_train_dev_test_sets(ngram_range, vocab):\n",
    "    Xtrain = news_Xtrain\n",
    "    Xdev   = news_Xdev\n",
    "    Xtest  = news_Xtest\n",
    "    \n",
    "    # Extract n-grams for training set\n",
    "    Xtrain_ngrams = list()\n",
    "    for i in tnrange(len(Xtrain)):\n",
    "        Xtrain_ngrams.append(extract_ngrams(Xtrain[i], \n",
    "                                            ngram_range=ngram_range, token_pattern=r'\\b[A-Za-z][A-Za-z]+\\b',\n",
    "                                            stop_words=stop_words, vocab=vocab))\n",
    "    # Extract n-grams for development set\n",
    "    Xdev_ngrams = list()\n",
    "    for i in tnrange(len(Xdev)):\n",
    "        Xdev_ngrams.append(extract_ngrams(Xdev[i], \n",
    "                                            ngram_range=ngram_range, token_pattern=r'\\b[A-Za-z][A-Za-z]+\\b',\n",
    "                                            stop_words=stop_words, vocab=vocab))\n",
    "    # Extract n-grams for test set\n",
    "    Xtest_ngrams = list()\n",
    "    for i in tnrange(len(Xtest)):\n",
    "        Xtest_ngrams.append(extract_ngrams(Xtest[i], \n",
    "                                            ngram_range=ngram_range, token_pattern=r'\\b[A-Za-z][A-Za-z]+\\b',\n",
    "                                            stop_words=stop_words, vocab=vocab))\n",
    "        \n",
    "    return Xtrain_ngrams, Xdev_ngrams, Xtest_ngrams"
   ]
  },
  {
   "cell_type": "code",
   "execution_count": 16,
   "id": "de58aa4b",
   "metadata": {},
   "outputs": [
    {
     "data": {
      "application/vnd.jupyter.widget-view+json": {
       "model_id": "67cf0f96797c432f832a8c1c2c1ebc8e",
       "version_major": 2,
       "version_minor": 0
      },
      "text/plain": [
       "  0%|          | 0/2400 [00:00<?, ?it/s]"
      ]
     },
     "metadata": {},
     "output_type": "display_data"
    },
    {
     "data": {
      "application/vnd.jupyter.widget-view+json": {
       "model_id": "1955be37de1349b4a0dbf47dab83463f",
       "version_major": 2,
       "version_minor": 0
      },
      "text/plain": [
       "  0%|          | 0/150 [00:00<?, ?it/s]"
      ]
     },
     "metadata": {},
     "output_type": "display_data"
    },
    {
     "data": {
      "application/vnd.jupyter.widget-view+json": {
       "model_id": "7aaf84277dea4eefb773f41c4063ac44",
       "version_major": 2,
       "version_minor": 0
      },
      "text/plain": [
       "  0%|          | 0/900 [00:00<?, ?it/s]"
      ]
     },
     "metadata": {},
     "output_type": "display_data"
    }
   ],
   "source": [
    "(news_Xtrain_ngrams, \n",
    " news_Xdev_ngrams, \n",
    " news_Xtest_ngrams) = extract_ngrams_for_train_dev_test_sets(ngram_range, news_vocab)\n"
   ]
  },
  {
   "cell_type": "code",
   "execution_count": 17,
   "id": "1b037567",
   "metadata": {},
   "outputs": [],
   "source": [
    "# Convert into list of indices\n",
    "news_Xtrain_ngrams_indices = []\n",
    "for ngrams in news_Xtrain_ngrams:\n",
    "    news_Xtrain_ngrams_indices.append([word2id.get(ngram, -1) for ngram in ngrams])\n",
    "    \n",
    "news_Xdev_ngrams_indices = []\n",
    "for ngrams in news_Xdev_ngrams:\n",
    "    news_Xdev_ngrams_indices.append([word2id.get(ngram, -1) for ngram in ngrams])\n",
    "\n",
    "news_Xtest_ngrams_indices = []\n",
    "for ngrams in news_Xtest_ngrams:\n",
    "    news_Xtest_ngrams_indices.append([word2id.get(ngram, -1) for ngram in ngrams])"
   ]
  },
  {
   "cell_type": "code",
   "execution_count": 18,
   "id": "859cd03c",
   "metadata": {},
   "outputs": [
    {
     "name": "stdout",
     "output_type": "stream",
     "text": [
      "['reuters', 'venezuelans', 'turned', 'early', 'large', 'numbers', 'sunday', 'vote', 'historic', 'referendum', 'either', 'left', 'wing', 'president', 'hugo', 'chavez', 'office', 'give', 'new', 'mandate', 'next', 'two', 'years']\n",
      "[463, 557, 1567, 546, 82, 619, 1490, 1836, 1318, 1810, 264, 578, 235, 31, 1201, 688, 601, 1480, 1909, 756, 441, 1113, 135]\n"
     ]
    }
   ],
   "source": [
    "# check the sample of ngram and corresponging vocabulary index\n",
    "print(news_Xtrain_ngrams[0])\n",
    "print(news_Xtrain_ngrams_indices[0])"
   ]
  },
  {
   "cell_type": "markdown",
   "id": "61029c05",
   "metadata": {},
   "source": [
    "# Feedforward Neural Network Architecture\n",
    "\n",
    "The steps to create Feedforward neural network as as following:\n",
    "\n",
    "- Pass each word index into its corresponding embedding by looking-up on the embedding matrix and then compute the first hidden layer $\\mathbf{h}_1$:\n",
    "\n",
    "$$\\mathbf{h}_1 = \\frac{1}{|x|}\\sum_i W^e_i, i \\in x$$\n",
    "\n",
    "where $|x|$ is the number of words in the document and $W^e$ is an embedding matrix $|V|\\times d$, $|V|$ is the size of the vocabulary and $d$ the embedding size.\n",
    "\n",
    "- Then $\\mathbf{h}_1$ should be passed through a ReLU activation function:\n",
    "\n",
    "$$\\mathbf{a}_1 = relu(\\mathbf{h}_1)$$\n",
    "\n",
    "- Finally the hidden layer is passed to the output layer:\n",
    "\n",
    "\n",
    "$$\\mathbf{y} = \\text{softmax}(\\mathbf{a}_1W) $$ \n",
    "where $W$ is a matrix $d \\times |{\\cal Y}|$, $|{\\cal Y}|$ is the number of classes.\n",
    "\n",
    "- During training, $\\mathbf{a}_1$ is going to be multiplied with a dropout mask vector (elementwise) for regularisation before it is passed to the output layer.\n",
    "\n",
    "- The network will also be extended to a deeper architecture by passing a hidden layer to another one:\n",
    "\n",
    "$$\\mathbf{h_i} = \\mathbf{a}_{i-1}W_i $$\n",
    "\n",
    "$$\\mathbf{a_i} = relu(\\mathbf{h_i}) $$\n",
    "\n"
   ]
  },
  {
   "cell_type": "markdown",
   "id": "95050bfb",
   "metadata": {},
   "source": [
    "Create a new function called `get_weight_matrix` which will be used to initialise weight matrix for Feedforward nueral network. The function takes as input:\n",
    "\n",
    "- `row_size`: The row size of the weight matrix\n",
    "- `col_size`: The column size of the weight matrix\n",
    "- `init_val`: The initialisation values that are used to create a range of values from negative to positive\n",
    "\n",
    "and returns:\n",
    "- `init_W`: The weight matrix initialised with default values"
   ]
  },
  {
   "cell_type": "code",
   "execution_count": 19,
   "id": "0cc88d73",
   "metadata": {},
   "outputs": [],
   "source": [
    "def get_weight_matrix(row_size, col_size, init_val):\n",
    "    init_W = np.zeros((row_size, col_size))\n",
    "    for j in range(row_size):\n",
    "        weights = np.array(np.random.uniform(-1 * init_val, init_val, col_size)).astype(np.float32)\n",
    "        init_W[j] = weights\n",
    "    return init_W\n"
   ]
  },
  {
   "cell_type": "markdown",
   "id": "7706b91f",
   "metadata": {},
   "source": [
    "### Network Training\n",
    "\n",
    "First we need to define the parameters of our network by initialising the weight matrix. To do this, we will create a function `network_weights` that takes inputs:\n",
    "\n",
    "- `vocab_size`: The size of the vocabulary\n",
    "- `embedding_dim`: The size of the word embeddings\n",
    "- `hidden_dim`: The list of the sizes of hidden layers. Empty if there are not hidden layers between the average embedding and the output layer\n",
    "- `num_classes`: The number of classes for the output layer\n",
    "\n",
    "and returns:\n",
    "- `W`: A dictionary mapping from layer index (e.g. 0 for the embedding matrix) to the corresponding weight matrix initialised with small random numbers\n",
    "\n",
    "Note: We have to make sure that the dimensionality of each weight matrix is compatible with the previous and next weight matrix, otherwise the forward and backward pass won't be able to perform. We will also consider using `np.float32` precision to save memory."
   ]
  },
  {
   "cell_type": "code",
   "execution_count": 20,
   "id": "1bd04be0",
   "metadata": {},
   "outputs": [],
   "source": [
    "def network_weights(vocab_size=1000, embedding_dim=300,\n",
    "                   hidden_dim=[], num_classes=3, init_val=0.5):\n",
    "    \n",
    "    # initialise weights\n",
    "    W = []\n",
    "    \n",
    "    # input layer weight matrix for word embeddings\n",
    "    W.append({\n",
    "        \"embedding_matrix\": get_weight_matrix(vocab_size, embedding_dim, init_val)\n",
    "    })\n",
    "    \n",
    "    # hidden layer weight matrix\n",
    "    row_size = embedding_dim\n",
    "    for j in range(len(hidden_dim)):\n",
    "        col_size = hidden_dim[j]\n",
    "        W.append({\"weights\": get_weight_matrix(row_size, col_size, init_val)})\n",
    "        row_size = col_size\n",
    "        \n",
    "    # output layer weight matrix\n",
    "    col_size = num_classes\n",
    "    W.append({\"weights\": get_weight_matrix(row_size, col_size, init_val)})\n",
    "    \n",
    "    return W\n",
    "    \n",
    "    \n",
    "    "
   ]
  },
  {
   "cell_type": "code",
   "execution_count": 21,
   "id": "184391f5",
   "metadata": {},
   "outputs": [
    {
     "name": "stdout",
     "output_type": "stream",
     "text": [
      "[{'embedding_matrix': array([[ 0.19646919, -0.21386066, -0.27314854,  0.05131477],\n",
      "       [ 0.21946897, -0.07689354,  0.48076421,  0.18482974],\n",
      "       [-0.0190681 , -0.10788248, -0.15682198,  0.22904971]])}, {'weights': array([[-0.06142776, -0.4403221 ],\n",
      "       [-0.10195574,  0.2379954 ],\n",
      "       [-0.31750828, -0.32454824],\n",
      "       [ 0.03155137,  0.03182759]])}, {'weights': array([[0.13440096, 0.34943178],\n",
      "       [0.22445533, 0.11102351]])}]\n"
     ]
    }
   ],
   "source": [
    "# sanity check to see the network weight generation and their dimensions\n",
    "print(network_weights(vocab_size=3, embedding_dim=4, hidden_dim=[2], num_classes=2))"
   ]
  },
  {
   "cell_type": "markdown",
   "id": "73099f77",
   "metadata": {},
   "source": [
    "### softmax function\n",
    "\n",
    "Due to floating point limitations in numPy, softmax frequently gets `NaN` and `inf` error. To eliminate this error, a softmax normalisation technique is used by subtracting the maximum value of z from the given z value. This way, softmax is normalised across all values for every forward pass and will not generate the errors."
   ]
  },
  {
   "cell_type": "code",
   "execution_count": 22,
   "id": "ba437a5b",
   "metadata": {},
   "outputs": [],
   "source": [
    "def softmax(z):\n",
    "    z = z - np.max(z)\n",
    "    return np.exp(z) / np.sum(np.exp(z))"
   ]
  },
  {
   "cell_type": "markdown",
   "id": "57d1b940",
   "metadata": {},
   "source": [
    "### Categorical Loss function\n",
    "\n",
    "The categorical loss function is used to calculate the objective loss during training."
   ]
  },
  {
   "cell_type": "code",
   "execution_count": 23,
   "id": "bdd21842",
   "metadata": {},
   "outputs": [],
   "source": [
    "def categorical_loss(X, Y, W):\n",
    "    losses = list()\n",
    "    num_classes = 3\n",
    "    for i, x in enumerate(X):\n",
    "        out_vals = forward_pass(x, W, dropout_rate=0.0)\n",
    "        \n",
    "        # one-hot vector to represent the correct class during categorical loss calculation\n",
    "        y = one_hot_vector(Y[i]-1, num_classes)\n",
    "        loss = -y * np.log(out_vals['y_pred'].T)\n",
    "        losses.append(np.sum(loss.T))\n",
    "    return np.mean(losses)\n"
   ]
  },
  {
   "cell_type": "markdown",
   "id": "bb6be798",
   "metadata": {},
   "source": [
    "### Categorical Loss Derivative function\n",
    "\n",
    "We need to also create the derivative function to calculate the derivative of categorical loss during backward pass (aka. backpropagation)."
   ]
  },
  {
   "cell_type": "code",
   "execution_count": 24,
   "id": "3760b956",
   "metadata": {},
   "outputs": [],
   "source": [
    "def categorical_loss_derivative(y, y_preds):\n",
    "    loss_der = y_preds.T - y\n",
    "    return loss_der.T"
   ]
  },
  {
   "cell_type": "markdown",
   "id": "149b9ecd",
   "metadata": {},
   "source": [
    "### ReLU and ReLU Derivative function\n",
    "\n",
    "We will not implement `relu` function to introduce non-liniearity afte hidden layers. This function will at as activation function during forward pass.\n",
    "\n",
    "$$relu(z_i)= max(z_i,0)$$\n",
    "\n",
    "And the `relu_derivative` function is used to compute its derivative during backward pass (aka. backpropagation)\n",
    "\n",
    "  $$relu\\_derivative(z_i)=0$$ if $z_i$<=0, 1 otherwise.\n",
    "  \n",
    "Note: Both function take as input a vector $z$."
   ]
  },
  {
   "cell_type": "code",
   "execution_count": 25,
   "id": "c1867c7f",
   "metadata": {},
   "outputs": [],
   "source": [
    "def relu(z):\n",
    "    return np.maximum(0, z)\n",
    "\n",
    "def relu_derivative(z):\n",
    "    dz = np.copy(z)\n",
    "    dz[np.where(dz>0)] = 1\n",
    "    dz[np.where(dz<=0)] = 0\n",
    "    return dz"
   ]
  },
  {
   "cell_type": "markdown",
   "id": "7aa0fbb8",
   "metadata": {},
   "source": [
    "A derivative of ReLU is differentiable at all points except at 0. The left derivative at z<0 is 0 and right derivative at z>0 is 1. But derivative at z=0 is technically undefined. In Colloquial terms, the function is not smooth at z=0 and there are many possible lines (slops) we could fit through. So that do we do here? Basically, we can arbitrarily choose a value as 0, 0.5, or 1 but for simplicity we can choose 0 for z=0."
   ]
  },
  {
   "cell_type": "markdown",
   "id": "17c8e042",
   "metadata": {},
   "source": [
    "### Dropout mask\n",
    "\n",
    "During training, we will apply dropout mask element-wise to do model finetuning to avoid overfitting. This masking will be done after the ReLU activation function (i.e. vector of ones with random percentage set to zero)."
   ]
  },
  {
   "cell_type": "code",
   "execution_count": 26,
   "id": "a1816296",
   "metadata": {},
   "outputs": [],
   "source": [
    "def dropout_mask(size, dropout_rate):\n",
    "    dropout_vec = np.ones((size))\n",
    "    idx = np.random.choice(len(dropout_vec), \n",
    "                          size=int(dropout_rate * size), \n",
    "                          replace=False)\n",
    "    dropout_vec[idx] = 0\n",
    "    return dropout_vec"
   ]
  },
  {
   "cell_type": "code",
   "execution_count": 27,
   "id": "aaa640cb",
   "metadata": {},
   "outputs": [
    {
     "name": "stdout",
     "output_type": "stream",
     "text": [
      "[1. 1. 1. 1. 1. 1. 1. 1. 0. 0.]\n",
      "[1. 0. 1. 1. 1. 1. 1. 0. 1. 1.]\n"
     ]
    }
   ],
   "source": [
    "# sanity check\n",
    "print(dropout_mask(10, 0.2))\n",
    "print(dropout_mask(10, 0.2))"
   ]
  },
  {
   "cell_type": "markdown",
   "id": "94a495d1",
   "metadata": {},
   "source": [
    "### Weight submatrix\n",
    "\n",
    "Create `weight_submatrix` function that is used to generate the word embedding matrix for the given set of word indexes.\n",
    "\n",
    "This function consists of inputs\n",
    "\n",
    "- `x`: The input word index list\n",
    "- `w_emb`: the embedding weight matrix that consists of word indexes and correspoding weight values\n",
    "\n",
    "and returns\n",
    "\n",
    "- `w_sub_mat`: The newly generated word embedding submatrix for given indexes"
   ]
  },
  {
   "cell_type": "code",
   "execution_count": 28,
   "id": "9b358f29",
   "metadata": {},
   "outputs": [],
   "source": [
    "def weight_submatrix(x, w_emb):\n",
    "    w_sub_mat = np.array([])\n",
    "    \n",
    "    # Iterate through all the word indexes and lookup into weight matrix \n",
    "    # to fetch the correct embedding vector based on the index.\n",
    "    for word_inx in x:\n",
    "        \n",
    "        # find word embedding by index\n",
    "        word_w = w_emb[word_inx]\n",
    "        \n",
    "        # accummulate\n",
    "        w_sub_mat = np.append(w_sub_mat, word_w)\n",
    "        \n",
    "    w_sub_mat.shape = (int(len(w_sub_mat) / w_emb.shape[1]), w_emb.shape[1])\n",
    "    return w_sub_mat"
   ]
  },
  {
   "cell_type": "markdown",
   "id": "6784bbf5",
   "metadata": {},
   "source": [
    "### Forward pass function\n",
    "\n",
    "We are going to implement the `forward_pass` function that will pass the input through the feedforward neural network upto output layer for computing the probability of expected class using the weight matrix, ReLU activation function and softmax output function. The funtion consists of inputs\n",
    "\n",
    "- `x`: A list of vocabulary indices of the words belonging to the document\n",
    "- `W`: A list of weight matrix connecting each part of the network; e.g. W[0] is the weight matrix for connection between input and first hidden layer, W[1] is for connection between first hidden and the next next one.\n",
    "- `dropout_rate`: The dropout rate that is used to generate a random dropout mask vetor applied after each hidden layer for regularisation.\n",
    "\n",
    "and returns\n",
    "- `out_vals`: A dictionary of output value from each layer. Where layers are\n",
    "    - `h`: The vector before activation function\n",
    "    - `a`: The resulting vector after passring `h` from activation function\n",
    "    - dropout mask vector\n",
    "    - prediction vector: probability for each class from the output layer"
   ]
  },
  {
   "cell_type": "code",
   "execution_count": 29,
   "id": "d545268d",
   "metadata": {},
   "outputs": [],
   "source": [
    "def forward_pass(x, W, dropout_rate=0.2):\n",
    "    bias = 0\n",
    "    h_vecs = []\n",
    "    a_vecs = []\n",
    "    dropout_vecs = []\n",
    "    ones_vector = np.ones((len(x), 1))\n",
    "    x_in = x\n",
    "    \n",
    "    # Iterate through hidden layers\n",
    "    for layer_idx, w in enumerate(W):\n",
    "        \n",
    "        # Compute softmax for the last layer and break the loop\n",
    "        if layer_idx == len(W) - 1:\n",
    "            y_pred = softmax(np.dot(w.get('weights').T, x_in) + bias)\n",
    "            break\n",
    "        \n",
    "        # Compute the mean embedding vector of all words for the first hidden layer\n",
    "        elif layer_idx == 0:\n",
    "\n",
    "            # Lookup into weight embeddings and create weight submatrix for a given input (list of word indexes)\n",
    "            weights = weight_submatrix(x_in, w.get('embedding_matrix'))\n",
    "\n",
    "            # Compute the mean embedding vector for first hidden layer\n",
    "            h = (np.dot(weights.T, ones_vector) / len(x_in)) + bias\n",
    "\n",
    "        # Compute the dot product between weight matrix and input for the rest of hidden layers\n",
    "        else:\n",
    "            h = np.dot(w.get('weight').T, x_in) + bias\n",
    "\n",
    "        # Apply ReLU activation function\n",
    "        a = relu(h)\n",
    "\n",
    "        # Apply dropout mask on ReLU activation function for hidden layer only\n",
    "        dropout = dropout_mask(h.shape[0], dropout_rate)\n",
    "        a = np.multiply(dropout.reshape(len(dropout), -1), a)\n",
    "        x_in = a\n",
    "\n",
    "        # Accumulate\n",
    "        h_vecs.append(h)\n",
    "        a_vecs.append(a)\n",
    "        dropout_vecs.append(dropout)\n",
    "    \n",
    "    out_vals = {}\n",
    "    out_vals['h'] = h_vecs\n",
    "    out_vals['a'] = a_vecs\n",
    "    out_vals['dropout'] = dropout_vecs\n",
    "    out_vals['y_pred'] = y_pred\n",
    "    \n",
    "    return out_vals\n",
    "        "
   ]
  },
  {
   "cell_type": "code",
   "execution_count": 30,
   "id": "f08fd199",
   "metadata": {},
   "outputs": [],
   "source": [
    "''' \n",
    "Creat one hot matrix function to generate one hot matrix for updating\n",
    "the gradients of weights during backward pass\n",
    "'''\n",
    "def one_hot_matrix(x, vocab_size):\n",
    "    ohm =np.zeros((len(x), vocab_size))\n",
    "    for i, o in enumerate(ohm):\n",
    "        o[x[i]] = 1\n",
    "    return ohm"
   ]
  },
  {
   "cell_type": "markdown",
   "id": "dd60303a",
   "metadata": {},
   "source": [
    "Create a `one_hot_vector` function which is used to generate the vector of true lables which will then be compared with the predicted lables to calculate categorical loss OR derivative of categorical loss. The function takes as input:\n",
    "\n",
    "- `idx`: And index of the true class\n",
    "- `size`: The vector size\n",
    "\n",
    "and returns:\n",
    "\n",
    "- `x`: The one hot vector"
   ]
  },
  {
   "cell_type": "code",
   "execution_count": 31,
   "id": "c28fa503",
   "metadata": {},
   "outputs": [],
   "source": [
    "def one_hot_vector(idx, size):\n",
    "    x = np.zeros(size, dtype=np.int)\n",
    "    x[idx] = 1\n",
    "    return x"
   ]
  },
  {
   "cell_type": "markdown",
   "id": "8a7c3bfd",
   "metadata": {},
   "source": [
    "### Backward pass function\n",
    "\n",
    "The `backward_pass` function computes the gradients and updates the weights in the network from the output layer to the input layer. It takes inputs\n",
    "- `x`: A list of vocabulary indices each corresponding to a word in the document (input)\n",
    "- `y`: The true label\n",
    "- `W`: A list of weight matrix connecting each part of the network; e.g. W[0] is the weight matrix for connection between input and first hidden layer, W[1] is for connection between first hidden and the next next one.\n",
    "- `out_vals`: A dictionary of output values from a forward pass\n",
    "- `lr`: The learning rate that is used during weight updation\n",
    "- `freeze_emb`: A boolean value indicating whether the embedding weights will be updated or not.\n",
    "\n",
    "and returns\n",
    "- `W`: The updated weights of the network\n",
    "\n",
    "Note: The gradients on the output layer are similary to the multiclass logistic regression."
   ]
  },
  {
   "cell_type": "code",
   "execution_count": 32,
   "id": "26246742",
   "metadata": {},
   "outputs": [],
   "source": [
    "def backward_pass(x, y, W, out_vals, lr=0.001, freeze_emb=False):\n",
    "    \n",
    "    num_classes = 3\n",
    "    \n",
    "    # One hot vector to represent the correct classes for calculating categorical loss derivative\n",
    "    y_onehot = one_hot_vector(y-1, num_classes)\n",
    "    \n",
    "    # Compute gradient on output layer (dy_hatL)\n",
    "    g = categorical_loss_derivative(y_onehot, out_vals.get(\"y_pred\"))\n",
    "    \n",
    "    for k in reversed(range(len(W))):\n",
    "        if k == len(W)-1:\n",
    "            # Compute weights gradients (ghk-1)\n",
    "            d_wkL = np.dot(out_vals.get(\"a\")[k-1], g.T)\n",
    "        else:\n",
    "            # Element-wise multiplication (g.f'(zk))\n",
    "            g = g * relu_derivative(out_vals.get(\"h\")[k])\n",
    "            if k>0:\n",
    "                # Compute weights gradients (ghk-1)\n",
    "                d_wkL = np.dot(out_vals.get(\"a\")[k-1], g.T)\n",
    "            \n",
    "            # Compute gradient only for word embedding updation\n",
    "            elif k==0 and not freeze_emb:\n",
    "                g = np.dot(np.ones((len(x), 1)), g.T) / len(x)\n",
    "        \n",
    "        if k>0:\n",
    "            # Compute the gradients w.r.t. next layer (gWk)\n",
    "            wk = W[k].get(\"weights\")\n",
    "            g = np.dot(wk, g)\n",
    "            \n",
    "            # Apply dropout for backward pass\n",
    "            dropout = out_vals[\"dropout\"][k-1]\n",
    "            g = np.multiply(dropout.reshape(len(dropout), -1), g)\n",
    "            W[k][\"weights\"] = wk - (lr * d_wkL)\n",
    "    \n",
    "    # Update word embeddings\n",
    "    if not freeze_emb:\n",
    "        d_wkL = np.dot(one_hot_matrix(x, len(news_vocab)).T, g)\n",
    "        uniqueIdx = list(set(x))\n",
    "        W[k][\"embedding_matrix\"][uniqueIdx] -= lr * d_wkL[uniqueIdx]    # Wk-lr*d_wkL\n",
    "    \n",
    "    return W\n",
    "    "
   ]
  },
  {
   "cell_type": "markdown",
   "id": "92e89463",
   "metadata": {},
   "source": [
    "**Observations**\n",
    "\n",
    "- Dropout mask:\n",
    "    - Dropout is used for regularisation, and it makes network less prone to overfitting. During dropout we kill the neurons during forward pass. Since the killed neurons don't contribue to the network learing process, we don't flow the gradients through them while during backward pass. Hence, it is important to apply the dropout mask just before calculating the gradient with respect to the next hidden layer (gWk) in backward pass and kill the same neuron again.\n",
    "    - The dropout mask for forward and backward pass is the same.\n",
    "\n",
    "- Word embedding updation:\n",
    "    - In order to optimise the processing time, a one hot matrix is used. This allows us to update only relevant unique indexes with resepct to the given document(x). See the logic where `W[k][\"embedding_matrix\"]` is used in `backward_pass` function.\n",
    "    \n",
    "    "
   ]
  },
  {
   "cell_type": "markdown",
   "id": "133834e5",
   "metadata": {},
   "source": [
    "### Shuffle function\n",
    "\n",
    "We will now create a `shuffle` function that is used to shuffle the dataset before starting the training. This would ensure that the dataset is generalised during training in order to avoid the overfitting. The function take inputs:\n",
    "\n",
    "- `X`: A list of word indexes of the training dataset\n",
    "- `Y`: A list of labels of the training dataset corresponding to given X\n",
    "\n",
    "and returns:\n",
    "\n",
    "- `X_shuffled`: The shuffled list of `X`\n",
    "- `Y_shuffled`: The shuffled list of `Y` corresponding to the respective `X`"
   ]
  },
  {
   "cell_type": "code",
   "execution_count": 33,
   "id": "8f5fd0af",
   "metadata": {},
   "outputs": [],
   "source": [
    "def shuffle(X, Y):\n",
    "    indexes = np.arange(len(X))\n",
    "    np.random.shuffle(indexes)\n",
    "    X_shuffled = X[indexes]\n",
    "    Y_shuffled = Y[indexes]\n",
    "    return X_shuffled.tolist(), Y_shuffled.tolist()"
   ]
  },
  {
   "cell_type": "code",
   "execution_count": 34,
   "id": "42e0af9a",
   "metadata": {},
   "outputs": [],
   "source": [
    "def on_hot_vector(idx, size):\n",
    "    x = np.zerors(size, dtype=np.int)\n",
    "    x[idx] = 1\n",
    "    return x"
   ]
  },
  {
   "cell_type": "markdown",
   "id": "7e90246d",
   "metadata": {},
   "source": [
    "### Stochastic Gradient Descent function\n",
    "\n",
    "We are going to create a stochastic gradient descent function `SGD` to support back-propagation by using the `forward_pass` and `backward_pass` function. It takes as inputs:\n",
    "- `X_tr`: A vector of training data\n",
    "- `Y_tr`: A vector of labels for training data\n",
    "- `W`: The weights of the network (dictionary)\n",
    "- `X_dev`: A vector of dev data\n",
    "- `Y_dev`: A vector labels for dev data\n",
    "- `lr`: Learning rate\n",
    "- `dropout`: Regularisation strength\n",
    "- `epochs`: Number of full passes over the training data\n",
    "- `tolerance`: Stop training if the difference between the current and previous vaildation loss is smaller than the threshold\n",
    "- `freeze_emb`: A boolean value indicating whether the embedding weights will be updated or not\n",
    "- `print_progress`: Flag for printing the training progress\n",
    "\n",
    "and returns:\n",
    "- `weights`: The learned weights\n",
    "- `training_loss_history`: A vector of the average losses of the entire training set after each epoch\n",
    "- `validation_loss_history`: A vector of the average losses of the entire validation set after each epoch"
   ]
  },
  {
   "cell_type": "code",
   "execution_count": 35,
   "id": "4d5fa2b7",
   "metadata": {},
   "outputs": [],
   "source": [
    "def SGD(X_tr, Y_tr, W, X_dev=[], Y_dev=[], lr=0.001, dropout=0.2, \n",
    "        epochs=5, tolerance=0.001, freeze_emb=False, print_progress=True):\n",
    "    \n",
    "    training_loss_history = []\n",
    "    validation_loss_history = []\n",
    "    \n",
    "    # Randomise the order of the training dataset\n",
    "    X_tr, Y_tr = shuffle(np.array(X_tr, dtype=object), np.array(Y_tr))\n",
    "        \n",
    "    for epoch in tnrange(epochs, desc=\"Epochs\"):\n",
    "        \n",
    "        # Iterate through the dataset\n",
    "        for i, x in enumerate(X_tr):\n",
    "            \n",
    "            # Forward pass\n",
    "            out_vals = forward_pass(x, W, dropout_rate=dropout)\n",
    "            \n",
    "            # Backward pass\n",
    "            W = backward_pass(X_tr[i], Y_tr[i], W, out_vals, lr, freeze_emb)\n",
    "            \n",
    "        # Calculate loss\n",
    "        train_loss = categorical_loss(X_tr, Y_tr, W)\n",
    "        val_loss = categorical_loss(X_dev, Y_dev, W)\n",
    "        \n",
    "        if print_progress:\n",
    "            diff = 0.0\n",
    "            if epoch > 0:\n",
    "                diff = np.abs(val_loss - validation_loss_history[-1])\n",
    "            \n",
    "            if (epoch > 0 and val_loss <0.5 and diff <= tolerance):\n",
    "                print(f'{epoch + 1}, Training Loss: {train_loss:.5f}, Validation Loss: {val_loss:.5f}, Diff(Val Loss): {diff:.5f}')\n",
    "                print('Tolerance encountered. Stop the training.')\n",
    "                break\n",
    "            if (int((epoch+1)%5)) == 0:\n",
    "                print(f'{epoch + 1}, Training Loss: {train_loss:.5f}, Validation Loss: {val_loss:.5f}, Diff(Val Loss): {diff:.5f}')\n",
    "        \n",
    "        training_loss_history.append(train_loss)\n",
    "        validation_loss_history.append(val_loss)\n",
    "\n",
    "    return W, training_loss_history, validation_loss_history\n"
   ]
  },
  {
   "cell_type": "code",
   "execution_count": 36,
   "id": "ca360aac",
   "metadata": {},
   "outputs": [],
   "source": [
    "# We will now create the function to plot the losses\n",
    "def plot_loss(loss_tr, loss_val):\n",
    "    fig, ax = plt.subplots(1, figsize=(10,5))\n",
    "    ax.plot(loss_tr, color='red', label='Training Loss')\n",
    "    ax.plot(loss_val, color='blue', label='Validation Loss')\n",
    "    ax.set_title(\"Epoch-wise loss\")\n",
    "    ax.set_xlabel(\"Epoch\")\n",
    "    ax.set_ylabel(\"Loss\")\n",
    "    ax.legend(fancybox=True, framealpha=1, shadow=True, borderpad=1)\n",
    "    SMALL_SIZE=12\n",
    "    MEDIUM_SIZE=14\n",
    "    BIGGER_SIZE=16\n",
    "\n",
    "    plt.rc('font', size=SMALL_SIZE)          # controls default text sizes\n",
    "    plt.rc('axes', titlesize=SMALL_SIZE)     # fontsize of the axes title\n",
    "    plt.rc('axes', labelsize=MEDIUM_SIZE)    # fontsize of the x and y labels\n",
    "    plt.rc('xtick', labelsize=SMALL_SIZE)    # fontsize of the tick labels\n",
    "    plt.rc('ytick', labelsize=SMALL_SIZE)    # fontsize of the tick labels\n",
    "    plt.rc('legend', fontsize=SMALL_SIZE)    # legend fontsize\n",
    "    plt.rc('figure', titlesize=BIGGER_SIZE)  # fontsize of the figure title\n",
    "    \n",
    "    plt.show()"
   ]
  },
  {
   "cell_type": "markdown",
   "id": "3d50c69f",
   "metadata": {},
   "source": [
    "We are not ready to train and evaluate our Feedforward neural network."
   ]
  },
  {
   "cell_type": "code",
   "execution_count": 37,
   "id": "03a5104e",
   "metadata": {},
   "outputs": [],
   "source": [
    "def train_and_evaluate(params_list, embedding_matrix=None):\n",
    "    for i, params in enumerate(params_list):\n",
    "        \n",
    "        # Resetting seed because of randomness processing\n",
    "        set_seed()\n",
    "        \n",
    "        print(f'\\n')\n",
    "        print(f'params: {json.dumps(params, indent=4)}')\n",
    "        \n",
    "        # Define network weights\n",
    "        W = network_weights(vocab_size=params[\"vocab_size\"],\n",
    "                            embedding_dim=params[\"embedding_dim\"],\n",
    "                            hidden_dim=params[\"hidden_dim\"],\n",
    "                            num_classes=params[\"num_classes\"],\n",
    "                            init_val=params[\"init_val\"])\n",
    "        \n",
    "        # Print network weights\n",
    "        for i in range(len(W)):\n",
    "            if i==0:\n",
    "                print(f'Shape W{str(i)}, {W[i][\"embedding_matrix\"].shape}')\n",
    "            else:\n",
    "                print(f'Shape W{str(i)}, {W[i][\"weights\"].shape}')\n",
    "        \n",
    "        # Replace the weights of the embedding matrix\n",
    "        if embedding_matrix is not None:\n",
    "            W[0][\"embedding_matrix\"] = embedding_matrix\n",
    "            \n",
    "        \n",
    "        # Train the model\n",
    "        W, loss_tr, loss_val = SGD(X_tr=news_Xtrain_ngrams_indices, \n",
    "                                   Y_tr=news_ytrain, W=W,\n",
    "                                   X_dev=news_Xdev_ngrams_indices,\n",
    "                                   Y_dev=news_ydev,\n",
    "                                   lr=params[\"lr\"],\n",
    "                                   dropout=params[\"dropout\"],\n",
    "                                   freeze_emb=params[\"freeze_emb\"],\n",
    "                                   tolerance=params[\"tolerance\"],\n",
    "                                   epochs=params[\"epochs\"])\n",
    "        print(\"Learning process:\\n\")\n",
    "        plot_loss(loss_tr, loss_val)\n",
    "        \n",
    "        print(\"Compute accuracy, precision, recall, and F1-score:\\n\")\n",
    "        X_te = news_Xtest_ngrams_indices\n",
    "        Y_te = news_ytest\n",
    "        pred_te = [np.argmax(forward_pass(x, W, dropout_rate=0.0)['y_pred'])+1 for x,y in zip(X_te, Y_te)]\n",
    "        \n",
    "        print(f\"Accuracy: {accuracy_score(Y_te, pred_te)}\")\n",
    "        print(f\"Precision: {precision_score(Y_te, pred_te, average='macro')}\")\n",
    "        print(f\"Recall: {recall_score(Y_te, pred_te, average='macro')}\")\n",
    "        print(f\"F1-score: {f1_score(Y_te, pred_te, average='macro')}\")\n",
    "        \n",
    "        "
   ]
  },
  {
   "cell_type": "code",
   "execution_count": 38,
   "id": "4d3096d1",
   "metadata": {
    "scrolled": false
   },
   "outputs": [
    {
     "name": "stdout",
     "output_type": "stream",
     "text": [
      "\n",
      "\n",
      "params: {\n",
      "    \"vocab_size\": 2000,\n",
      "    \"embedding_dim\": 100,\n",
      "    \"hidden_dim\": [],\n",
      "    \"lr\": 0.01,\n",
      "    \"dropout\": 0.0,\n",
      "    \"tolerance\": 0.0001,\n",
      "    \"epochs\": 200,\n",
      "    \"freeze_emb\": false,\n",
      "    \"init_val\": 0.1,\n",
      "    \"num_classes\": 3\n",
      "}\n",
      "Shape W0, (2000, 100)\n",
      "Shape W1, (100, 3)\n"
     ]
    },
    {
     "data": {
      "application/vnd.jupyter.widget-view+json": {
       "model_id": "8b6bd4dd22784dde878b94f182b3f499",
       "version_major": 2,
       "version_minor": 0
      },
      "text/plain": [
       "Epochs:   0%|          | 0/200 [00:00<?, ?it/s]"
      ]
     },
     "metadata": {},
     "output_type": "display_data"
    },
    {
     "name": "stdout",
     "output_type": "stream",
     "text": [
      "5, Training Loss: 1.08259, Validation Loss: 1.08921, Diff(Val Loss): 0.00340\n",
      "10, Training Loss: 0.95554, Validation Loss: 1.01122, Diff(Val Loss): 0.03028\n",
      "15, Training Loss: 0.66523, Validation Loss: 0.76548, Diff(Val Loss): 0.05261\n",
      "20, Training Loss: 0.42588, Validation Loss: 0.51929, Diff(Val Loss): 0.04160\n",
      "25, Training Loss: 0.28813, Validation Loss: 0.38814, Diff(Val Loss): 0.01832\n",
      "30, Training Loss: 0.21435, Validation Loss: 0.32857, Diff(Val Loss): 0.00874\n",
      "35, Training Loss: 0.16746, Validation Loss: 0.29907, Diff(Val Loss): 0.00445\n",
      "40, Training Loss: 0.13532, Validation Loss: 0.28395, Diff(Val Loss): 0.00226\n",
      "45, Training Loss: 0.11217, Validation Loss: 0.27627, Diff(Val Loss): 0.00116\n",
      "50, Training Loss: 0.09489, Validation Loss: 0.27241, Diff(Val Loss): 0.00056\n",
      "55, Training Loss: 0.08158, Validation Loss: 0.27043, Diff(Val Loss): 0.00034\n",
      "60, Training Loss: 0.07108, Validation Loss: 0.26962, Diff(Val Loss): 0.00009\n",
      "Tolerance encountered. Stop the training.\n",
      "Learning process:\n",
      "\n"
     ]
    },
    {
     "data": {
      "image/png": "[encoded data removed]",
      "text/plain": [
       "<Figure size 720x360 with 1 Axes>"
      ]
     },
     "metadata": {
      "needs_background": "light"
     },
     "output_type": "display_data"
    },
    {
     "name": "stdout",
     "output_type": "stream",
     "text": [
      "Compute accuracy, precision, recall, and F1-score:\n",
      "\n",
      "Accuracy: 0.85\n",
      "Precision: 0.8518875485406152\n",
      "Recall: 0.85\n",
      "F1-score: 0.8498986849290119\n"
     ]
    },
    {
     "name": "stderr",
     "output_type": "stream",
     "text": [
      "<ipython-input-29-8279170683c5>:24: RuntimeWarning: invalid value encountered in true_divide\n",
      "  h = (np.dot(weights.T, ones_vector) / len(x_in)) + bias\n"
     ]
    }
   ],
   "source": [
    "params_list = [\n",
    "    {\"vocab_size\":len(news_vocab),\n",
    "     \"embedding_dim\":100,\n",
    "     \"hidden_dim\":[],\n",
    "     \"lr\":0.01,\n",
    "     \"dropout\":0.0,\n",
    "     \"tolerance\":0.0001,\n",
    "     \"epochs\":200,\n",
    "     \"freeze_emb\":False,\n",
    "     \"init_val\":0.1,\n",
    "     \"num_classes\":3\n",
    "    }\n",
    "]\n",
    "\n",
    "train_and_evaluate(params_list)"
   ]
  },
  {
   "cell_type": "code",
   "execution_count": null,
   "id": "d6809110",
   "metadata": {},
   "outputs": [],
   "source": []
  },
  {
   "cell_type": "code",
   "execution_count": null,
   "id": "d8c1de9a",
   "metadata": {},
   "outputs": [],
   "source": []
  }
 ],
 "metadata": {
  "kernelspec": {
   "display_name": "Python 3",
   "language": "python",
   "name": "python3"
  },
  "language_info": {
   "codemirror_mode": {
    "name": "ipython",
    "version": 3
   },
   "file_extension": ".py",
   "mimetype": "text/x-python",
   "name": "python",
   "nbconvert_exporter": "python",
   "pygments_lexer": "ipython3",
   "version": "3.8.8"
  }
 },
 "nbformat": 4,
 "nbformat_minor": 5
}
