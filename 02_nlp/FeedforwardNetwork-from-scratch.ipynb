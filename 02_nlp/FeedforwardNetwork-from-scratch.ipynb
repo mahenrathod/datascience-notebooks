{
 "cells": [
  {
   "cell_type": "markdown",
   "id": "15adaacf",
   "metadata": {},
   "source": [
    "# Feedforward Neural Network from scratch for Text Classification"
   ]
  },
  {
   "cell_type": "markdown",
   "id": "2bfb4be5",
   "metadata": {},
   "source": [
    "### Contents\n",
    "\n",
    "1. Goal\n",
    "2. Approach\n",
    "3. Dataset"
   ]
  },
  {
   "cell_type": "markdown",
   "id": "31dfc91e",
   "metadata": {},
   "source": [
    "### 1. Goal\n",
    "\n",
    "- The goal of this notebook is to develop a Feedforward Neural Netowork from scratch for text classification.\n",
    "\n"
   ]
  },
  {
   "cell_type": "markdown",
   "id": "d41bb332",
   "metadata": {},
   "source": [
    "### 2. Approach\n",
    "\n",
    "- Transform raw text data into input vectors\n",
    "\n",
    "\n",
    "- Implement Feedforward network with\n",
    "    - Input: Embedding weight matrix\n",
    "    - Interim: Hidden layer(S)\n",
    "    - Output: softmax\n",
    "    \n",
    "    \n",
    "- Implement Stochastic Gradient Descent (SGD) algorithm with\n",
    "    - Forward pass to compute intermediate outputs\n",
    "    - Backward pass (Backpropagation) to compute gradients and update weights of the network\n",
    "    - Dropout for regularisation\n",
    "    - Perform hyperparater tuning\n",
    "        - dropout rate\n",
    "        - embedding size\n",
    "        - Learning rate\n",
    "    - Plot the learning process\n",
    "        - training loss\n",
    "        - validation loss\n",
    "        \n",
    "        \n",
    "- Implement pre-trained word embeddings (GloVe)\n",
    "    - Reinitialise network weights with pre-trained word embeddings from GloVe\n",
    "    - Don't update weight during training (weight freezing, NO backpropagation)\n",
    "    - Perform hyperparameter tuning\n",
    "    - Plot the learning process\n",
    "    \n",
    "    \n",
    "- Implement More hidden layers\n"
   ]
  },
  {
   "cell_type": "markdown",
   "id": "e3ade1b4",
   "metadata": {},
   "source": [
    "### 3. Dataset\n",
    "\n",
    "#### AG News Corpus\n",
    "- The data is taken from [AG News Corpus](http://groups.di.unipi.it/~gulli/AG_corpus_of_news_articles.html).\n",
    "    - Created folder structure:\n",
    "        - `data/train.csv`: contains 2,400 news articles, 800 for each class to be used for training.\n",
    "        - `data/dev.csv`: contains 150 news articles, 50 for each class to be used for hyperparameter selection and monitoring the training process.\n",
    "        - `data/test.csv`: contains 900 news articles, 300 for each class to be used for testing.\n",
    "\n",
    "#### GloVe Embeddings\n",
    "\n",
    "- The pre-trained GloVe embeddings trained on Common Crawl (840B tokens, 2.2M vocab, cased, 300d vectors, 2.03 GB download) is available from [here](http://nlp.stanford.edu/data/glove.840B.300d.zip).\n"
   ]
  },
  {
   "cell_type": "code",
   "execution_count": 1,
   "id": "c9982015",
   "metadata": {},
   "outputs": [
    {
     "name": "stdout",
     "output_type": "stream",
     "text": [
      "Requirement already satisfied: matplotlib==3.3.2 in /opt/anaconda3/lib/python3.8/site-packages (3.3.2)\n",
      "Requirement already satisfied: python-dateutil>=2.1 in /opt/anaconda3/lib/python3.8/site-packages (from matplotlib==3.3.2) (2.8.1)\n",
      "Requirement already satisfied: numpy>=1.15 in /opt/anaconda3/lib/python3.8/site-packages (from matplotlib==3.3.2) (1.19.5)\n",
      "Requirement already satisfied: pyparsing!=2.0.4,!=2.1.2,!=2.1.6,>=2.0.3 in /opt/anaconda3/lib/python3.8/site-packages (from matplotlib==3.3.2) (2.4.7)\n",
      "Requirement already satisfied: pillow>=6.2.0 in /opt/anaconda3/lib/python3.8/site-packages (from matplotlib==3.3.2) (8.2.0)\n",
      "Requirement already satisfied: kiwisolver>=1.0.1 in /opt/anaconda3/lib/python3.8/site-packages (from matplotlib==3.3.2) (1.3.1)\n",
      "Requirement already satisfied: cycler>=0.10 in /opt/anaconda3/lib/python3.8/site-packages (from matplotlib==3.3.2) (0.10.0)\n",
      "Requirement already satisfied: certifi>=2020.06.20 in /opt/anaconda3/lib/python3.8/site-packages (from matplotlib==3.3.2) (2021.10.8)\n",
      "Requirement already satisfied: six in /opt/anaconda3/lib/python3.8/site-packages (from cycler>=0.10->matplotlib==3.3.2) (1.15.0)\n"
     ]
    }
   ],
   "source": [
    "!pip install matplotlib==3.3.2"
   ]
  },
  {
   "cell_type": "code",
   "execution_count": 2,
   "id": "32f378f3",
   "metadata": {},
   "outputs": [],
   "source": [
    "# Important python libraries\n",
    "\n",
    "import pandas as pd\n",
    "import numpy as np\n",
    "import random\n",
    "import re\n",
    "from collections import Counter\n",
    "from tqdm import tqdm\n",
    "from tqdm.notebook import tnrange\n",
    "import matplotlib.pyplot as plt\n",
    "import json\n",
    "from sklearn.metrics import accuracy_score, precision_score, recall_score, f1_score\n",
    "import zipfile\n"
   ]
  },
  {
   "cell_type": "code",
   "execution_count": 3,
   "id": "680754e2",
   "metadata": {},
   "outputs": [],
   "source": [
    "# Set random seed for reproducibility\n",
    "def set_seed():\n",
    "    random.seed(123)\n",
    "    np.random.seed(123)\n",
    "    \n",
    "set_seed()"
   ]
  },
  {
   "cell_type": "markdown",
   "id": "10b776e3",
   "metadata": {},
   "source": [
    "### Transform raw text data into input vectors\n",
    "\n",
    "- Transform the raw text into train, dev, and test sets\n",
    "- Since the dataset done't have headers, we will first create custome headers and then load the data"
   ]
  },
  {
   "cell_type": "code",
   "execution_count": 4,
   "id": "2867f242",
   "metadata": {},
   "outputs": [],
   "source": [
    "# Create a customer Header\n",
    "news_header = [\"label\", \"text\"]\n",
    "\n",
    "# Load news data\n",
    "news_train = pd.read_csv('./data/train.csv', names=news_header)\n",
    "news_dev = pd.read_csv('./data/dev.csv', names=news_header)\n",
    "news_test = pd.read_csv('./data/test.csv', names=news_header)\n"
   ]
  },
  {
   "cell_type": "code",
   "execution_count": 5,
   "id": "2c155f9a",
   "metadata": {},
   "outputs": [
    {
     "data": {
      "text/html": [
       "<div>\n",
       "<style scoped>\n",
       "    .dataframe tbody tr th:only-of-type {\n",
       "        vertical-align: middle;\n",
       "    }\n",
       "\n",
       "    .dataframe tbody tr th {\n",
       "        vertical-align: top;\n",
       "    }\n",
       "\n",
       "    .dataframe thead th {\n",
       "        text-align: right;\n",
       "    }\n",
       "</style>\n",
       "<table border=\"1\" class=\"dataframe\">\n",
       "  <thead>\n",
       "    <tr style=\"text-align: right;\">\n",
       "      <th></th>\n",
       "      <th>label</th>\n",
       "      <th>text</th>\n",
       "    </tr>\n",
       "  </thead>\n",
       "  <tbody>\n",
       "    <tr>\n",
       "      <th>0</th>\n",
       "      <td>1</td>\n",
       "      <td>Reuters - Venezuelans turned out early\\and in ...</td>\n",
       "    </tr>\n",
       "    <tr>\n",
       "      <th>1</th>\n",
       "      <td>1</td>\n",
       "      <td>Reuters - South Korean police used water canno...</td>\n",
       "    </tr>\n",
       "    <tr>\n",
       "      <th>2</th>\n",
       "      <td>1</td>\n",
       "      <td>Reuters - Thousands of Palestinian\\prisoners i...</td>\n",
       "    </tr>\n",
       "    <tr>\n",
       "      <th>3</th>\n",
       "      <td>1</td>\n",
       "      <td>AFP - Sporadic gunfire and shelling took place...</td>\n",
       "    </tr>\n",
       "    <tr>\n",
       "      <th>4</th>\n",
       "      <td>1</td>\n",
       "      <td>AP - Dozens of Rwandan soldiers flew into Suda...</td>\n",
       "    </tr>\n",
       "  </tbody>\n",
       "</table>\n",
       "</div>"
      ],
      "text/plain": [
       "   label                                               text\n",
       "0      1  Reuters - Venezuelans turned out early\\and in ...\n",
       "1      1  Reuters - South Korean police used water canno...\n",
       "2      1  Reuters - Thousands of Palestinian\\prisoners i...\n",
       "3      1  AFP - Sporadic gunfire and shelling took place...\n",
       "4      1  AP - Dozens of Rwandan soldiers flew into Suda..."
      ]
     },
     "execution_count": 5,
     "metadata": {},
     "output_type": "execute_result"
    }
   ],
   "source": [
    "# Check the data\n",
    "news_train.head(5)"
   ]
  },
  {
   "cell_type": "code",
   "execution_count": 6,
   "id": "0e0af3a3",
   "metadata": {},
   "outputs": [
    {
     "data": {
      "text/html": [
       "<div>\n",
       "<style scoped>\n",
       "    .dataframe tbody tr th:only-of-type {\n",
       "        vertical-align: middle;\n",
       "    }\n",
       "\n",
       "    .dataframe tbody tr th {\n",
       "        vertical-align: top;\n",
       "    }\n",
       "\n",
       "    .dataframe thead th {\n",
       "        text-align: right;\n",
       "    }\n",
       "</style>\n",
       "<table border=\"1\" class=\"dataframe\">\n",
       "  <thead>\n",
       "    <tr style=\"text-align: right;\">\n",
       "      <th></th>\n",
       "      <th>label</th>\n",
       "      <th>text</th>\n",
       "    </tr>\n",
       "  </thead>\n",
       "  <tbody>\n",
       "    <tr>\n",
       "      <th>0</th>\n",
       "      <td>1</td>\n",
       "      <td>BAGHDAD, Iraq - An Islamic militant group that...</td>\n",
       "    </tr>\n",
       "    <tr>\n",
       "      <th>1</th>\n",
       "      <td>1</td>\n",
       "      <td>Parts of Los Angeles international airport are...</td>\n",
       "    </tr>\n",
       "    <tr>\n",
       "      <th>2</th>\n",
       "      <td>1</td>\n",
       "      <td>AFP - Facing a issue that once tripped up his ...</td>\n",
       "    </tr>\n",
       "    <tr>\n",
       "      <th>3</th>\n",
       "      <td>1</td>\n",
       "      <td>The leader of militant Lebanese group Hezbolla...</td>\n",
       "    </tr>\n",
       "    <tr>\n",
       "      <th>4</th>\n",
       "      <td>1</td>\n",
       "      <td>JAKARTA : ASEAN finance ministers ended a meet...</td>\n",
       "    </tr>\n",
       "  </tbody>\n",
       "</table>\n",
       "</div>"
      ],
      "text/plain": [
       "   label                                               text\n",
       "0      1  BAGHDAD, Iraq - An Islamic militant group that...\n",
       "1      1  Parts of Los Angeles international airport are...\n",
       "2      1  AFP - Facing a issue that once tripped up his ...\n",
       "3      1  The leader of militant Lebanese group Hezbolla...\n",
       "4      1  JAKARTA : ASEAN finance ministers ended a meet..."
      ]
     },
     "execution_count": 6,
     "metadata": {},
     "output_type": "execute_result"
    }
   ],
   "source": [
    "news_dev.head(5)"
   ]
  },
  {
   "cell_type": "code",
   "execution_count": 7,
   "id": "14c9b755",
   "metadata": {},
   "outputs": [
    {
     "data": {
      "text/html": [
       "<div>\n",
       "<style scoped>\n",
       "    .dataframe tbody tr th:only-of-type {\n",
       "        vertical-align: middle;\n",
       "    }\n",
       "\n",
       "    .dataframe tbody tr th {\n",
       "        vertical-align: top;\n",
       "    }\n",
       "\n",
       "    .dataframe thead th {\n",
       "        text-align: right;\n",
       "    }\n",
       "</style>\n",
       "<table border=\"1\" class=\"dataframe\">\n",
       "  <thead>\n",
       "    <tr style=\"text-align: right;\">\n",
       "      <th></th>\n",
       "      <th>label</th>\n",
       "      <th>text</th>\n",
       "    </tr>\n",
       "  </thead>\n",
       "  <tbody>\n",
       "    <tr>\n",
       "      <th>0</th>\n",
       "      <td>1</td>\n",
       "      <td>Canadian Press - VANCOUVER (CP) - The sister o...</td>\n",
       "    </tr>\n",
       "    <tr>\n",
       "      <th>1</th>\n",
       "      <td>1</td>\n",
       "      <td>AP - The man who claims Gov. James E. McGreeve...</td>\n",
       "    </tr>\n",
       "    <tr>\n",
       "      <th>2</th>\n",
       "      <td>1</td>\n",
       "      <td>NAJAF, Iraq - Explosions and gunfire rattled t...</td>\n",
       "    </tr>\n",
       "    <tr>\n",
       "      <th>3</th>\n",
       "      <td>1</td>\n",
       "      <td>LOURDES, France - A frail Pope John Paul II, b...</td>\n",
       "    </tr>\n",
       "    <tr>\n",
       "      <th>4</th>\n",
       "      <td>1</td>\n",
       "      <td>Supporters and rivals warn of possible fraud; ...</td>\n",
       "    </tr>\n",
       "  </tbody>\n",
       "</table>\n",
       "</div>"
      ],
      "text/plain": [
       "   label                                               text\n",
       "0      1  Canadian Press - VANCOUVER (CP) - The sister o...\n",
       "1      1  AP - The man who claims Gov. James E. McGreeve...\n",
       "2      1  NAJAF, Iraq - Explosions and gunfire rattled t...\n",
       "3      1  LOURDES, France - A frail Pope John Paul II, b...\n",
       "4      1  Supporters and rivals warn of possible fraud; ..."
      ]
     },
     "execution_count": 7,
     "metadata": {},
     "output_type": "execute_result"
    }
   ],
   "source": [
    "news_test.head(5)"
   ]
  },
  {
   "cell_type": "markdown",
   "id": "630aabb0",
   "metadata": {},
   "source": [
    "Separate the features and lables lists for train, dev, and test sets"
   ]
  },
  {
   "cell_type": "code",
   "execution_count": 8,
   "id": "20e35c84",
   "metadata": {},
   "outputs": [],
   "source": [
    "news_Xtrain = news_train['text'].tolist()\n",
    "news_Xdev = news_dev['text'].tolist()\n",
    "news_Xtest = news_test['text'].tolist()\n",
    "\n",
    "news_ytrain = news_train['label'].to_numpy()\n",
    "news_ydev = news_dev['label'].to_numpy()\n",
    "news_ytest = news_test['label'].to_numpy()\n"
   ]
  },
  {
   "cell_type": "code",
   "execution_count": 9,
   "id": "783fb0b5",
   "metadata": {},
   "outputs": [
    {
     "name": "stdout",
     "output_type": "stream",
     "text": [
      "2400\n",
      "2400\n",
      "150\n",
      "150\n",
      "900\n",
      "900\n"
     ]
    }
   ],
   "source": [
    "# Check the size of the new datasets\n",
    "print(len(news_Xtrain))\n",
    "print(len(news_ytrain))\n",
    "print(len(news_Xdev))\n",
    "print(len(news_ydev))\n",
    "print(len(news_Xtest))\n",
    "print(len(news_ytest))"
   ]
  },
  {
   "cell_type": "markdown",
   "id": "4535fdb8",
   "metadata": {},
   "source": [
    "### Implement Feedforward network\n",
    "\n",
    "**Create input representations**\n",
    "- To build a Feedforward neural network, the input data representation needs to be obtained in two ways; from vocabulary or from one-hot encoding. Since, one-hot encoding reqires large memory capacity, we ill repreent the input documents as a list of vocabulary indices where each wrod corresponds to a vocabulary index.\n",
    "\n",
    "**Text pre-processing pipeline**\n",
    "- To obtrain the vocabulary of words, we will create text pre-processing pipeline as below:\n",
    "    - Tokenise all texts into a list of unigrams\n",
    "    - Remove stop words\n",
    "    - Remove unigrams appearing in less than K documents\n",
    "    - Use the remaining unigrams to create the vocabulary of top-N most frequent unigrams in the entire corpus"
   ]
  },
  {
   "cell_type": "code",
   "execution_count": 10,
   "id": "a0378a4c",
   "metadata": {},
   "outputs": [],
   "source": [
    "# Create the stop words list\n",
    "stop_words = ['a', 'i', \"i'm\", 'me', 'my', 'myself', 'we', 'our', 'ours', 'ourselves', \n",
    "              'you', \"you're\", \"you've\", \"you'll\", \"you'd\", 'your', 'yours', \n",
    "              'yourself', 'yourselves', 'he', 'him', 'his', 'himself', 'she', \"she's\", \n",
    "              'her', 'hers', 'herself', 'it', \"it's\", 'its', 'itself', 'they', 'them', \n",
    "              'their', 'theirs', 'themselves', 'what', 'which', 'who', 'whom', 'this', \n",
    "              'that', \"that'll\", 'these', 'those', 'am', 'is', 'are', 'was', 'were', 'be', \n",
    "              'been', 'being', 'have', 'has', 'had', 'having', 'do', 'does', 'did', 'doing', \n",
    "              'an', 'the', 'and', 'but', 'if', 'or', 'because', 'as', 'until', 'while', \n",
    "              'of', 'at', 'by', 'for', 'with', 'about', 'against', 'between', 'into', \n",
    "              'through', 'during', 'before', 'after', 'above', 'below', 'to', 'from', 'up', \n",
    "              'down', 'in', 'out', 'on', 'off', 'over', 'under', 'again', 'further', 'then', \n",
    "              'once', 'here', 'there', 'when', 'where', 'why', 'how', 'all', 'any', 'both', \n",
    "              'each', 'few', 'more', 'most', 'other', 'some', 'such', \n",
    "              'only', 'own', 'same', 'so', 'than', 'too', 'very', 'can', 'will', \n",
    "              'just', 'should', \"should've\", 'now', 'll', 're', \n",
    "              've', 'ma', \".\", \",\", \"would\", \"could\", \"must\", \"shall\", \"may\"]"
   ]
  },
  {
   "cell_type": "markdown",
   "id": "75790a2c",
   "metadata": {},
   "source": [
    "### Unigram extraction from a document\n",
    "\n",
    "\n",
    "Implement ngram extraction function `extract_ngrams` where \n",
    "- `x_raw`: a string corresponding to the raw text of a document\n",
    "- `ngram_range`: a tuple of two integers denoting the type of ngrams being extracted (e.g. (1,2) denotes extracting unigrams and bigrams)\n",
    "- `token_pattern`: a string to be used within a regular expression to extract all tokens. Note that the data is already tokenised so we will use white space tokenisation\n",
    "- `stop_words`: a list of stop words\n",
    "- `vocab`: a given vocabulary. It should be used to extract specific features\n",
    "    \n",
    "and return \n",
    "- list of all extracted features    "
   ]
  },
  {
   "cell_type": "code",
   "execution_count": 11,
   "id": "8ad2eb80",
   "metadata": {},
   "outputs": [],
   "source": [
    "# Implement ngram extraction\n",
    "def extract_ngrams(x_raw, ngram_range=(1,3), \n",
    "                  token_pattern=f'\\b[A-Za-z][A-Za-z]+\\b',\n",
    "                 stop_words=[], vocab=set()):\n",
    "    token_regex = re.compile(token_pattern)\n",
    "    \n",
    "    # Extract all unigrams by tokenising\n",
    "    x_unigram = [w for w in token_regex.findall(str(x_raw).lower(),) if w not in stop_words]\n",
    "    \n",
    "    # Store the unigrams to be returned\n",
    "    x = []\n",
    "    if ngram_range[0] == 1:\n",
    "        x = x_unigram\n",
    "    \n",
    "    # Generate n-grams from avaialbe unigrams\n",
    "    ngrams = []\n",
    "    for n in range(ngram_range[0], ngram_range[1]+1):\n",
    "        if n==1: \n",
    "            continue\n",
    "        \n",
    "        # Pass a list of lists as an argument for zip\n",
    "        arg_list = [x_unigram]+[x_unigram[i:] for i in range(1, n)]\n",
    "        \n",
    "        # extract tuples of n-grams using zip\n",
    "        # for bigram this should look: list(zip(x_uni, x_uni[1:]))\n",
    "        # align each item x[i] in x_uni with the next one x[i+1]. \n",
    "        # Note that x_uni and x_uni[1:] have different lenghts\n",
    "        # but zip ignores redundant elements at the end of the second list\n",
    "        # Alternatively, this could be done with for loops\n",
    "        x_ngram = list(zip(*arg_list))\n",
    "        ngrams.append(x_ngram)\n",
    "    \n",
    "    for n in ngrams:\n",
    "        for t in n:\n",
    "            x.append(t)\n",
    "            \n",
    "    if len(vocab)>0:\n",
    "        x=[w for w in x if w in vocab]\n",
    "    \n",
    "    return x\n",
    "\n"
   ]
  },
  {
   "cell_type": "markdown",
   "id": "88a65971",
   "metadata": {},
   "source": [
    "### Create a vocabular of n-grams\n",
    "\n",
    "Implement `get_vocab` function, where\n",
    "- `X_raw`: a list of strings each corresponding to the raw text of a document\n",
    "- `ngram_range`: a tuple of two integers denoting the type of ngrams being extracted (e.g. (1,2) denotes extracting unigrams and bigrams)\n",
    "- `token_pattern`: a string to be used within a regular expression to extract all tokens. Note that data is already tokenised\n",
    "- `stop_words`: a list of stop words\n",
    "- `min_df`: keep ngrams with a minimum document frequency\n",
    "- `keep_topN`: keep top-N more frequent ngrams\n",
    "\n",
    "and return\n",
    "- `vocab`: a set of n-grams that will be used as features\n",
    "- `df`: a document frequency dictionay that contains ngrams as key and their corresponding document frequenciy as values\n",
    "- `ngram_counts`: counts of each ngram in vocab"
   ]
  },
  {
   "cell_type": "code",
   "execution_count": 12,
   "id": "2a543352",
   "metadata": {},
   "outputs": [],
   "source": [
    "def get_vocab(X_raw, ngram_range=(1,3),\n",
    "             token_pattern=r'\\b[A-Za-z][A-Za-z]+\\b',\n",
    "             min_df=0, keep_topN=0, stop_words=[]):\n",
    "\n",
    "    token_regex = re.compile(token_pattern)\n",
    "    df = Counter()\n",
    "    ngram_counts = Counter()\n",
    "    vocab = set()\n",
    "    \n",
    "    # Iterate through each raw text\n",
    "    for x in X_raw:\n",
    "        x_ngram = extract_ngrams(x, ngram_range=ngram_range, \n",
    "                                 token_pattern=token_pattern, \n",
    "                                 stop_words=stop_words)\n",
    "        # Update document frequency and ngram count\n",
    "        df.update(list(set(x_ngram)))\n",
    "        ngram_counts.update(x_ngram)\n",
    "        \n",
    "    # Obtain vocabulary as a set with document frequency > min document frequency\n",
    "    vocab = set([w for w in df if df[w]>=min_df])\n",
    "    \n",
    "    # Keep the top N most frequent vocab\n",
    "    if keep_topN:\n",
    "        vocab =set([w[0] for w in ngram_counts.most_common(keep_topN)\n",
    "                   if w[0] in vocab])\n",
    "        \n",
    "    return vocab, df, ngram_counts\n",
    "        "
   ]
  },
  {
   "cell_type": "markdown",
   "id": "08e55ba4",
   "metadata": {},
   "source": [
    "### Get the vocab"
   ]
  },
  {
   "cell_type": "code",
   "execution_count": 13,
   "id": "5d4ad02e",
   "metadata": {},
   "outputs": [
    {
     "name": "stdout",
     "output_type": "stream",
     "text": [
      "news vocab size: 2000\n",
      "['blair', 'improvements', 'fueled', 'seed', 'upi', 'size', 'helping', 'step', 'colorado', 'demand', 'tied', 'nortel', 'golf', 'bankruptcy', 'keller', 'service', 'americans', 'practices', 'hamm', 'start', 'president', 'touted', 'ninth', 'activity', 'back', 'khartoum', 'france', 'soaring', 'announced', 'state', 'olympics', 'premier', 'proved', 'tickets', 'sunday', 'believe', 'eight', 'concern', 'leader', 'lourdes', 'venezuelans', 'settlement', 'catch', 'innings', 'hamilton', 'cent', 'border', 'expressed', 'inning', 'missing', 'move', 'among', 'drug', 'spending', 'period', 'medals', 'james', 'murder', 'past', 'hand', 'coach', 'hearing', 'surged', 'freddie', 'analysts', 'jcp', 'press', 'lift', 'picked', 'becomes', 'amateur', 'determine', 'mortgage', 'hall', 'jones', 'talks', 'case', 'park', 'banned', 'declined', 'hopes', 'within', 'close', 'third', 'satellite', 'embassy', 'stayed', 'inflation', 'finally', 'independence', 'times', 'dimarco', 'second', 'qaida', 'real', 'manage', 'saudi', 'witnesses', 'suspend', 'order', 'tight', 'jump', 'looking', 'serious', 'important', 'reds', 'mandate', 'brought', 'insurer', 'rally', 'appeal', 'mike', 'ask', 'fresh', 'phillies', 'win', 'income', 'opec', 'auditors', 'israel', 'jean', 'sri', 'holiest', 'like', 'jay', 'german', 'top', 'iverson', 'dug', 'winged', 'oakland', 'cardinals', 'products', 'research', 'toyota', 'pile', 'auto', 'news', 'replaced', 'nearly', 'days', 'school', 'denied', 'oq', 'hong', 'supply', 'investment', 'arch', 'family', 'ing', 'yankees', 'concerned', 'extending', 'card', 'summit', 'madrid', 'challenges', 'knee', 'ordered', 'work', 'last', 'number', 'billing', 'elections', 'fire', 'muqtada', 'hare', 'closely', 'league', 'united', 'urban', 'dozens', 'election', 'boys', 'sydney', 'tore', 'daily', 'running', 'gerhard', 'battled', 'street', 'moderate', 'month', 'wife', 'militia', 'wounding', 'ambassador', 'hope', 'flu', 'near', 'medical', 'row', 'bring', 'next', 'mariners', 'tools', 'starts', 'public', 'health', 'najaf', 'yukos', 'gorda', 'quickly', 'county', 'war', 'oldest', 'begins', 'aside', 'dream', 'fraud', 'visit', 'chinese', 'arizona', 'grew', 'rates', 'committee', 'voted', 'payment', 'biggest', 'focus', 'took', 'raise', 'suspected', 'malaysia', 'operative', 'investigation', 'loss', 'title', 'afp', 'senior', 'calif', 'workers', 'hd', 'charges', 'poor', 'saying', 'separatist', 'also', 'band', 'bush', 'ramallah', 'gt', 'liverpool', 'parmalat', 'make', 'bell', 'hunger', 'behind', 'red', 'assistant', 'rivals', 'seven', 'alleged', 'tiger', 'met', 'local', 'andrew', 'supporters', 'equipment', 'louis', 'psychological', 'promised', 'supplies', 'gymnasts', 'meters', 'little', 'outlook', 'shares', 'friends', 'detained', 'hottest', 'attack', 'italy', 'wreckage', 'antonio', 'acquisition', 'launched', 'foreign', 'aimed', 'struggled', 'build', 'half', 'protests', 'call', 'pass', 'largest', 'venezuela', 'shiite', 'miss', 'business', 'watson', 'shrine', 'wave', 'reforms', 'closed', 'nikkei', 'laws', 'swimmer', 'diplomatic', 'consecutive', 'dead', 'activists', 'inc', 'late', 'points', 'straight', 'civil', 'thanou', 'including', 'brian', 'klete', 'elbow', 'defence', 'player', 'peter', 'possible', 'large', 'falconio', 'get', 'soldier', 'wall', 'enter', 'government', 'phelps', 'industrial', 'pool', 'accused', 'forward', 'midday', 'record', 'club', 'bad', 'looks', 'individual', 'sharp', 'athletics', 'cp', 'military', 'bujumbura', 'asia', 'already', 'political', 'streak', 'brendan', 'crowds', 'exporters', 'mark', 'refugee', 'debt', 'surging', 'ap', 'indians', 'arrested', 'tumbled', 'eastern', 'easing', 'aware', 'jumped', 'oust', 'due', 'lowest', 'southwest', 'charged', 'detroit', 'hilton', 'landmark', 'kevin', 'following', 'lead', 'boost', 'houston', 'former', 'airways', 'homes', 'part', 'kostas', 'gave', 'rangers', 'working', 'immediately', 'topping', 'helicopter', 'tour', 'invest', 'died', 'doubled', 'night', 'withdrew', 'northeast', 'powerful', 'us', 'kid', 'operating', 'el', 'technology', 'slumping', 'atlanta', 'sharon', 'hit', 'presidential', 'venezuelan', 'equity', 'latham', 'continued', 'slam', 'version', 'zealand', 'called', 'backed', 'financial', 'losses', 'asked', 'power', 'leaving', 'williams', 'search', 'found', 'hitter', 'earned', 'play', 'threat', 'buyers', 'association', 'string', 'university', 'movement', 'stock', 'overboard', 'unit', 'profit', 'religious', 'internet', 'pulled', 'office', 'forecast', 'investor', 'head', 'ended', 'july', 'crown', 'fractured', 'rise', 'fischer', 'miles', 'athens', 'better', 'told', 'opposition', 'mary', 'path', 'stadium', 'fourth', 'ibm', 'stewart', 'trading', 'ny', 'caused', 'urged', 'edwards', 'gas', 'instead', 'retailer', 'maktoum', 'muslim', 'millions', 'lows', 'historic', 'heading', 'microsoft', 'farm', 'aspx', 'tournament', 'green', 'kabul', 'august', 'drove', 'magazine', 'hits', 'unrest', 'evening', 'person', 'closing', 'ariel', 'moves', 'cut', 'good', 'less', 'largely', 'broke', 'overnight', 'housing', 'quarterly', 'issues', 'recovery', 'lawyers', 'driven', 'thanks', 'executives', 'ban', 'delegates', 'olympic', 'fast', 'rebound', 'lt', 'woman', 'mart', 'week', 'illinois', 'anticipated', 'storm', 'luxury', 'pope', 'made', 'brazil', 'father', 'rebel', 'electoral', 'moved', 'emergency', 'opened', 'disciplinary', 'executive', 'compete', 'texas', 'claims', 'friendly', 'new', 'herat', 'losing', 'bank', 'regional', 'agent', 'far', 'hurt', 'effort', 'verge', 'starting', 'food', 'votes', 'markets', 'desperate', 'torture', 'butterfly', 'motorola', 'bgp', 'japanese', 'clashes', 'great', 'mining', 'familiar', 'approve', 'story', 'hugo', 'plc', 'many', 'deal', 'wide', 'security', 'swimming', 'relief', 'bill', 'groups', 'jerusalem', 'terrorism', 'release', 'leave', 'plans', 'weekly', 'sweeping', 'settler', 'economy', 'children', 'rising', 'quincy', 'best', 'slump', 'exchange', 'raids', 'cleveland', 'american', 'least', 'playing', 'euros', 'question', 'commodities', 'european', 'tests', 'ryder', 'killed', 'sudanese', 'officer', 'stop', 'roman', 'statement', 'berlin', 'main', 'bowl', 'areas', 'home', 'andy', 'net', 'hal', 'cuts', 'pre', 'singles', 'rules', 'personal', 'general', 'allowed', 'decline', 'teixeira', 'want', 'tell', 'chance', 'race', 'tax', 'conference', 'fears', 'sentiment', 'energy', 'show', 'self', 'lower', 'isn', 'style', 'long', 'crowded', 'police', 'impact', 'appeared', 'rights', 'nations', 'hot', 'opponent', 'rebels', 'bomb', 'euro', 'middle', 'taxes', 'annual', 'management', 'ireland', 'shoulder', 'rebounded', 'sale', 'factories', 'send', 'ten', 'output', 'latest', 'treasury', 'revenue', 'field', 'bronze', 'firms', 'cars', 'robert', 'throw', 'even', 'cross', 'darfur', 'slashed', 'seeking', 'jersey', 'round', 'waiting', 'signs', 'http', 'silver', 'signing', 'no', 'disruptions', 'republican', 'makers', 'dollars', 'carrier', 'building', 'governor', 'beijing', 'climbed', 'suspended', 'claim', 'paul', 'asian', 'jury', 'board', 'phone', 'california', 'rare', 'paris', 'disappeared', 'lose', 'sent', 'mac', 'kitajima', 'prompted', 'companies', 'dropped', 'kansas', 'commit', 'rwandan', 'town', 'safety', 'system', 'sweep', 'george', 'share', 'country', 'competition', 'com', 'corp', 'manager', 'leaders', 'organization', 'dow', 'fellow', 'watched', 'grand', 'protect', 'paid', 'shrugged', 'homered', 'attempts', 'landing', 'akron', 'television', 'development', 'say', 'doubts', 'vote', 'class', 'challenge', 'england', 'uprising', 'violation', 'roger', 'ago', 'policy', 'nepal', 'deficit', 'suspects', 'agreed', 'use', 'stunning', 'militant', 'without', 'popular', 'yard', 'diving', 'men', 'union', 'operations', 'hoogenband', 'cautious', 'palestinians', 'offset', 'signed', 'countries', 'authority', 'minnesota', 'super', 'scored', 'clear', 'taken', 'hard', 'three', 'data', 'gathering', 'first', 'merger', 'trial', 'nigeria', 'ancient', 'calling', 'northern', 'italian', 'hamas', 'montreal', 'peace', 'increase', 'lack', 'force', 'dawn', 'knocked', 'austria', 'medal', 'hands', 'selection', 'speed', 'federer', 'sales', 'champions', 'around', 'haas', 'electricity', 'matter', 'increasing', 'programs', 'toronto', 'championships', 'served', 'villa', 'terrorists', 'declared', 'doping', 'sept', 'received', 'finish', 'billiton', 'production', 'capacity', 'changes', 'fell', 'point', 'put', 'sec', 'branch', 'kmart', 'sites', 'tomorrow', 'militants', 'australia', 'faster', 'struck', 'port', 'season', 'session', 'finance', 'full', 'kept', 'jose', 'let', 'troubled', 'fifth', 'olympia', 'give', 'positive', 'earnings', 'hours', 'failed', 'haiti', 'gary', 'released', 'cincinnati', 'amp', 'legg', 'halliburton', 'showdown', 'regulatory', 'protest', 'friday', 'went', 'agreement', 'sharply', 'french', 'professional', 'women', 'giving', 'suspicious', 'final', 'right', 'something', 'star', 'explosion', 'gains', 'materials', 'needs', 'depot', 'pinch', 'wis', 'netherlands', 'iraqi', 'pittsburgh', 'north', 'hotel', 'orioles', 'prosecutor', 'approved', 'diego', 'store', 'come', 'delivery', 'five', 'chancellor', 'million', 'opening', 'pushed', 'son', 'shi', 'residents', 'captured', 'reuters', 'pitcher', 'dispute', 'highly', 'setting', 'greek', 'likely', 'den', 'issued', 'four', 'collect', 'crash', 'happen', 'double', 'bobby', 'futures', 'media', 'confidence', 'weapons', 'strip', 'given', 'drew', 'warning', 'web', 'african', 'iraq', 'sun', 'dismissed', 'refused', 'chief', 'wanted', 'britain', 'credit', 'dollar', 'quest', 'chicago', 'defeat', 'reversed', 'english', 'services', 'approval', 'gymnastics', 'floods', 'western', 'every', 'shia', 'iran', 'los', 'ii', 'reports', 'helped', 'beginning', 'congestion', 'defense', 'bargain', 'airline', 'take', 'death', 'businesses', 'yesterday', 'hold', 'sprinters', 'inquiry', 'minister', 'affair', 'boy', 'gasoline', 'break', 'relating', 'dell', 'raising', 'giants', 'selling', 'market', 'buy', 'free', 'outlooks', 'highs', 'vault', 'francisco', 'support', 'alert', 'earn', 'homer', 'later', 'baseman', 'afghan', 'fleet', 'japan', 'practice', 'claiming', 'reach', 'nelson', 'san', 'chain', 'operator', 'court', 'airport', 'believes', 'truce', 'fear', 'rod', 'probably', 'open', 'separate', 'human', 'meeting', 'day', 'violence', 'spot', 'maker', 'together', 'massachusetts', 'congress', 'linked', 'host', 'palestinian', 'changed', 'thorpe', 'party', 'profits', 'scott', 'xinhuanet', 'payments', 'tech', 'beating', 'fired', 'rookie', 'thought', 'draft', 'things', 'investors', 'headed', 'details', 'still', 'revealed', 'series', 'wake', 'globe', 'parade', 'pro', 'militiamen', 'village', 'convicted', 'well', 'tenders', 'training', 'june', 'turned', 'jail', 'interview', 'ease', 'mcdonald', 'whether', 'twice', 'www', 'reached', 'nestle', 'spitz', 'based', 'powder', 'putter', 'thing', 'software', 'snow', 'faces', 'stage', 'showed', 'march', 'holy', 'czech', 'soon', 'classic', 'wind', 'really', 'change', 'rest', 'burundi', 'federal', 'baltimore', 'democracy', 'perhaps', 'medallist', 'today', 'old', 'chip', 'accept', 'congo', 'targets', 'york', 'hospitals', 'going', 'cents', 'sport', 'produced', 'conflict', 'indian', 'zagunis', 'current', 'post', 'katerina', 'added', 'venus', 'site', 'tuesday', 'sad', 'barrel', 'regular', 'faced', 'aug', 'battles', 'berlusconi', 'world', 'athletes', 'help', 'advanced', 'fla', 'clemens', 'anti', 'go', 'attempt', 'launch', 'crowd', 'member', 'improvement', 'vijay', 'total', 'bought', 'href', 'stake', 'kenteris', 'hospital', 'flash', 'hellip', 'weaker', 'situation', 'pakistan', 'increased', 'offers', 'join', 'torn', 'switzerland', 'facing', 'camp', 'bonds', 'holiday', 'presidency', 'firm', 'outside', 'conspiring', 'steve', 'expects', 'tutsi', 'plan', 'royal', 'quickinfo', 'mdt', 'winner', 'dozen', 'information', 'island', 'find', 'fed', 'afghanistan', 'judo', 'disarm', 'expos', 'dallas', 'return', 'goal', 'ravaged', 'opponents', 'associated', 'cycling', 'invoices', 'match', 'terrorist', 'closer', 'shot', 'costas', 'quot', 'legal', 'hitting', 'gaza', 'hungarian', 'vice', 'tony', 'strike', 'occupied', 'used', 'sixth', 'year', 'scandal', 'monthly', 'teammate', 'career', 'event', 'resolve', 'kosuke', 'exports', 'face', 'puerto', 'turkish', 'years', 'game', 'higher', 'delivered', 'teammates', 'applications', 'six', 'response', 'vegas', 'place', 'arbitration', 'prison', 'exhibition', 'nuclear', 'revolution', 'un', 'cities', 'allen', 'negotiate', 'trees', 'published', 'delayed', 'straits', 'wounded', 'qualifying', 'done', 'consumer', 'labor', 'korean', 'hoping', 'table', 'sea', 'alexander', 'complete', 'tourist', 'lives', 'costco', 'line', 'cup', 'bases', 'forces', 'massacre', 'charge', 'citing', 'watch', 'controversial', 'chavez', 'prepared', 'pontiff', 'upset', 'might', 'mutual', 'tokyo', 'dodgers', 'inevitable', 'created', 'mass', 'said', 'rate', 'violations', 'life', 'construction', 'breakaway', 'judges', 'advance', 'germany', 'cleric', 'members', 'auction', 'appears', 'prices', 'prisoners', 'wants', 'see', 'black', 'ailing', 'recovering', 'sardinia', 'official', 'lowe', 'picture', 'islamabad', 'sign', 'winds', 'computer', 'afternoon', 'thumb', 'google', 'singapore', 'fight', 'quarter', 'uk', 'rolled', 'preliminary', 'chris', 'fencing', 'quote', 'questions', 'appealed', 'observers', 'crashed', 'twins', 'trade', 'whose', 'water', 'gold', 'chairman', 'body', 'seen', 'cold', 'suffered', 'beat', 'reserve', 'won', 'job', 'whistling', 'young', 'winning', 'washington', 'aides', 'expansion', 'easy', 'early', 'wal', 'center', 'canadian', 'upbeat', 'custody', 'meter', 'conspiracy', 'months', 'avoid', 'morning', 'promotion', 'costs', 'saturday', 'ag', 'embarrassing', 'walk', 'tanks', 'moqtada', 'ending', 'house', 'device', 'nyse', 'delegation', 'fuel', 'teenager', 'jewish', 'ltd', 'strength', 'didn', 'lost', 'big', 'ever', 'despite', 'seattle', 'championship', 'fullquote', 'tearing', 'people', 'growth', 'congolese', 'prove', 'serving', 'company', 'effective', 'cos', 'though', 'posted', 'rico', 'kerry', 'rain', 'meet', 'heat', 'gain', 'stocks', 'recently', 'decade', 'ticket', 'mason', 'leg', 'performance', 'filed', 'operation', 'arlington', 'reduced', 'name', 'view', 'schroeder', 'survey', 'corruption', 'ahead', 'central', 'sell', 'knows', 'surge', 'trying', 'time', 'criticism', 'agency', 'wing', 'law', 'portugal', 'key', 'democratic', 'kobe', 'devices', 'accounting', 'david', 'injured', 'al', 'two', 'comes', 'estimated', 'adam', 'ossetia', 'protesters', 'caracas', 'events', 'insurers', 'violent', 'network', 'ways', 'led', 'qaeda', 'begin', 'offer', 'judge', 'pga', 'russia', 'industry', 'panel', 'needed', 'refinancings', 'rallied', 'players', 'volleyball', 'johnson', 'available', 'course', 'bit', 'fighters', 'quit', 'officials', 'administration', 'oil', 'rather', 'end', 'control', 'group', 'sudan', 'st', 'across', 'justin', 'planned', 'victims', 'continue', 'attacks', 'pitch', 'philadelphia', 'west', 'staff', 'accepted', 'plus', 'declare', 'bid', 'motors', 'arms', 'sanctions', 'knew', 'figures', 'jason', 'mariel', 'tens', 'sex', 'motor', 'loans', 'recent', 'woods', 'sprinter', 'ethnic', 'funds', 'spokesman', 'miracle', 'percent', 'growing', 'retail', 'arrived', 'fighting', 'several', 'benefits', 'british', 'joined', 'boxing', 'kuala', 'side', 'stay', 'hundreds', 'yasser', 'rival', 'rejected', 'maria', 'uae', 'raised', 'divisions', 'carter', 'source', 'baghdad', 'creating', 'van', 'bj', 'short', 'vs', 'came', 'toward', 'reportedly', 'fans', 'armed', 'russian', 'suspension', 'falling', 'blow', 'pentagon', 'radio', 'restaurants', 'required', 'caught', 'adopted', 'single', 'says', 'sending', 'customers', 'arena', 'punta', 'contract', 'interest', 'stopped', 'holding', 'grim', 'radical', 'taking', 'keep', 'look', 'highest', 'awaited', 'others', 'became', 'ratings', 'strained', 'team', 'giant', 'janus', 'trap', 'ticker', 'image', 'gov', 'networks', 'along', 'guillen', 'convention', 'playoff', 'injury', 'charley', 'extra', 'program', 'hostile', 'programme', 'billions', 'banks', 'swept', 'toll', 'set', 'communist', 'scheduled', 'silvio', 'high', 'nine', 'bhp', 'amat', 'newspaper', 'moscow', 'lines', 'reduction', 'ian', 'become', 'voters', 'talk', 'greeks', 'department', 'improved', 'continues', 'managers', 'international', 'typhoon', 'minutes', 'refugees', 'regulators', 'air', 'huge', 'commerce', 'got', 'prosecutors', 'hansen', 'sadr', 'jr', 'capital', 'gap', 'bids', 'warnings', 'track', 'backpacker', 'girl', 'slip', 'ipo', 'buried', 'sold', 'kuwait', 'nation', 'pitched', 'worst', 'twenty', 'basketball', 'initial', 'not', 'soccer', 'captain', 'care', 'paperwork', 'renewed', 'road', 'numbers', 'settlements', 'evidence', 'coming', 'china', 'maoist', 'jays', 'freestyle', 'florida', 'collective', 'pieter', 'known', 'troops', 'islamic', 'arafat', 'result', 'national', 'lumpur', 'nfl', 'co', 'defending', 'finished', 'jobs', 'saw', 'tutsis', 'cease', 'tomas', 'foot', 'insurance', 'wild', 'cost', 'teams', 'citizens', 'bargaining', 'south', 'assembly', 'check', 'bryant', 'flood', 'semifinals', 'population', 'flew', 'registered', 'decision', 'slow', 'john', 'average', 'successful', 'billion', 'amid', 'hamid', 'defused', 'battle', 'small', 'states', 'recall', 'prime', 'concerns', 'fre', 'showing', 'involving', 'returning', 'college', 'consider', 'test', 'telephone', 'ranked', 'nasdaq', 'quarterback', 'private', 'september', 'offered', 'rushed', 'action', 'index', 'expectations', 'inventory', 'families', 'terror', 'calls', 'employees', 'jamaica', 'monday', 'always', 'facilities', 'israeli', 'one', 'america', 'ottawa', 'blue', 'potential', 'weekend', 'grant', 'car', 'getting', 'sick', 'proposal', 'cbs', 'slower', 'claimed', 'delay', 'draw', 'philippines', 'secretary', 'cowboys', 'runs', 'city', 'cause', 'wednesday', 'haven', 'calm', 'threatened', 'fought', 'securities', 'candidate', 'arab', 'heard', 'ditch', 'remote', 'strong', 'child', 'thousands', 'away', 'process', 'preliminaries', 'results', 'report', 'low', 'counting', 'since', 'try', 'tennis', 'thursday', 'hour', 'province', 'blockade', 'eagerly', 'remain', 'economic', 'patriots', 'announcement', 'plotting', 'online', 'mobile', 'berdych', 'coast', 'missed', 'played', 'withdraw', 'fall', 'crisis', 'gained', 'problems', 'stand', 'sox', 'worries', 'borders', 'lay', 'rule', 'rose', 'barclays', 'hurricane', 'light', 'radioactive', 'hockey', 'prescription', 'block', 'making', 'baseball', 'term', 'surgery', 'india', 'money', 'kingdom', 'republic', 'goog', 'leftist', 'major', 'ohio', 'pick', 'october', 'left', 'assault', 'inflationary', 'leading', 'karzai', 'struggling', 'boston', 'outfielder', 'offering', 'chess', 'torri', 'division', 'reported', 'intelligence', 'georgian', 'testing', 'criminal', 'authorities', 'need', 'drive', 'roddick', 'threatening', 'prince', 'weeks', 'tested', 'future', 'mistakes', 'advertising', 'beaten', 'started', 'area', 'breaststroke', 'corporate', 'wholesale', 'reform', 'almost', 'georgia', 'angeles', 'kmrt', 'newly', 'region', 'drop', 'held', 'boosted', 'pm', 'howard', 'withhold', 'pay', 'loyal', 'buildings', 'heavy', 'soldiers', 'massive', 'living', 'idea', 'envoy', 'shooting', 'army', 'east', 'brown', 'bringing', 'opener', 'sources', 'southern', 'greece', 'bay', 'sense', 'par', 'football', 'victory', 'profile', 'white', 'special', 'front', 'summer', 'cash', 'multi', 'previous', 'november', 'tie', 'range', 'yet', 'ex', 'level', 'stores', 'according', 'ite', 'improve', 'europe', 'gone', 'sports', 'earlier', 'preseason', 'per', 'debut', 'campaign', 'tim', 'damage', 'de', 'target', 'killing', 'base', 'bloomberg', 'tom', 'romania', 'owners', 'much', 'leonard', 'drugs', 'registration', 'fund', 'injuries', 'champion', 'apparently', 'man', 'estimates', 'eased', 'price', 'either', 'negotiations', 'walked', 'finals', 'pull', 'named', 'product', 'defensive', 'kathmandu', 'decided', 'eighth', 'korea', 'brokerage', 'trouble', 'enough', 'kong', 'ground', 'crude', 'africa', 'presence', 'bills', 'rescue', 'disaster', 'australian', 'senate', 'metres', 'meetings', 'michael', 'eliminated', 'run', 'history', 'relay', 'another', 'las', 'efforts', 'minute', 'london', 'lawsuit', 'levels', 'way', 'global', 'survived', 'abroad', 'games', 'ukraine', 'wisconsin', 'heart', 'conditions', 'engine', 'began', 'canada', 'positions', 'pressure', 'rathore', 'referendum', 'larry', 'joining', 'prominent', 'warned', 'expected', 'sprint', 'usa', 'guard', 'ministry', 'breaking', 'applied', 'mat', 'edge', 'interim', 'commission', 'airlines', 'singh', 'becoming', 'scotland', 'jackson', 'although']\n"
     ]
    }
   ],
   "source": [
    "keep_topN = 2000\n",
    "ngram_range = (1,1)\n",
    "min_df = 0\n",
    "(vocab_set,\n",
    "df,\n",
    "ngram_counts) = get_vocab(news_Xtrain, ngram_range=ngram_range,\n",
    "                          min_df=min_df, keep_topN=keep_topN,\n",
    "                          stop_words=stop_words)\n",
    "news_vocab = list(vocab_set)\n",
    "print(f'news vocab size: {len(news_vocab)}')\n",
    "print(news_vocab)\n"
   ]
  },
  {
   "cell_type": "markdown",
   "id": "b6e62669",
   "metadata": {},
   "source": [
    "As far as vocabulary size is concerned, the larger vocabulary gives larger breadth of words to be picked up during training. However, for this experiment, I have restricted to size 2000. In the upcoming section, we will do hyperparameter tuning during training to get the reasonable accuracy while using this vocabulary."
   ]
  },
  {
   "cell_type": "code",
   "execution_count": 14,
   "id": "a4a6f62d",
   "metadata": {},
   "outputs": [],
   "source": [
    "# Create word to id dictionary for future use\n",
    "word2id = dict(zip(news_vocab, range(len(news_vocab))))"
   ]
  },
  {
   "cell_type": "markdown",
   "id": "48db1980",
   "metadata": {},
   "source": [
    "### Convert the list of unigrams  into a list of vocabulary indices\n",
    "- Storing actual one-hot vectors into memory for all words in the entire data set is prohibitive. Instead, we will store word indices in the vocabulary and look-up the weight matrix. This is equivalent of doing a dot product between an one-hot vector and the weight matrix. \n",
    "\n",
    "- Implement a function `extract_ngrams_for_train_dev_test_sets` to represent documents in train, dev and test sets as lists of words in the vocabulary, where\n",
    "    - `ngram_range`: a tuple of two integers denoting the type of ngrams being extracted (e.g. (1,2) denotes extracting unigrams and bigrams)\n",
    "    - `vocab`: a vocabulary set\n",
    "- and returns\n",
    "    - `Xtrain_ngrams`: ngrams for train set\n",
    "    - `Xdev_ngrams`: ngrams for dev set\n",
    "    - `Xtest_ngrams`: ngrams for test set\n",
    "    "
   ]
  },
  {
   "cell_type": "code",
   "execution_count": 15,
   "id": "409dca25",
   "metadata": {},
   "outputs": [],
   "source": [
    "def extract_ngrams_for_train_dev_test_sets(ngram_range, vocab):\n",
    "    Xtrain = news_Xtrain\n",
    "    Xdev   = news_Xdev\n",
    "    Xtest  = news_Xtest\n",
    "    \n",
    "    # Extract n-grams for training set\n",
    "    Xtrain_ngrams = list()\n",
    "    for i in tnrange(len(Xtrain)):\n",
    "        Xtrain_ngrams.append(extract_ngrams(Xtrain[i], \n",
    "                                            ngram_range=ngram_range, token_pattern=r'\\b[A-Za-z][A-Za-z]+\\b',\n",
    "                                            stop_words=stop_words, vocab=vocab))\n",
    "    # Extract n-grams for development set\n",
    "    Xdev_ngrams = list()\n",
    "    for i in tnrange(len(Xdev)):\n",
    "        Xdev_ngrams.append(extract_ngrams(Xdev[i], \n",
    "                                            ngram_range=ngram_range, token_pattern=r'\\b[A-Za-z][A-Za-z]+\\b',\n",
    "                                            stop_words=stop_words, vocab=vocab))\n",
    "    # Extract n-grams for test set\n",
    "    Xtest_ngrams = list()\n",
    "    for i in tnrange(len(Xtest)):\n",
    "        Xtest_ngrams.append(extract_ngrams(Xtest[i], \n",
    "                                            ngram_range=ngram_range, token_pattern=r'\\b[A-Za-z][A-Za-z]+\\b',\n",
    "                                            stop_words=stop_words, vocab=vocab))\n",
    "        \n",
    "    return Xtrain_ngrams, Xdev_ngrams, Xtest_ngrams"
   ]
  },
  {
   "cell_type": "code",
   "execution_count": 16,
   "id": "de58aa4b",
   "metadata": {},
   "outputs": [
    {
     "data": {
      "application/vnd.jupyter.widget-view+json": {
       "model_id": "3288b2ef96404d65bfbd5f716549338a",
       "version_major": 2,
       "version_minor": 0
      },
      "text/plain": [
       "  0%|          | 0/2400 [00:00<?, ?it/s]"
      ]
     },
     "metadata": {},
     "output_type": "display_data"
    },
    {
     "data": {
      "application/vnd.jupyter.widget-view+json": {
       "model_id": "5c46d537580049c18546ece3b18ca574",
       "version_major": 2,
       "version_minor": 0
      },
      "text/plain": [
       "  0%|          | 0/150 [00:00<?, ?it/s]"
      ]
     },
     "metadata": {},
     "output_type": "display_data"
    },
    {
     "data": {
      "application/vnd.jupyter.widget-view+json": {
       "model_id": "95f2935a26474e5b8dafd027ac5fc23b",
       "version_major": 2,
       "version_minor": 0
      },
      "text/plain": [
       "  0%|          | 0/900 [00:00<?, ?it/s]"
      ]
     },
     "metadata": {},
     "output_type": "display_data"
    }
   ],
   "source": [
    "(news_Xtrain_ngrams, \n",
    " news_Xdev_ngrams, \n",
    " news_Xtest_ngrams) = extract_ngrams_for_train_dev_test_sets(ngram_range, news_vocab)\n"
   ]
  },
  {
   "cell_type": "code",
   "execution_count": 17,
   "id": "1b037567",
   "metadata": {},
   "outputs": [],
   "source": [
    "# Convert into list of indices\n",
    "news_Xtrain_ngrams_indices = []\n",
    "for ngrams in news_Xtrain_ngrams:\n",
    "    news_Xtrain_ngrams_indices.append([word2id.get(ngram, -1) for ngram in ngrams])\n",
    "    \n",
    "news_Xdev_ngrams_indices = []\n",
    "for ngrams in news_Xdev_ngrams:\n",
    "    news_Xdev_ngrams_indices.append([word2id.get(ngram, -1) for ngram in ngrams])\n",
    "\n",
    "news_Xtest_ngrams_indices = []\n",
    "for ngrams in news_Xtest_ngrams:\n",
    "    news_Xtest_ngrams_indices.append([word2id.get(ngram, -1) for ngram in ngrams])"
   ]
  },
  {
   "cell_type": "code",
   "execution_count": 18,
   "id": "859cd03c",
   "metadata": {},
   "outputs": [
    {
     "name": "stdout",
     "output_type": "stream",
     "text": [
      "['reuters', 'venezuelans', 'turned', 'early', 'large', 'numbers', 'sunday', 'vote', 'historic', 'referendum', 'either', 'left', 'wing', 'president', 'hugo', 'chavez', 'office', 'give', 'new', 'mandate', 'next', 'two', 'years']\n",
      "[891, 40, 1039, 1316, 316, 1625, 34, 729, 466, 1978, 1924, 1806, 1395, 20, 552, 1240, 433, 835, 526, 106, 193, 1406, 1194]\n"
     ]
    }
   ],
   "source": [
    "# check the sample of ngram and corresponging vocabulary index\n",
    "print(news_Xtrain_ngrams[0])\n",
    "print(news_Xtrain_ngrams_indices[0])"
   ]
  },
  {
   "cell_type": "markdown",
   "id": "61029c05",
   "metadata": {},
   "source": [
    "# Feedforward Neural Network Architecture\n",
    "\n",
    "The steps to create Feedforward neural network as as following:\n",
    "\n",
    "- Pass each word index into its corresponding embedding by looking-up on the embedding matrix and then compute the first hidden layer $\\mathbf{h}_1$:\n",
    "\n",
    "$$\\mathbf{h}_1 = \\frac{1}{|x|}\\sum_i W^e_i, i \\in x$$\n",
    "\n",
    "where $|x|$ is the number of words in the document and $W^e$ is an embedding matrix $|V|\\times d$, $|V|$ is the size of the vocabulary and $d$ the embedding size.\n",
    "\n",
    "- Then $\\mathbf{h}_1$ should be passed through a ReLU activation function:\n",
    "\n",
    "$$\\mathbf{a}_1 = relu(\\mathbf{h}_1)$$\n",
    "\n",
    "- Finally the hidden layer is passed to the output layer:\n",
    "\n",
    "\n",
    "$$\\mathbf{y} = \\text{softmax}(\\mathbf{a}_1W) $$ \n",
    "where $W$ is a matrix $d \\times |{\\cal Y}|$, $|{\\cal Y}|$ is the number of classes.\n",
    "\n",
    "- During training, $\\mathbf{a}_1$ is going to be multiplied with a dropout mask vector (elementwise) for regularisation before it is passed to the output layer.\n",
    "\n",
    "- The network will also be extended to a deeper architecture by passing a hidden layer to another one:\n",
    "\n",
    "$$\\mathbf{h_i} = \\mathbf{a}_{i-1}W_i $$\n",
    "\n",
    "$$\\mathbf{a_i} = relu(\\mathbf{h_i}) $$\n",
    "\n"
   ]
  },
  {
   "cell_type": "markdown",
   "id": "95050bfb",
   "metadata": {},
   "source": [
    "Create a new function called `get_weight_matrix` which will be used to initialise weight matrix for Feedforward nueral network. The function takes as input:\n",
    "\n",
    "- `row_size`: The row size of the weight matrix\n",
    "- `col_size`: The column size of the weight matrix\n",
    "- `init_val`: The initialisation values that are used to create a range of values from negative to positive\n",
    "\n",
    "and returns:\n",
    "- `init_W`: The weight matrix initialised with default values"
   ]
  },
  {
   "cell_type": "code",
   "execution_count": 19,
   "id": "0cc88d73",
   "metadata": {},
   "outputs": [],
   "source": [
    "def get_weight_matrix(row_size, col_size, init_val):\n",
    "    init_W = np.zeros((row_size, col_size))\n",
    "    for j in range(row_size):\n",
    "        weights = np.array(np.random.uniform(-1 * init_val, init_val, col_size)).astype(np.float32)\n",
    "        init_W[j] = weights\n",
    "    return init_W\n"
   ]
  },
  {
   "cell_type": "markdown",
   "id": "7706b91f",
   "metadata": {},
   "source": [
    "### Network Training\n",
    "\n",
    "First we need to define the parameters of our network by initialising the weight matrix. To do this, we will create a function `network_weights` that takes inputs:\n",
    "\n",
    "- `vocab_size`: The size of the vocabulary\n",
    "- `embedding_dim`: The size of the word embeddings\n",
    "- `hidden_dim`: The list of the sizes of hidden layers. Empty if there are not hidden layers between the average embedding and the output layer\n",
    "- `num_classes`: The number of classes for the output layer\n",
    "\n",
    "and returns:\n",
    "- `W`: A dictionary mapping from layer index (e.g. 0 for the embedding matrix) to the corresponding weight matrix initialised with small random numbers\n",
    "\n",
    "Note: We have to make sure that the dimensionality of each weight matrix is compatible with the previous and next weight matrix, otherwise the forward and backward pass won't be able to perform. We will also consider using `np.float32` precision to save memory."
   ]
  },
  {
   "cell_type": "code",
   "execution_count": 20,
   "id": "1bd04be0",
   "metadata": {},
   "outputs": [],
   "source": [
    "def network_weights(vocab_size=1000, embedding_dim=300,\n",
    "                   hidden_dim=[], num_classes=3, init_val=0.5):\n",
    "    \n",
    "    # initialise weights\n",
    "    W = []\n",
    "    \n",
    "    # input layer weight matrix for word embeddings\n",
    "    W.append({\n",
    "        \"embedding_matrix\": get_weight_matrix(vocab_size, embedding_dim, init_val)\n",
    "    })\n",
    "    \n",
    "    # hidden layer weight matrix\n",
    "    row_size = embedding_dim\n",
    "    for j in range(len(hidden_dim)):\n",
    "        col_size = hidden_dim[j]\n",
    "        W.append({\"weights\": get_weight_matrix(row_size, col_size, init_val)})\n",
    "        row_size = col_size\n",
    "        \n",
    "    # output layer weight matrix\n",
    "    col_size = num_classes\n",
    "    W.append({\"weights\": get_weight_matrix(row_size, col_size, init_val)})\n",
    "    \n",
    "    return W\n",
    "    \n",
    "    \n",
    "    "
   ]
  },
  {
   "cell_type": "code",
   "execution_count": 21,
   "id": "184391f5",
   "metadata": {},
   "outputs": [
    {
     "name": "stdout",
     "output_type": "stream",
     "text": [
      "[{'embedding_matrix': array([[ 0.19646919, -0.21386066, -0.27314854,  0.05131477],\n",
      "       [ 0.21946897, -0.07689354,  0.48076421,  0.18482974],\n",
      "       [-0.0190681 , -0.10788248, -0.15682198,  0.22904971]])}, {'weights': array([[-0.06142776, -0.4403221 ],\n",
      "       [-0.10195574,  0.2379954 ],\n",
      "       [-0.31750828, -0.32454824],\n",
      "       [ 0.03155137,  0.03182759]])}, {'weights': array([[0.13440096, 0.34943178],\n",
      "       [0.22445533, 0.11102351]])}]\n"
     ]
    }
   ],
   "source": [
    "# sanity check to see the network weight generation and their dimensions\n",
    "print(network_weights(vocab_size=3, embedding_dim=4, hidden_dim=[2], num_classes=2))"
   ]
  },
  {
   "cell_type": "markdown",
   "id": "73099f77",
   "metadata": {},
   "source": [
    "### softmax function\n",
    "\n",
    "Due to floating point limitations in numPy, softmax frequently gets `NaN` and `inf` error. To eliminate this error, a softmax normalisation technique is used by subtracting the maximum value of z from the given z value. This way, softmax is normalised across all values for every forward pass and will not generate the errors."
   ]
  },
  {
   "cell_type": "code",
   "execution_count": 22,
   "id": "ba437a5b",
   "metadata": {},
   "outputs": [],
   "source": [
    "def softmax(z):\n",
    "    z = z - np.max(z)\n",
    "    return np.exp(z) / np.sum(np.exp(z))"
   ]
  },
  {
   "cell_type": "markdown",
   "id": "57d1b940",
   "metadata": {},
   "source": [
    "### Categorical Loss function\n",
    "\n",
    "The categorical loss function is used to calculate the objective loss during training."
   ]
  },
  {
   "cell_type": "code",
   "execution_count": 23,
   "id": "bdd21842",
   "metadata": {},
   "outputs": [],
   "source": [
    "def categorical_loss(X, Y, W):\n",
    "    losses = list()\n",
    "    num_classes = 3\n",
    "    for i, x in enumerate(X):\n",
    "        out_vals = forward_pass(x, W, dropout_rate=0.0)\n",
    "        \n",
    "        # one-hot vector to represent the correct class during categorical loss calculation\n",
    "        y = one_hot_vector(Y[i]-1, num_classes)\n",
    "        loss = -y * np.log(out_vals['y_pred'].T)\n",
    "        losses.append(np.sum(loss.T))\n",
    "    return np.mean(losses)\n"
   ]
  },
  {
   "cell_type": "markdown",
   "id": "bb6be798",
   "metadata": {},
   "source": [
    "### Categorical Loss Derivative function\n",
    "\n",
    "We need to also create the derivative function to calculate the derivative of categorical loss during backward pass (aka. backpropagation)."
   ]
  },
  {
   "cell_type": "code",
   "execution_count": 24,
   "id": "3760b956",
   "metadata": {},
   "outputs": [],
   "source": [
    "def categorical_loss_derivative(y, y_preds):\n",
    "    loss_der = y_preds.T - y\n",
    "    return loss_der.T"
   ]
  },
  {
   "cell_type": "markdown",
   "id": "149b9ecd",
   "metadata": {},
   "source": [
    "### ReLU and ReLU Derivative function\n",
    "\n",
    "We will not implement `relu` function to introduce non-liniearity afte hidden layers. This function will at as activation function during forward pass.\n",
    "\n",
    "$$relu(z_i)= max(z_i,0)$$\n",
    "\n",
    "And the `relu_derivative` function is used to compute its derivative during backward pass (aka. backpropagation)\n",
    "\n",
    "  $$relu\\_derivative(z_i)=0$$ if $z_i$<=0, 1 otherwise.\n",
    "  \n",
    "Note: Both function take as input a vector $z$."
   ]
  },
  {
   "cell_type": "code",
   "execution_count": 25,
   "id": "c1867c7f",
   "metadata": {},
   "outputs": [],
   "source": [
    "def relu(z):\n",
    "    return np.maximum(0, z)\n",
    "\n",
    "def relu_derivative(z):\n",
    "    dz = np.copy(z)\n",
    "    dz[np.where(dz>0)] = 1\n",
    "    dz[np.where(dz<=0)] = 0\n",
    "    return dz"
   ]
  },
  {
   "cell_type": "markdown",
   "id": "7aa0fbb8",
   "metadata": {},
   "source": [
    "A derivative of ReLU is differentiable at all points except at 0. The left derivative at z<0 is 0 and right derivative at z>0 is 1. But derivative at z=0 is technically undefined. In Colloquial terms, the function is not smooth at z=0 and there are many possible lines (slops) we could fit through. So that do we do here? Basically, we can arbitrarily choose a value as 0, 0.5, or 1 but for simplicity we can choose 0 for z=0."
   ]
  },
  {
   "cell_type": "markdown",
   "id": "17c8e042",
   "metadata": {},
   "source": [
    "### Dropout mask\n",
    "\n",
    "During training, we will apply dropout mask element-wise to do model finetuning to avoid overfitting. This masking will be done after the ReLU activation function (i.e. vector of ones with random percentage set to zero)."
   ]
  },
  {
   "cell_type": "code",
   "execution_count": 26,
   "id": "a1816296",
   "metadata": {},
   "outputs": [],
   "source": [
    "def dropout_mask(size, dropout_rate):\n",
    "    dropout_vec = np.ones((size))\n",
    "    idx = np.random.choice(len(dropout_vec), \n",
    "                          size=int(dropout_rate * size), \n",
    "                          replace=False)\n",
    "    dropout_vec[idx] = 0\n",
    "    return dropout_vec"
   ]
  },
  {
   "cell_type": "code",
   "execution_count": 27,
   "id": "aaa640cb",
   "metadata": {},
   "outputs": [
    {
     "name": "stdout",
     "output_type": "stream",
     "text": [
      "[1. 1. 1. 1. 1. 1. 1. 1. 0. 0.]\n",
      "[1. 0. 1. 1. 1. 1. 1. 0. 1. 1.]\n"
     ]
    }
   ],
   "source": [
    "# sanity check\n",
    "print(dropout_mask(10, 0.2))\n",
    "print(dropout_mask(10, 0.2))"
   ]
  },
  {
   "cell_type": "markdown",
   "id": "94a495d1",
   "metadata": {},
   "source": [
    "### Weight submatrix\n",
    "\n",
    "Create `weight_submatrix` function that is used to generate the word embedding matrix for the given set of word indexes.\n",
    "\n",
    "This function consists of inputs\n",
    "\n",
    "- `x`: The input word index list\n",
    "- `w_emb`: the embedding weight matrix that consists of word indexes and correspoding weight values\n",
    "\n",
    "and returns\n",
    "\n",
    "- `w_sub_mat`: The newly generated word embedding submatrix for given indexes"
   ]
  },
  {
   "cell_type": "code",
   "execution_count": 28,
   "id": "9b358f29",
   "metadata": {},
   "outputs": [],
   "source": [
    "def weight_submatrix(x, w_emb):\n",
    "    w_sub_mat = np.array([])\n",
    "    \n",
    "    # Iterate through all the word indexes and lookup into weight matrix \n",
    "    # to fetch the correct embedding vector based on the index.\n",
    "    for word_inx in x:\n",
    "        \n",
    "        # find word embedding by index\n",
    "        word_w = w_emb[word_inx]\n",
    "        \n",
    "        # accummulate\n",
    "        w_sub_mat = np.append(w_sub_mat, word_w)\n",
    "        \n",
    "    w_sub_mat.shape = (int(len(w_sub_mat) / w_emb.shape[1]), w_emb.shape[1])\n",
    "    return w_sub_mat"
   ]
  },
  {
   "cell_type": "markdown",
   "id": "6784bbf5",
   "metadata": {},
   "source": [
    "### Forward pass function\n",
    "\n",
    "We are going to implement the `forward_pass` function that will pass the input through the feedforward neural network upto output layer for computing the probability of expected class using the weight matrix, ReLU activation function and softmax output function. The funtion consists of inputs\n",
    "\n",
    "- `x`: A list of vocabulary indices of the words belonging to the document\n",
    "- `W`: A list of weight matrix connecting each part of the network; e.g. W[0] is the weight matrix for connection between input and first hidden layer, W[1] is for connection between first hidden and the next next one.\n",
    "- `dropout_rate`: The dropout rate that is used to generate a random dropout mask vetor applied after each hidden layer for regularisation.\n",
    "\n",
    "and returns\n",
    "- `out_vals`: A dictionary of output value from each layer. Where layers are\n",
    "    - `h`: The vector before activation function\n",
    "    - `a`: The resulting vector after passring `h` from activation function\n",
    "    - dropout mask vector\n",
    "    - prediction vector: probability for each class from the output layer"
   ]
  },
  {
   "cell_type": "code",
   "execution_count": 29,
   "id": "d545268d",
   "metadata": {},
   "outputs": [],
   "source": [
    "def forward_pass(x, W, dropout_rate=0.2):\n",
    "    bias = 0\n",
    "    h_vecs = []\n",
    "    a_vecs = []\n",
    "    dropout_vecs = []\n",
    "    ones_vector = np.ones((len(x), 1))\n",
    "    x_in = x\n",
    "    \n",
    "    # Iterate through hidden layers\n",
    "    for layer_idx, w in enumerate(W):\n",
    "        \n",
    "        # Compute softmax for the last layer and break the loop\n",
    "        if layer_idx == len(W) - 1:\n",
    "            y_pred = softmax(np.dot(w.get('weights').T, x_in) + bias)\n",
    "            break\n",
    "        \n",
    "        # Compute the mean embedding vector of all words for the first hidden layer\n",
    "        elif layer_idx == 0:\n",
    "\n",
    "            # Lookup into weight embeddings and create weight submatrix for a given input (list of word indexes)\n",
    "            weights = weight_submatrix(x_in, w.get('embedding_matrix'))\n",
    "\n",
    "            # Compute the mean embedding vector for first hidden layer\n",
    "            h = (np.dot(weights.T, ones_vector) / len(x_in)) + bias\n",
    "\n",
    "        # Compute the dot product between weight matrix and input for the rest of hidden layers\n",
    "        else:\n",
    "            h = np.dot(w.get('weights').T, x_in) + bias\n",
    "\n",
    "        # Apply ReLU activation function\n",
    "        a = relu(h)\n",
    "\n",
    "        # Apply dropout mask on ReLU activation function for hidden layer only\n",
    "        dropout = dropout_mask(h.shape[0], dropout_rate)\n",
    "        a = np.multiply(dropout.reshape(len(dropout), -1), a)\n",
    "        x_in = a\n",
    "\n",
    "        # Accumulate\n",
    "        h_vecs.append(h)\n",
    "        a_vecs.append(a)\n",
    "        dropout_vecs.append(dropout)\n",
    "    \n",
    "    out_vals = {}\n",
    "    out_vals['h'] = h_vecs\n",
    "    out_vals['a'] = a_vecs\n",
    "    out_vals['dropout'] = dropout_vecs\n",
    "    out_vals['y_pred'] = y_pred\n",
    "    \n",
    "    return out_vals\n",
    "        "
   ]
  },
  {
   "cell_type": "code",
   "execution_count": 30,
   "id": "f08fd199",
   "metadata": {},
   "outputs": [],
   "source": [
    "''' \n",
    "Creat one hot matrix function to generate one hot matrix for updating\n",
    "the gradients of weights during backward pass\n",
    "'''\n",
    "def one_hot_matrix(x, vocab_size):\n",
    "    ohm =np.zeros((len(x), vocab_size))\n",
    "    for i, o in enumerate(ohm):\n",
    "        o[x[i]] = 1\n",
    "    return ohm"
   ]
  },
  {
   "cell_type": "markdown",
   "id": "dd60303a",
   "metadata": {},
   "source": [
    "Create a `one_hot_vector` function which is used to generate the vector of true lables which will then be compared with the predicted lables to calculate categorical loss OR derivative of categorical loss. The function takes as input:\n",
    "\n",
    "- `idx`: And index of the true class\n",
    "- `size`: The vector size\n",
    "\n",
    "and returns:\n",
    "\n",
    "- `x`: The one hot vector"
   ]
  },
  {
   "cell_type": "code",
   "execution_count": 31,
   "id": "c28fa503",
   "metadata": {},
   "outputs": [],
   "source": [
    "def one_hot_vector(idx, size):\n",
    "    x = np.zeros(size, dtype=np.int)\n",
    "    x[idx] = 1\n",
    "    return x"
   ]
  },
  {
   "cell_type": "markdown",
   "id": "8a7c3bfd",
   "metadata": {},
   "source": [
    "### Backward pass function\n",
    "\n",
    "The `backward_pass` function computes the gradients and updates the weights in the network from the output layer to the input layer. It takes inputs\n",
    "- `x`: A list of vocabulary indices each corresponding to a word in the document (input)\n",
    "- `y`: The true label\n",
    "- `W`: A list of weight matrix connecting each part of the network; e.g. W[0] is the weight matrix for connection between input and first hidden layer, W[1] is for connection between first hidden and the next next one.\n",
    "- `out_vals`: A dictionary of output values from a forward pass\n",
    "- `lr`: The learning rate that is used during weight updation\n",
    "- `freeze_emb`: A boolean value indicating whether the embedding weights will be updated or not.\n",
    "\n",
    "and returns\n",
    "- `W`: The updated weights of the network\n",
    "\n",
    "Note: The gradients on the output layer are similary to the multiclass logistic regression."
   ]
  },
  {
   "cell_type": "code",
   "execution_count": 32,
   "id": "26246742",
   "metadata": {},
   "outputs": [],
   "source": [
    "def backward_pass(x, y, W, out_vals, lr=0.001, freeze_emb=False):\n",
    "    \n",
    "    num_classes = 3\n",
    "    \n",
    "    # One hot vector to represent the correct classes for calculating categorical loss derivative\n",
    "    y_onehot = one_hot_vector(y-1, num_classes)\n",
    "    \n",
    "    # Compute gradient on output layer (dy_hatL)\n",
    "    g = categorical_loss_derivative(y_onehot, out_vals.get(\"y_pred\"))\n",
    "    \n",
    "    for k in reversed(range(len(W))):\n",
    "        if k == len(W)-1:\n",
    "            # Compute weights gradients (ghk-1)\n",
    "            d_wkL = np.dot(out_vals.get(\"a\")[k-1], g.T)\n",
    "        else:\n",
    "            # Element-wise multiplication (g.f'(zk))\n",
    "            g = g * relu_derivative(out_vals.get(\"h\")[k])\n",
    "            if k>0:\n",
    "                # Compute weights gradients (ghk-1)\n",
    "                d_wkL = np.dot(out_vals.get(\"a\")[k-1], g.T)\n",
    "            \n",
    "            # Compute gradient only for word embedding updation\n",
    "            elif k==0 and not freeze_emb:\n",
    "                g = np.dot(np.ones((len(x), 1)), g.T) / len(x)\n",
    "        \n",
    "        if k>0:\n",
    "            # Compute the gradients w.r.t. next layer (gWk)\n",
    "            wk = W[k].get(\"weights\")\n",
    "            g = np.dot(wk, g)\n",
    "            \n",
    "            # Apply dropout for backward pass\n",
    "            dropout = out_vals[\"dropout\"][k-1]\n",
    "            g = np.multiply(dropout.reshape(len(dropout), -1), g)\n",
    "            W[k][\"weights\"] = wk - (lr * d_wkL)\n",
    "    \n",
    "    # Update word embeddings\n",
    "    if not freeze_emb:\n",
    "        d_wkL = np.dot(one_hot_matrix(x, len(news_vocab)).T, g)\n",
    "        uniqueIdx = list(set(x))\n",
    "        W[k][\"embedding_matrix\"][uniqueIdx] -= lr * d_wkL[uniqueIdx]    # Wk-lr*d_wkL\n",
    "    \n",
    "    return W\n",
    "    "
   ]
  },
  {
   "cell_type": "markdown",
   "id": "92e89463",
   "metadata": {},
   "source": [
    "**Observations**\n",
    "\n",
    "- Dropout mask:\n",
    "    - Dropout is used for regularisation, and it makes network less prone to overfitting. During dropout we kill the neurons during forward pass. Since the killed neurons don't contribue to the network learing process, we don't flow the gradients through them while during backward pass. Hence, it is important to apply the dropout mask just before calculating the gradient with respect to the next hidden layer (gWk) in backward pass and kill the same neuron again.\n",
    "    - The dropout mask for forward and backward pass is the same.\n",
    "\n",
    "- Word embedding updation:\n",
    "    - In order to optimise the processing time, a one hot matrix is used. This allows us to update only relevant unique indexes with resepct to the given document(x). See the logic where `W[k][\"embedding_matrix\"]` is used in `backward_pass` function.\n",
    "    \n",
    "    "
   ]
  },
  {
   "cell_type": "markdown",
   "id": "133834e5",
   "metadata": {},
   "source": [
    "### Shuffle function\n",
    "\n",
    "We will now create a `shuffle` function that is used to shuffle the dataset before starting the training. This would ensure that the dataset is generalised during training in order to avoid the overfitting. The function take inputs:\n",
    "\n",
    "- `X`: A list of word indexes of the training dataset\n",
    "- `Y`: A list of labels of the training dataset corresponding to given X\n",
    "\n",
    "and returns:\n",
    "\n",
    "- `X_shuffled`: The shuffled list of `X`\n",
    "- `Y_shuffled`: The shuffled list of `Y` corresponding to the respective `X`"
   ]
  },
  {
   "cell_type": "code",
   "execution_count": 33,
   "id": "8f5fd0af",
   "metadata": {},
   "outputs": [],
   "source": [
    "def shuffle(X, Y):\n",
    "    indexes = np.arange(len(X))\n",
    "    np.random.shuffle(indexes)\n",
    "    X_shuffled = X[indexes]\n",
    "    Y_shuffled = Y[indexes]\n",
    "    return X_shuffled.tolist(), Y_shuffled.tolist()"
   ]
  },
  {
   "cell_type": "code",
   "execution_count": 34,
   "id": "42e0af9a",
   "metadata": {},
   "outputs": [],
   "source": [
    "def on_hot_vector(idx, size):\n",
    "    x = np.zerors(size, dtype=np.int)\n",
    "    x[idx] = 1\n",
    "    return x"
   ]
  },
  {
   "cell_type": "markdown",
   "id": "7e90246d",
   "metadata": {},
   "source": [
    "### Stochastic Gradient Descent function\n",
    "\n",
    "We are going to create a stochastic gradient descent function `SGD` to support back-propagation by using the `forward_pass` and `backward_pass` function. It takes as inputs:\n",
    "- `X_tr`: A vector of training data\n",
    "- `Y_tr`: A vector of labels for training data\n",
    "- `W`: The weights of the network (dictionary)\n",
    "- `X_dev`: A vector of dev data\n",
    "- `Y_dev`: A vector labels for dev data\n",
    "- `lr`: Learning rate\n",
    "- `dropout`: Regularisation strength\n",
    "- `epochs`: Number of full passes over the training data\n",
    "- `tolerance`: Stop training if the difference between the current and previous vaildation loss is smaller than the threshold\n",
    "- `freeze_emb`: A boolean value indicating whether the embedding weights will be updated or not\n",
    "- `print_progress`: Flag for printing the training progress\n",
    "\n",
    "and returns:\n",
    "- `weights`: The learned weights\n",
    "- `training_loss_history`: A vector of the average losses of the entire training set after each epoch\n",
    "- `validation_loss_history`: A vector of the average losses of the entire validation set after each epoch"
   ]
  },
  {
   "cell_type": "code",
   "execution_count": 35,
   "id": "4d5fa2b7",
   "metadata": {},
   "outputs": [],
   "source": [
    "def SGD(X_tr, Y_tr, W, X_dev=[], Y_dev=[], lr=0.001, dropout=0.2, \n",
    "        epochs=5, tolerance=0.001, freeze_emb=False, print_progress=True):\n",
    "    \n",
    "    training_loss_history = []\n",
    "    validation_loss_history = []\n",
    "    \n",
    "    # Randomise the order of the training dataset\n",
    "    X_tr, Y_tr = shuffle(np.array(X_tr, dtype=object), np.array(Y_tr))\n",
    "        \n",
    "    for epoch in tnrange(epochs, desc=\"Epochs\"):\n",
    "        \n",
    "        # Iterate through the dataset\n",
    "        for i, x in enumerate(X_tr):\n",
    "            \n",
    "            # Forward pass\n",
    "            out_vals = forward_pass(x, W, dropout_rate=dropout)\n",
    "            \n",
    "            # Backward pass\n",
    "            W = backward_pass(X_tr[i], Y_tr[i], W, out_vals, lr, freeze_emb)\n",
    "            \n",
    "        # Calculate loss\n",
    "        train_loss = categorical_loss(X_tr, Y_tr, W)\n",
    "        val_loss = categorical_loss(X_dev, Y_dev, W)\n",
    "        \n",
    "        if print_progress:\n",
    "            diff = 0.0\n",
    "            if epoch > 0:\n",
    "                diff = np.abs(val_loss - validation_loss_history[-1])\n",
    "            \n",
    "            if (epoch > 0 and val_loss <0.5 and diff <= tolerance):\n",
    "                print(f'{epoch + 1}, Training Loss: {train_loss:.5f}, Validation Loss: {val_loss:.5f}, Diff(Val Loss): {diff:.5f}')\n",
    "                print('Tolerance encountered. Stop the training.')\n",
    "                break\n",
    "            if (int((epoch+1)%5)) == 0:\n",
    "                print(f'{epoch + 1}, Training Loss: {train_loss:.5f}, Validation Loss: {val_loss:.5f}, Diff(Val Loss): {diff:.5f}')\n",
    "        \n",
    "        training_loss_history.append(train_loss)\n",
    "        validation_loss_history.append(val_loss)\n",
    "\n",
    "    return W, training_loss_history, validation_loss_history\n"
   ]
  },
  {
   "cell_type": "code",
   "execution_count": 36,
   "id": "ca360aac",
   "metadata": {},
   "outputs": [],
   "source": [
    "# We will now create the function to plot the losses\n",
    "def plot_loss(loss_tr, loss_val):\n",
    "    fig, ax = plt.subplots(1, figsize=(10,5))\n",
    "    ax.plot(loss_tr, color='red', label='Training Loss')\n",
    "    ax.plot(loss_val, color='blue', label='Validation Loss')\n",
    "    ax.set_title(\"Epoch-wise loss\")\n",
    "    ax.set_xlabel(\"Epoch\")\n",
    "    ax.set_ylabel(\"Loss\")\n",
    "    ax.legend(fancybox=True, framealpha=1, shadow=True, borderpad=1)\n",
    "    SMALL_SIZE=12\n",
    "    MEDIUM_SIZE=14\n",
    "    BIGGER_SIZE=16\n",
    "\n",
    "    plt.rc('font', size=SMALL_SIZE)          # controls default text sizes\n",
    "    plt.rc('axes', titlesize=SMALL_SIZE)     # fontsize of the axes title\n",
    "    plt.rc('axes', labelsize=MEDIUM_SIZE)    # fontsize of the x and y labels\n",
    "    plt.rc('xtick', labelsize=SMALL_SIZE)    # fontsize of the tick labels\n",
    "    plt.rc('ytick', labelsize=SMALL_SIZE)    # fontsize of the tick labels\n",
    "    plt.rc('legend', fontsize=SMALL_SIZE)    # legend fontsize\n",
    "    plt.rc('figure', titlesize=BIGGER_SIZE)  # fontsize of the figure title\n",
    "    \n",
    "    plt.show()"
   ]
  },
  {
   "cell_type": "markdown",
   "id": "3d50c69f",
   "metadata": {},
   "source": [
    "We are not ready to train and evaluate our Feedforward neural network."
   ]
  },
  {
   "cell_type": "code",
   "execution_count": 37,
   "id": "03a5104e",
   "metadata": {},
   "outputs": [],
   "source": [
    "def train_and_evaluate(params_list, embedding_matrix=None):\n",
    "    for i, params in enumerate(params_list):\n",
    "        \n",
    "        # Resetting seed because of randomness processing\n",
    "        set_seed()\n",
    "        \n",
    "        print(f'\\n')\n",
    "        print(f'params: {json.dumps(params, indent=4)}')\n",
    "        \n",
    "        # Define network weights\n",
    "        W = network_weights(vocab_size=params[\"vocab_size\"],\n",
    "                            embedding_dim=params[\"embedding_dim\"],\n",
    "                            hidden_dim=params[\"hidden_dim\"],\n",
    "                            num_classes=params[\"num_classes\"],\n",
    "                            init_val=params[\"init_val\"])\n",
    "        \n",
    "        # Print network weights\n",
    "        for i in range(len(W)):\n",
    "            if i==0:\n",
    "                print(f'Shape W{str(i)}, {W[i][\"embedding_matrix\"].shape}')\n",
    "            else:\n",
    "                print(f'Shape W{str(i)}, {W[i][\"weights\"].shape}')\n",
    "        \n",
    "        # Replace the weights of the embedding matrix\n",
    "        if embedding_matrix is not None:\n",
    "            W[0][\"embedding_matrix\"] = embedding_matrix\n",
    "            \n",
    "        \n",
    "        # Train the model\n",
    "        W, loss_tr, loss_val = SGD(X_tr=news_Xtrain_ngrams_indices, \n",
    "                                   Y_tr=news_ytrain, W=W,\n",
    "                                   X_dev=news_Xdev_ngrams_indices,\n",
    "                                   Y_dev=news_ydev,\n",
    "                                   lr=params[\"lr\"],\n",
    "                                   dropout=params[\"dropout\"],\n",
    "                                   freeze_emb=params[\"freeze_emb\"],\n",
    "                                   tolerance=params[\"tolerance\"],\n",
    "                                   epochs=params[\"epochs\"])\n",
    "        print(\"Learning process:\\n\")\n",
    "        plot_loss(loss_tr, loss_val)\n",
    "        \n",
    "        print(\"Compute accuracy, precision, recall, and F1-score:\\n\")\n",
    "        X_te = news_Xtest_ngrams_indices\n",
    "        Y_te = news_ytest\n",
    "        pred_te = [np.argmax(forward_pass(x, W, dropout_rate=0.0)['y_pred'])+1 for x,y in zip(X_te, Y_te)]\n",
    "        \n",
    "        print(f\"Accuracy: {accuracy_score(Y_te, pred_te)}\")\n",
    "        print(f\"Precision: {precision_score(Y_te, pred_te, average='macro')}\")\n",
    "        print(f\"Recall: {recall_score(Y_te, pred_te, average='macro')}\")\n",
    "        print(f\"F1-score: {f1_score(Y_te, pred_te, average='macro')}\")\n",
    "        \n",
    "        "
   ]
  },
  {
   "cell_type": "code",
   "execution_count": 38,
   "id": "4d3096d1",
   "metadata": {
    "scrolled": false
   },
   "outputs": [
    {
     "name": "stdout",
     "output_type": "stream",
     "text": [
      "\n",
      "\n",
      "params: {\n",
      "    \"vocab_size\": 2000,\n",
      "    \"embedding_dim\": 100,\n",
      "    \"hidden_dim\": [],\n",
      "    \"lr\": 0.01,\n",
      "    \"dropout\": 0.0,\n",
      "    \"tolerance\": 0.0001,\n",
      "    \"epochs\": 200,\n",
      "    \"freeze_emb\": false,\n",
      "    \"init_val\": 0.1,\n",
      "    \"num_classes\": 3\n",
      "}\n",
      "Shape W0, (2000, 100)\n",
      "Shape W1, (100, 3)\n"
     ]
    },
    {
     "data": {
      "application/vnd.jupyter.widget-view+json": {
       "model_id": "b3bd68f063c14d4ea48640f4a4c6b5ef",
       "version_major": 2,
       "version_minor": 0
      },
      "text/plain": [
       "Epochs:   0%|          | 0/200 [00:00<?, ?it/s]"
      ]
     },
     "metadata": {},
     "output_type": "display_data"
    },
    {
     "name": "stdout",
     "output_type": "stream",
     "text": [
      "5, Training Loss: 1.08176, Validation Loss: 1.08827, Diff(Val Loss): 0.00368\n",
      "10, Training Loss: 0.95137, Validation Loss: 1.00487, Diff(Val Loss): 0.03229\n",
      "15, Training Loss: 0.64679, Validation Loss: 0.73781, Diff(Val Loss): 0.05815\n",
      "20, Training Loss: 0.40476, Validation Loss: 0.48987, Diff(Val Loss): 0.03839\n",
      "25, Training Loss: 0.27824, Validation Loss: 0.37187, Diff(Val Loss): 0.01636\n",
      "30, Training Loss: 0.20911, Validation Loss: 0.31914, Diff(Val Loss): 0.00769\n",
      "35, Training Loss: 0.16459, Validation Loss: 0.29342, Diff(Val Loss): 0.00384\n",
      "40, Training Loss: 0.13362, Validation Loss: 0.28072, Diff(Val Loss): 0.00184\n",
      "45, Training Loss: 0.11104, Validation Loss: 0.27470, Diff(Val Loss): 0.00086\n",
      "50, Training Loss: 0.09408, Validation Loss: 0.27211, Diff(Val Loss): 0.00034\n",
      "55, Training Loss: 0.08100, Validation Loss: 0.27132, Diff(Val Loss): 0.00005\n",
      "Tolerance encountered. Stop the training.\n",
      "Learning process:\n",
      "\n"
     ]
    },
    {
     "data": {
      "image/png": "[encoded data removed]",
      "text/plain": [
       "<Figure size 720x360 with 1 Axes>"
      ]
     },
     "metadata": {
      "needs_background": "light"
     },
     "output_type": "display_data"
    },
    {
     "name": "stdout",
     "output_type": "stream",
     "text": [
      "Compute accuracy, precision, recall, and F1-score:\n",
      "\n",
      "Accuracy: 0.8533333333333334\n",
      "Precision: 0.8559131382021409\n",
      "Recall: 0.8533333333333334\n",
      "F1-score: 0.8535778880880915\n",
      "\n",
      "\n",
      "params: {\n",
      "    \"vocab_size\": 2000,\n",
      "    \"embedding_dim\": 100,\n",
      "    \"hidden_dim\": [],\n",
      "    \"lr\": 0.005,\n",
      "    \"dropout\": 0.0,\n",
      "    \"tolerance\": 0.0001,\n",
      "    \"epochs\": 200,\n",
      "    \"freeze_emb\": false,\n",
      "    \"init_val\": 0.5,\n",
      "    \"num_classes\": 3\n",
      "}\n",
      "Shape W0, (2000, 100)\n",
      "Shape W1, (100, 3)\n"
     ]
    },
    {
     "name": "stderr",
     "output_type": "stream",
     "text": [
      "<ipython-input-29-6ba4b77a1d63>:24: RuntimeWarning: invalid value encountered in true_divide\n",
      "  h = (np.dot(weights.T, ones_vector) / len(x_in)) + bias\n"
     ]
    },
    {
     "data": {
      "application/vnd.jupyter.widget-view+json": {
       "model_id": "92eb4e3bd57f460fb0ef8d9865598a80",
       "version_major": 2,
       "version_minor": 0
      },
      "text/plain": [
       "Epochs:   0%|          | 0/200 [00:00<?, ?it/s]"
      ]
     },
     "metadata": {},
     "output_type": "display_data"
    },
    {
     "name": "stdout",
     "output_type": "stream",
     "text": [
      "5, Training Loss: 0.99539, Validation Loss: 1.03601, Diff(Val Loss): 0.01415\n",
      "10, Training Loss: 0.86886, Validation Loss: 0.94757, Diff(Val Loss): 0.02028\n",
      "15, Training Loss: 0.72413, Validation Loss: 0.83384, Diff(Val Loss): 0.02353\n",
      "20, Training Loss: 0.59411, Validation Loss: 0.72155, Diff(Val Loss): 0.02125\n",
      "25, Training Loss: 0.49023, Validation Loss: 0.62768, Diff(Val Loss): 0.01704\n",
      "30, Training Loss: 0.41033, Validation Loss: 0.55514, Diff(Val Loss): 0.01290\n",
      "35, Training Loss: 0.34895, Validation Loss: 0.50154, Diff(Val Loss): 0.00945\n",
      "40, Training Loss: 0.30084, Validation Loss: 0.46201, Diff(Val Loss): 0.00696\n",
      "45, Training Loss: 0.26217, Validation Loss: 0.43259, Diff(Val Loss): 0.00523\n",
      "50, Training Loss: 0.23030, Validation Loss: 0.41009, Diff(Val Loss): 0.00403\n",
      "55, Training Loss: 0.20372, Validation Loss: 0.39269, Diff(Val Loss): 0.00312\n",
      "60, Training Loss: 0.18130, Validation Loss: 0.37940, Diff(Val Loss): 0.00238\n",
      "65, Training Loss: 0.16226, Validation Loss: 0.36915, Diff(Val Loss): 0.00186\n",
      "70, Training Loss: 0.14598, Validation Loss: 0.36123, Diff(Val Loss): 0.00144\n",
      "75, Training Loss: 0.13195, Validation Loss: 0.35515, Diff(Val Loss): 0.00108\n",
      "80, Training Loss: 0.11980, Validation Loss: 0.35053, Diff(Val Loss): 0.00082\n",
      "85, Training Loss: 0.10924, Validation Loss: 0.34706, Diff(Val Loss): 0.00059\n",
      "90, Training Loss: 0.10000, Validation Loss: 0.34444, Diff(Val Loss): 0.00044\n",
      "95, Training Loss: 0.09192, Validation Loss: 0.34243, Diff(Val Loss): 0.00037\n",
      "100, Training Loss: 0.08481, Validation Loss: 0.34088, Diff(Val Loss): 0.00028\n",
      "105, Training Loss: 0.07854, Validation Loss: 0.33978, Diff(Val Loss): 0.00019\n",
      "110, Training Loss: 0.07297, Validation Loss: 0.33900, Diff(Val Loss): 0.00013\n",
      "113, Training Loss: 0.06992, Validation Loss: 0.33869, Diff(Val Loss): 0.00009\n",
      "Tolerance encountered. Stop the training.\n",
      "Learning process:\n",
      "\n"
     ]
    },
    {
     "data": {
      "image/png": "[encoded data removed]",
      "text/plain": [
       "<Figure size 720x360 with 1 Axes>"
      ]
     },
     "metadata": {
      "needs_background": "light"
     },
     "output_type": "display_data"
    },
    {
     "name": "stdout",
     "output_type": "stream",
     "text": [
      "Compute accuracy, precision, recall, and F1-score:\n",
      "\n",
      "Accuracy: 0.8411111111111111\n",
      "Precision: 0.8448887213360247\n",
      "Recall: 0.8411111111111111\n",
      "F1-score: 0.841664667609043\n"
     ]
    },
    {
     "name": "stderr",
     "output_type": "stream",
     "text": [
      "<ipython-input-29-6ba4b77a1d63>:24: RuntimeWarning: invalid value encountered in true_divide\n",
      "  h = (np.dot(weights.T, ones_vector) / len(x_in)) + bias\n"
     ]
    }
   ],
   "source": [
    "params_list = [\n",
    "    {\"vocab_size\":len(news_vocab),\n",
    "     \"embedding_dim\":100,\n",
    "     \"hidden_dim\":[],\n",
    "     \"lr\":0.01,\n",
    "     \"dropout\":0.0,\n",
    "     \"tolerance\":0.0001,\n",
    "     \"epochs\":200,\n",
    "     \"freeze_emb\":False,\n",
    "     \"init_val\":0.1,\n",
    "     \"num_classes\":3\n",
    "    },\n",
    "    {\"vocab_size\":len(news_vocab), \n",
    "     \"embedding_dim\":100, \n",
    "     \"hidden_dim\":[], \n",
    "     \"lr\":0.005, \n",
    "     \"dropout\":0.0, \n",
    "     \"tolerance\":0.0001, \n",
    "     \"epochs\":200, \n",
    "     \"freeze_emb\":False, \n",
    "     \"init_val\":0.5, \n",
    "     \"num_classes\":3\n",
    "    },\n",
    "          \n",
    "]\n",
    "\n",
    "train_and_evaluate(params_list)"
   ]
  },
  {
   "cell_type": "markdown",
   "id": "07924536",
   "metadata": {},
   "source": [
    "The graph shows that training and validation losses are gradually declining at the same rate. Which means the model trained on the training data is able to give good accuracy on validation data too at the same rate. Another measure of conclusion is that the overall accuracy, Precision, Recall and F1-Score of the test dataset is more that 80.00% which is satisfactory performance. This indicates that the model is fitting about right."
   ]
  },
  {
   "cell_type": "markdown",
   "id": "f9a2c29a",
   "metadata": {},
   "source": [
    "# Implement pre-trained word embeddings (GloVe)"
   ]
  },
  {
   "cell_type": "markdown",
   "id": "b6319461",
   "metadata": {},
   "source": [
    "We are going to re-train the existing network wih GloVe embeddings without updating the weights and see the performance of the existing feedforward neural network. Global Vectors for Word Representation (GloVe) is an unsupervised learning algorithm for obtaining vector representations for words. Training is performed on aggregated global word-word co-occurrence statistics from a corpus, and the resulting representations showcase interesting linear substructures of the word vector space.\n",
    "\n",
    "Before proceeding, please download the GloVe embeddings from [here](http://nlp.stanford.edu/data/glove.840B.300d.zip) and put into `data` folder.\n",
    "\n",
    "Let's now create a function that processes the GloVe embeddings zip file and returns the word embeddings representation."
   ]
  },
  {
   "cell_type": "code",
   "execution_count": 39,
   "id": "21804d1d",
   "metadata": {},
   "outputs": [],
   "source": [
    "def get_glove_embeddings(f_zip, f_txt, word2id, vocab, emb_size=300):\n",
    "    w_emb = np.zeros((len(word2id), emb_size))\n",
    "    with zipfile.ZipFile(f_zip) as z:\n",
    "        with z.open(f_txt) as f:\n",
    "            for line in f:\n",
    "                line = line.decode('utf-8')\n",
    "                word = line.split()[0]\n",
    "                if word in vocab:\n",
    "                    emb = np.array(line.strip('\\n').split()[1:]).astype(np.float32)\n",
    "                    w_emb[word2id[word]] += emb\n",
    "    return w_emb\n",
    "    "
   ]
  },
  {
   "cell_type": "code",
   "execution_count": 40,
   "id": "1eb45564",
   "metadata": {},
   "outputs": [],
   "source": [
    "w_glove = get_glove_embeddings(\"./data/glove.840B.300d.zip\", \"glove.840B.300d.txt\", word2id, news_vocab)\n"
   ]
  },
  {
   "cell_type": "markdown",
   "id": "7998dfe9",
   "metadata": {},
   "source": [
    "We are not going to use this new GloVe embeddings into our network by freezing the network weights updation. Note the hyperparameter `freeze_emb=True`."
   ]
  },
  {
   "cell_type": "code",
   "execution_count": 41,
   "id": "98d25fd5",
   "metadata": {},
   "outputs": [
    {
     "name": "stdout",
     "output_type": "stream",
     "text": [
      "\n",
      "\n",
      "params: {\n",
      "    \"vocab_size\": 2000,\n",
      "    \"embedding_dim\": 300,\n",
      "    \"hidden_dim\": [],\n",
      "    \"lr\": 0.001,\n",
      "    \"dropout\": 0.2,\n",
      "    \"tolerance\": 0.0001,\n",
      "    \"epochs\": 200,\n",
      "    \"freeze_emb\": true,\n",
      "    \"init_val\": 0.1,\n",
      "    \"num_classes\": 3\n",
      "}\n",
      "Shape W0, (2000, 300)\n",
      "Shape W1, (300, 3)\n"
     ]
    },
    {
     "data": {
      "application/vnd.jupyter.widget-view+json": {
       "model_id": "63dba5514e5b413788779f5736201861",
       "version_major": 2,
       "version_minor": 0
      },
      "text/plain": [
       "Epochs:   0%|          | 0/200 [00:00<?, ?it/s]"
      ]
     },
     "metadata": {},
     "output_type": "display_data"
    },
    {
     "name": "stdout",
     "output_type": "stream",
     "text": [
      "5, Training Loss: 0.72967, Validation Loss: 0.74532, Diff(Val Loss): 0.05030\n",
      "10, Training Loss: 0.57619, Validation Loss: 0.58201, Diff(Val Loss): 0.02499\n",
      "15, Training Loss: 0.50010, Validation Loss: 0.49366, Diff(Val Loss): 0.01329\n",
      "20, Training Loss: 0.45748, Validation Loss: 0.43904, Diff(Val Loss): 0.00951\n",
      "25, Training Loss: 0.42866, Validation Loss: 0.40021, Diff(Val Loss): 0.00726\n",
      "30, Training Loss: 0.40897, Validation Loss: 0.37392, Diff(Val Loss): 0.00407\n",
      "35, Training Loss: 0.39615, Validation Loss: 0.35463, Diff(Val Loss): 0.00326\n",
      "40, Training Loss: 0.38435, Validation Loss: 0.33758, Diff(Val Loss): 0.00347\n",
      "45, Training Loss: 0.37714, Validation Loss: 0.32594, Diff(Val Loss): 0.00167\n",
      "50, Training Loss: 0.36991, Validation Loss: 0.31507, Diff(Val Loss): 0.00153\n",
      "55, Training Loss: 0.36462, Validation Loss: 0.30542, Diff(Val Loss): 0.00289\n",
      "60, Training Loss: 0.35992, Validation Loss: 0.29808, Diff(Val Loss): 0.00163\n",
      "65, Training Loss: 0.35623, Validation Loss: 0.29199, Diff(Val Loss): 0.00151\n",
      "70, Training Loss: 0.35241, Validation Loss: 0.28645, Diff(Val Loss): 0.00036\n",
      "75, Training Loss: 0.34986, Validation Loss: 0.28045, Diff(Val Loss): 0.00087\n",
      "80, Training Loss: 0.34713, Validation Loss: 0.27579, Diff(Val Loss): 0.00119\n",
      "85, Training Loss: 0.34486, Validation Loss: 0.27215, Diff(Val Loss): 0.00089\n",
      "87, Training Loss: 0.34335, Validation Loss: 0.27130, Diff(Val Loss): 0.00005\n",
      "Tolerance encountered. Stop the training.\n",
      "Learning process:\n",
      "\n"
     ]
    },
    {
     "data": {
      "image/png": "[encoded data removed]",
      "text/plain": [
       "<Figure size 720x360 with 1 Axes>"
      ]
     },
     "metadata": {
      "needs_background": "light"
     },
     "output_type": "display_data"
    },
    {
     "name": "stdout",
     "output_type": "stream",
     "text": [
      "Compute accuracy, precision, recall, and F1-score:\n",
      "\n",
      "Accuracy: 0.8855555555555555\n",
      "Precision: 0.8859488311824865\n",
      "Recall: 0.8855555555555555\n",
      "F1-score: 0.8854561125798085\n"
     ]
    },
    {
     "name": "stderr",
     "output_type": "stream",
     "text": [
      "<ipython-input-29-6ba4b77a1d63>:24: RuntimeWarning: invalid value encountered in true_divide\n",
      "  h = (np.dot(weights.T, ones_vector) / len(x_in)) + bias\n"
     ]
    }
   ],
   "source": [
    "params_list = [\n",
    "    {\n",
    "        \"vocab_size\":len(news_vocab),\n",
    "        \"embedding_dim\":300,\n",
    "        \"hidden_dim\":[],\n",
    "        \"lr\":0.001, \n",
    "        \"dropout\":0.2,\n",
    "        \"tolerance\":0.0001, \n",
    "        \"epochs\":200, \n",
    "        \"freeze_emb\":True, \n",
    "        \"init_val\":0.1, \n",
    "        \"num_classes\":3\n",
    "    }\n",
    "]\n",
    "\n",
    "train_and_evaluate(params_list, embedding_matrix=w_glove)"
   ]
  },
  {
   "cell_type": "markdown",
   "id": "d2c8fb97",
   "metadata": {},
   "source": [
    "The graph shows that training and validation losses are gradually declining with `elbow shaped` curve . The model trained in this fashion is able to give good accuracy on validation dataset at the same rate. Another measure of conclusion is that the overall accuracy, Precision, Recall and F1-Score of the test dataset is more that 85.00% which is quit satisfactory number compared to the constraint of vocabulary size that we took. This indicates that the model is fitting about right."
   ]
  },
  {
   "cell_type": "markdown",
   "id": "8ca64dfa",
   "metadata": {},
   "source": [
    "# Implement More hidden layers"
   ]
  },
  {
   "cell_type": "markdown",
   "id": "d274e596",
   "metadata": {},
   "source": [
    "We are finally extending the hidden layers to check if the deeper architectures increase the performance. Note the hyperparameter `hidden_dim`. We also need to finetune the other hyperparameters in order to get the best performance. you can play around different combinations but I just showing one."
   ]
  },
  {
   "cell_type": "code",
   "execution_count": 43,
   "id": "360dfaf0",
   "metadata": {},
   "outputs": [
    {
     "name": "stdout",
     "output_type": "stream",
     "text": [
      "\n",
      "\n",
      "params: {\n",
      "    \"vocab_size\": 2000,\n",
      "    \"embedding_dim\": 300,\n",
      "    \"hidden_dim\": [\n",
      "        100\n",
      "    ],\n",
      "    \"lr\": 0.0005,\n",
      "    \"dropout\": 0.0,\n",
      "    \"tolerance\": 0.005,\n",
      "    \"epochs\": 200,\n",
      "    \"freeze_emb\": true,\n",
      "    \"init_val\": 0.1,\n",
      "    \"num_classes\": 3\n",
      "}\n",
      "Shape W0, (2000, 300)\n",
      "Shape W1, (300, 100)\n",
      "Shape W2, (100, 3)\n"
     ]
    },
    {
     "data": {
      "application/vnd.jupyter.widget-view+json": {
       "model_id": "db492f1d2fbf404d8b3a282df96c8c03",
       "version_major": 2,
       "version_minor": 0
      },
      "text/plain": [
       "Epochs:   0%|          | 0/200 [00:00<?, ?it/s]"
      ]
     },
     "metadata": {},
     "output_type": "display_data"
    },
    {
     "name": "stdout",
     "output_type": "stream",
     "text": [
      "5, Training Loss: 0.92543, Validation Loss: 0.94417, Diff(Val Loss): 0.04851\n",
      "10, Training Loss: 0.59349, Validation Loss: 0.62328, Diff(Val Loss): 0.05952\n",
      "15, Training Loss: 0.43712, Validation Loss: 0.44283, Diff(Val Loss): 0.02364\n",
      "20, Training Loss: 0.38495, Validation Loss: 0.36969, Diff(Val Loss): 0.01062\n",
      "25, Training Loss: 0.36038, Validation Loss: 0.33154, Diff(Val Loss): 0.00617\n",
      "28, Training Loss: 0.35042, Validation Loss: 0.31588, Diff(Val Loss): 0.00482\n",
      "Tolerance encountered. Stop the training.\n",
      "Learning process:\n",
      "\n"
     ]
    },
    {
     "data": {
      "image/png": "[encoded data removed]",
      "text/plain": [
       "<Figure size 720x360 with 1 Axes>"
      ]
     },
     "metadata": {
      "needs_background": "light"
     },
     "output_type": "display_data"
    },
    {
     "name": "stdout",
     "output_type": "stream",
     "text": [
      "Compute accuracy, precision, recall, and F1-score:\n",
      "\n"
     ]
    },
    {
     "name": "stderr",
     "output_type": "stream",
     "text": [
      "<ipython-input-29-6ba4b77a1d63>:24: RuntimeWarning: invalid value encountered in true_divide\n",
      "  h = (np.dot(weights.T, ones_vector) / len(x_in)) + bias\n"
     ]
    },
    {
     "name": "stdout",
     "output_type": "stream",
     "text": [
      "Accuracy: 0.8855555555555555\n",
      "Precision: 0.8862239658547543\n",
      "Recall: 0.8855555555555555\n",
      "F1-score: 0.8854612467513175\n",
      "\n",
      "\n",
      "params: {\n",
      "    \"vocab_size\": 2000,\n",
      "    \"embedding_dim\": 300,\n",
      "    \"hidden_dim\": [\n",
      "        100,\n",
      "        50\n",
      "    ],\n",
      "    \"lr\": 5e-05,\n",
      "    \"dropout\": 0.1,\n",
      "    \"tolerance\": 0.0001,\n",
      "    \"epochs\": 200,\n",
      "    \"freeze_emb\": true,\n",
      "    \"init_val\": 0.5,\n",
      "    \"num_classes\": 3\n",
      "}\n",
      "Shape W0, (2000, 300)\n",
      "Shape W1, (300, 100)\n",
      "Shape W2, (100, 50)\n",
      "Shape W3, (50, 3)\n"
     ]
    },
    {
     "data": {
      "application/vnd.jupyter.widget-view+json": {
       "model_id": "edbf428bdcf54665b01799691ae204c7",
       "version_major": 2,
       "version_minor": 0
      },
      "text/plain": [
       "Epochs:   0%|          | 0/200 [00:00<?, ?it/s]"
      ]
     },
     "metadata": {},
     "output_type": "display_data"
    },
    {
     "name": "stdout",
     "output_type": "stream",
     "text": [
      "5, Training Loss: 0.95108, Validation Loss: 1.01692, Diff(Val Loss): 0.06152\n",
      "10, Training Loss: 0.75954, Validation Loss: 0.81679, Diff(Val Loss): 0.03036\n",
      "15, Training Loss: 0.65011, Validation Loss: 0.70137, Diff(Val Loss): 0.02182\n",
      "20, Training Loss: 0.57992, Validation Loss: 0.62940, Diff(Val Loss): 0.01286\n",
      "25, Training Loss: 0.53140, Validation Loss: 0.57769, Diff(Val Loss): 0.00682\n",
      "30, Training Loss: 0.49487, Validation Loss: 0.53971, Diff(Val Loss): 0.00552\n",
      "35, Training Loss: 0.46960, Validation Loss: 0.50928, Diff(Val Loss): 0.00564\n",
      "40, Training Loss: 0.45006, Validation Loss: 0.48409, Diff(Val Loss): 0.00586\n",
      "45, Training Loss: 0.43431, Validation Loss: 0.46525, Diff(Val Loss): 0.00395\n",
      "50, Training Loss: 0.42337, Validation Loss: 0.44678, Diff(Val Loss): 0.00308\n",
      "55, Training Loss: 0.41272, Validation Loss: 0.43235, Diff(Val Loss): 0.00388\n",
      "60, Training Loss: 0.40615, Validation Loss: 0.41819, Diff(Val Loss): 0.00240\n",
      "65, Training Loss: 0.40004, Validation Loss: 0.40579, Diff(Val Loss): 0.00417\n",
      "70, Training Loss: 0.39566, Validation Loss: 0.39579, Diff(Val Loss): 0.00300\n",
      "75, Training Loss: 0.38991, Validation Loss: 0.38854, Diff(Val Loss): 0.00238\n",
      "78, Training Loss: 0.38726, Validation Loss: 0.38385, Diff(Val Loss): 0.00006\n",
      "Tolerance encountered. Stop the training.\n",
      "Learning process:\n",
      "\n"
     ]
    },
    {
     "data": {
      "image/png": "[encoded data removed]",
      "text/plain": [
       "<Figure size 720x360 with 1 Axes>"
      ]
     },
     "metadata": {
      "needs_background": "light"
     },
     "output_type": "display_data"
    },
    {
     "name": "stdout",
     "output_type": "stream",
     "text": [
      "Compute accuracy, precision, recall, and F1-score:\n",
      "\n"
     ]
    },
    {
     "name": "stderr",
     "output_type": "stream",
     "text": [
      "<ipython-input-29-6ba4b77a1d63>:24: RuntimeWarning: invalid value encountered in true_divide\n",
      "  h = (np.dot(weights.T, ones_vector) / len(x_in)) + bias\n"
     ]
    },
    {
     "name": "stdout",
     "output_type": "stream",
     "text": [
      "Accuracy: 0.8488888888888889\n",
      "Precision: 0.8494596231676858\n",
      "Recall: 0.8488888888888889\n",
      "F1-score: 0.8485407858630648\n"
     ]
    }
   ],
   "source": [
    "params_list = [\n",
    "    {\n",
    "        \"vocab_size\":len(news_vocab), \n",
    "         \"embedding_dim\":300, \n",
    "         \"hidden_dim\":[100], \n",
    "         \"lr\":0.0005, \n",
    "         \"dropout\":0.0,\n",
    "         \"tolerance\":0.005, \n",
    "         \"epochs\":200, \n",
    "         \"freeze_emb\":True, \n",
    "         \"init_val\":0.1, \n",
    "         \"num_classes\":3\n",
    "    },\n",
    "    \n",
    "    {\n",
    "        \"vocab_size\":len(news_vocab), \n",
    "        \"embedding_dim\":300, \n",
    "        \"hidden_dim\":[100, 50], \n",
    "        \"lr\":0.00005, \n",
    "        \"dropout\":0.1,\n",
    "        \"tolerance\":0.0001, \n",
    "        \"epochs\":200, \n",
    "        \"freeze_emb\":True, \n",
    "        \"init_val\":0.5, \n",
    "        \"num_classes\":3\n",
    "    }\n",
    "          \n",
    "]\n",
    "\n",
    "train_and_evaluate(params_list, embedding_matrix=w_glove)"
   ]
  },
  {
   "cell_type": "markdown",
   "id": "a438c969",
   "metadata": {},
   "source": [
    "The graph is inline with the previous two cases (i.e. (1) network without hidden layer and without Glove embeddings, (2) network without hidden layer and with GloVe embeddings). The performance is better than the previous two but it takes more training time.\n",
    "\n",
    "**Overall Observations:**\n",
    "\n",
    "- The idea behind the backpropagation is that we use the chain rule to calculate the derivative of loss. This calculation leads to the update of the respective weights in each layers.\n",
    "\n",
    "- The underflow or overflow of weights generally refers to as an instability of the network training process and is known by the name “exploding gradients” as the unstable training process causes the network to fail to train in such a way that the model is essentially useless. In a given feedforward neural network, this can happen due to a poor choice of hyperparameter combination. Some examples include:\n",
    "\n",
    "    - Poor choice of learning rate that results in large weight updates</span>\n",
    "    - Poor choice of initial values leading to jitteriness in the loss calculation during forward and backward pass\n",
    "    - Poor choice of data preparation, allowing large differences in the target variable\n",
    "    \n",
    "- Exploding gradients can be avoided in general by careful configuration of the network model, such as choice of small learning rate, scaled target variables (we used it in softmax to avoid nan and inf), and a standard loss function.\n",
    "\n",
    "**Numerical optimisation technique:**\n",
    "\n",
    "- Softmax function is not really a stable one because python frequently gets `NaN` and `inf` errors due to floating point limitation in NumPy. In order to avoid that we can multiply both the numerator and denominator with a constant. A popular choice of the constant is  (−max(z)).\n",
    "\n",
    "**Hyperparameters:**\n",
    "\n",
    "Depending on the hyperparameters used for training the word embeddings, we can find different levels of syntactic and semantic information about each word. Many factors can affect the quality of word embeddings, including the data on which they were trained. For instance \n",
    "- Number of embedding dimensions\n",
    "- Domain\n",
    "- Preprocessing steps involved in the training\n",
    "- and so on \n",
    "\n",
    "Below are some observations on experiments done on hyperparameters.\n",
    "\n",
    "- ***Vocabulary size:*** It's interesting to note that if we reduce the vocabulary size it will have a negative impact on the accuracy because some of words are not found in vocabulary. However, due to time consraints in this assignment, I used relatively small size for vocabulary.\n",
    "\n",
    "- ***Learning rate and init_val:*** Its observed that if the weights are initialised with high values and trained with higher learning rate, it starts reducing the loss fast during few epochs initially. However, it starts increasing the loss drastically later on.\n",
    "\n",
    "- ***Training time:*** The training time increases significantly after adding more hidden layers. However, the same setting for GloVe architecture requires less training time since we don't update the Glove embeddings during training.\n",
    "\n",
    "- ***Number of layers in the model:*** The number of layers in a neural network is an indicator of its complexity. We must be careful in choosing this value. Too many layers will allow the model to learn too much information about the training data, causing overfitting. Too few layers can limit the model’s learning ability, causing underfitting. So, For text classification datasets, **I experimented with one, two, and three hidden layers. Models with two hidden layers performed well, and in some cases better than three-layer models.**\n",
    "\n",
    "**Convergence:**\n",
    "- Since we are shuffling the training dataset before the training starts, the rate of convergence may vary slightly depending upon the size of the dataset.\n",
    "\n",
    "**Transfer Learning:** \n",
    "- Word embeddings provide a way of transfer learning, which means word vectors are initially learned using a large dataset containing several billion tokens and are fine-tuned on a smaller dataset for doing their specific task afterwards. This mechanism can be controlled by having word vectors frozen or fine-tuned through training."
   ]
  },
  {
   "cell_type": "code",
   "execution_count": null,
   "id": "5bef65d4",
   "metadata": {},
   "outputs": [],
   "source": []
  }
 ],
 "metadata": {
  "kernelspec": {
   "display_name": "Python 3",
   "language": "python",
   "name": "python3"
  },
  "language_info": {
   "codemirror_mode": {
    "name": "ipython",
    "version": 3
   },
   "file_extension": ".py",
   "mimetype": "text/x-python",
   "name": "python",
   "nbconvert_exporter": "python",
   "pygments_lexer": "ipython3",
   "version": "3.8.8"
  }
 },
 "nbformat": 4,
 "nbformat_minor": 5
}
